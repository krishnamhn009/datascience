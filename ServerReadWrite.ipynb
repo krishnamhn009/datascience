{
  "nbformat": 4,
  "nbformat_minor": 0,
  "metadata": {
    "colab": {
      "name": "DiskSpaceMonthly.ipynb",
      "provenance": [],
      "collapsed_sections": [],
      "authorship_tag": "ABX9TyPBcFe7ShRfFsAkt5Z2Dcrg",
      "include_colab_link": true
    },
    "kernelspec": {
      "name": "python3",
      "display_name": "Python 3"
    },
    "language_info": {
      "name": "python"
    }
  },
  "cells": [
    {
      "cell_type": "markdown",
      "metadata": {
        "id": "view-in-github",
        "colab_type": "text"
      },
      "source": [
        "<a href=\"https://colab.research.google.com/github/krishnamhn009/datascience/blob/master/ServerReadWrite.ipynb\" target=\"_parent\"><img src=\"https://colab.research.google.com/assets/colab-badge.svg\" alt=\"Open In Colab\"/></a>"
      ]
    },
    {
      "cell_type": "code",
      "execution_count": 98,
      "metadata": {
        "id": "j29-dlOI2CK9"
      },
      "outputs": [],
      "source": [
        "import pandas as pd\n",
        "import numpy as np\n",
        "import matplotlib.pyplot as plt"
      ]
    },
    {
      "cell_type": "code",
      "source": [
        "urlMonthly='/content/sample_data/Server_Disk_Monthly.csv'\n",
        "urlDaily='/content/sample_data/Server-Read-Write-Response-Daily1.csv'\n",
        "df = pd.read_csv(urlDaily,encoding = \"ISO-8859-1\",parse_dates=True) #index_col='ï»¿SampleDate',\n",
        "# df.index.freq='D'\n",
        "df.head()"
      ],
      "metadata": {
        "colab": {
          "base_uri": "https://localhost:8080/",
          "height": 357
        },
        "id": "t8ZuHeiC2GK1",
        "outputId": "1de762ba-3fd8-414d-8905-e210d6762151"
      },
      "execution_count": 243,
      "outputs": [
        {
          "output_type": "execute_result",
          "data": {
            "text/html": [
              "\n",
              "  <div id=\"df-d3c81dbc-68ea-4c4e-b070-a7b5909bce49\">\n",
              "    <div class=\"colab-df-container\">\n",
              "      <div>\n",
              "<style scoped>\n",
              "    .dataframe tbody tr th:only-of-type {\n",
              "        vertical-align: middle;\n",
              "    }\n",
              "\n",
              "    .dataframe tbody tr th {\n",
              "        vertical-align: top;\n",
              "    }\n",
              "\n",
              "    .dataframe thead th {\n",
              "        text-align: right;\n",
              "    }\n",
              "</style>\n",
              "<table border=\"1\" class=\"dataframe\">\n",
              "  <thead>\n",
              "    <tr style=\"text-align: right;\">\n",
              "      <th></th>\n",
              "      <th>ï»¿SampleDate</th>\n",
              "      <th>YearOfSample</th>\n",
              "      <th>MonthOfSample</th>\n",
              "      <th>DayOfSample</th>\n",
              "      <th>QuarterOfSample</th>\n",
              "      <th>SqlInstanceName</th>\n",
              "      <th>DatabaseName</th>\n",
              "      <th>CalcNumOfReads</th>\n",
              "      <th>CalcNumOfWrites</th>\n",
              "      <th>CalcNumOfBytesReadPerDay</th>\n",
              "      <th>CalcNumOfBytesWrittenPerDay</th>\n",
              "      <th>CalcNumOfTeraBytesReadPerDay</th>\n",
              "      <th>CalcNumOfTeraBytesWrittenPerDay</th>\n",
              "      <th>CalcSizeOnDiskBytes</th>\n",
              "    </tr>\n",
              "  </thead>\n",
              "  <tbody>\n",
              "    <tr>\n",
              "      <th>0</th>\n",
              "      <td>21-07-2020 00:00</td>\n",
              "      <td>2020</td>\n",
              "      <td>7</td>\n",
              "      <td>21</td>\n",
              "      <td>Q3</td>\n",
              "      <td>WSPE001618\\DEINSTANCE00</td>\n",
              "      <td>GCM_FS_Work</td>\n",
              "      <td>326269</td>\n",
              "      <td>22</td>\n",
              "      <td>328000000000</td>\n",
              "      <td>180224</td>\n",
              "      <td>0.30</td>\n",
              "      <td>0.00</td>\n",
              "      <td>327000000000</td>\n",
              "    </tr>\n",
              "    <tr>\n",
              "      <th>1</th>\n",
              "      <td>21-07-2020 00:00</td>\n",
              "      <td>2020</td>\n",
              "      <td>7</td>\n",
              "      <td>21</td>\n",
              "      <td>Q3</td>\n",
              "      <td>WSPE001618\\DEINSTANCE00</td>\n",
              "      <td>IFRS9_GCM_Freeze</td>\n",
              "      <td>13684</td>\n",
              "      <td>22</td>\n",
              "      <td>12055314432</td>\n",
              "      <td>180224</td>\n",
              "      <td>0.01</td>\n",
              "      <td>0.00</td>\n",
              "      <td>12884901888</td>\n",
              "    </tr>\n",
              "    <tr>\n",
              "      <th>2</th>\n",
              "      <td>21-07-2020 00:00</td>\n",
              "      <td>2020</td>\n",
              "      <td>7</td>\n",
              "      <td>21</td>\n",
              "      <td>Q3</td>\n",
              "      <td>WSPE001618\\DEINSTANCE00</td>\n",
              "      <td>CreditCore_GCM_Work</td>\n",
              "      <td>1202715</td>\n",
              "      <td>194460</td>\n",
              "      <td>1050000000000</td>\n",
              "      <td>131000000000</td>\n",
              "      <td>0.96</td>\n",
              "      <td>0.12</td>\n",
              "      <td>777000000000</td>\n",
              "    </tr>\n",
              "    <tr>\n",
              "      <th>3</th>\n",
              "      <td>21-07-2020 00:00</td>\n",
              "      <td>2020</td>\n",
              "      <td>7</td>\n",
              "      <td>21</td>\n",
              "      <td>Q3</td>\n",
              "      <td>WSPE001618\\DEINSTANCE00</td>\n",
              "      <td>DBA</td>\n",
              "      <td>27362</td>\n",
              "      <td>-5668</td>\n",
              "      <td>708001792</td>\n",
              "      <td>-1187880960</td>\n",
              "      <td>0.00</td>\n",
              "      <td>0.00</td>\n",
              "      <td>0</td>\n",
              "    </tr>\n",
              "    <tr>\n",
              "      <th>4</th>\n",
              "      <td>21-07-2020 00:00</td>\n",
              "      <td>2020</td>\n",
              "      <td>7</td>\n",
              "      <td>21</td>\n",
              "      <td>Q3</td>\n",
              "      <td>WSPE001618\\DEINSTANCE00</td>\n",
              "      <td>IFRS9_GCM_QA</td>\n",
              "      <td>2910</td>\n",
              "      <td>22</td>\n",
              "      <td>1491812352</td>\n",
              "      <td>180224</td>\n",
              "      <td>0.00</td>\n",
              "      <td>0.00</td>\n",
              "      <td>7516192768</td>\n",
              "    </tr>\n",
              "  </tbody>\n",
              "</table>\n",
              "</div>\n",
              "      <button class=\"colab-df-convert\" onclick=\"convertToInteractive('df-d3c81dbc-68ea-4c4e-b070-a7b5909bce49')\"\n",
              "              title=\"Convert this dataframe to an interactive table.\"\n",
              "              style=\"display:none;\">\n",
              "        \n",
              "  <svg xmlns=\"http://www.w3.org/2000/svg\" height=\"24px\"viewBox=\"0 0 24 24\"\n",
              "       width=\"24px\">\n",
              "    <path d=\"M0 0h24v24H0V0z\" fill=\"none\"/>\n",
              "    <path d=\"M18.56 5.44l.94 2.06.94-2.06 2.06-.94-2.06-.94-.94-2.06-.94 2.06-2.06.94zm-11 1L8.5 8.5l.94-2.06 2.06-.94-2.06-.94L8.5 2.5l-.94 2.06-2.06.94zm10 10l.94 2.06.94-2.06 2.06-.94-2.06-.94-.94-2.06-.94 2.06-2.06.94z\"/><path d=\"M17.41 7.96l-1.37-1.37c-.4-.4-.92-.59-1.43-.59-.52 0-1.04.2-1.43.59L10.3 9.45l-7.72 7.72c-.78.78-.78 2.05 0 2.83L4 21.41c.39.39.9.59 1.41.59.51 0 1.02-.2 1.41-.59l7.78-7.78 2.81-2.81c.8-.78.8-2.07 0-2.86zM5.41 20L4 18.59l7.72-7.72 1.47 1.35L5.41 20z\"/>\n",
              "  </svg>\n",
              "      </button>\n",
              "      \n",
              "  <style>\n",
              "    .colab-df-container {\n",
              "      display:flex;\n",
              "      flex-wrap:wrap;\n",
              "      gap: 12px;\n",
              "    }\n",
              "\n",
              "    .colab-df-convert {\n",
              "      background-color: #E8F0FE;\n",
              "      border: none;\n",
              "      border-radius: 50%;\n",
              "      cursor: pointer;\n",
              "      display: none;\n",
              "      fill: #1967D2;\n",
              "      height: 32px;\n",
              "      padding: 0 0 0 0;\n",
              "      width: 32px;\n",
              "    }\n",
              "\n",
              "    .colab-df-convert:hover {\n",
              "      background-color: #E2EBFA;\n",
              "      box-shadow: 0px 1px 2px rgba(60, 64, 67, 0.3), 0px 1px 3px 1px rgba(60, 64, 67, 0.15);\n",
              "      fill: #174EA6;\n",
              "    }\n",
              "\n",
              "    [theme=dark] .colab-df-convert {\n",
              "      background-color: #3B4455;\n",
              "      fill: #D2E3FC;\n",
              "    }\n",
              "\n",
              "    [theme=dark] .colab-df-convert:hover {\n",
              "      background-color: #434B5C;\n",
              "      box-shadow: 0px 1px 3px 1px rgba(0, 0, 0, 0.15);\n",
              "      filter: drop-shadow(0px 1px 2px rgba(0, 0, 0, 0.3));\n",
              "      fill: #FFFFFF;\n",
              "    }\n",
              "  </style>\n",
              "\n",
              "      <script>\n",
              "        const buttonEl =\n",
              "          document.querySelector('#df-d3c81dbc-68ea-4c4e-b070-a7b5909bce49 button.colab-df-convert');\n",
              "        buttonEl.style.display =\n",
              "          google.colab.kernel.accessAllowed ? 'block' : 'none';\n",
              "\n",
              "        async function convertToInteractive(key) {\n",
              "          const element = document.querySelector('#df-d3c81dbc-68ea-4c4e-b070-a7b5909bce49');\n",
              "          const dataTable =\n",
              "            await google.colab.kernel.invokeFunction('convertToInteractive',\n",
              "                                                     [key], {});\n",
              "          if (!dataTable) return;\n",
              "\n",
              "          const docLinkHtml = 'Like what you see? Visit the ' +\n",
              "            '<a target=\"_blank\" href=https://colab.research.google.com/notebooks/data_table.ipynb>data table notebook</a>'\n",
              "            + ' to learn more about interactive tables.';\n",
              "          element.innerHTML = '';\n",
              "          dataTable['output_type'] = 'display_data';\n",
              "          await google.colab.output.renderOutput(dataTable, element);\n",
              "          const docLink = document.createElement('div');\n",
              "          docLink.innerHTML = docLinkHtml;\n",
              "          element.appendChild(docLink);\n",
              "        }\n",
              "      </script>\n",
              "    </div>\n",
              "  </div>\n",
              "  "
            ],
            "text/plain": [
              "      ï»¿SampleDate  ...  CalcSizeOnDiskBytes\n",
              "0  21-07-2020 00:00  ...         327000000000\n",
              "1  21-07-2020 00:00  ...          12884901888\n",
              "2  21-07-2020 00:00  ...         777000000000\n",
              "3  21-07-2020 00:00  ...                    0\n",
              "4  21-07-2020 00:00  ...           7516192768\n",
              "\n",
              "[5 rows x 14 columns]"
            ]
          },
          "metadata": {},
          "execution_count": 243
        }
      ]
    },
    {
      "cell_type": "code",
      "source": [
        "df.columns"
      ],
      "metadata": {
        "colab": {
          "base_uri": "https://localhost:8080/"
        },
        "id": "nSb5T0KHBTW5",
        "outputId": "c4280c1d-217d-446c-fc0f-0fe75a7a7813"
      },
      "execution_count": 164,
      "outputs": [
        {
          "output_type": "execute_result",
          "data": {
            "text/plain": [
              "Index(['YearOfSample', 'MonthOfSample', 'DayOfSample', 'QuarterOfSample',\n",
              "       'SqlInstanceName', 'DatabaseName', 'CalcNumOfReads', 'CalcNumOfWrites',\n",
              "       'CalcNumOfBytesReadPerDay', 'CalcNumOfBytesWrittenPerDay',\n",
              "       'CalcNumOfTeraBytesReadPerDay', 'CalcNumOfTeraBytesWrittenPerDay',\n",
              "       'CalcSizeOnDiskBytes'],\n",
              "      dtype='object')"
            ]
          },
          "metadata": {},
          "execution_count": 164
        }
      ]
    },
    {
      "cell_type": "code",
      "source": [
        "import datetime\n",
        "df['SampleDate']=df['ï»¿SampleDate']\n",
        "#df.drop(columns=['ï»¿SampleDate'])\n",
        "# df['SampleDate'] = [datetime.datetime.strptime(d, \"%Y-%m-%d\") for d in df[\"SampleDate\"]]\n",
        "# df['SampleDate'] = [datetime.datetime.date(d) for d in df['SampleDate']] \n",
        "# df['SampleDate']\n",
        "# df.columns"
      ],
      "metadata": {
        "id": "DJiLtw6E6EhV"
      },
      "execution_count": 244,
      "outputs": []
    },
    {
      "cell_type": "code",
      "source": [
        "df.index"
      ],
      "metadata": {
        "colab": {
          "base_uri": "https://localhost:8080/"
        },
        "id": "cMTcsmZtd1OB",
        "outputId": "d39046f9-ea3f-4048-9eaa-32dac63320b8"
      },
      "execution_count": 175,
      "outputs": [
        {
          "output_type": "execute_result",
          "data": {
            "text/plain": [
              "RangeIndex(start=0, stop=80048, step=1)"
            ]
          },
          "metadata": {},
          "execution_count": 175
        }
      ]
    },
    {
      "cell_type": "code",
      "source": [
        "def setIndex(columnName,dataframe):\n",
        "  dataframe.set_index(columnName, inplace = True)\n",
        "  dataframe=dataframe.asfreq('D')\n",
        "  dataframe.index.freq='D'\n",
        "\n",
        "def getDataSet(databaseName):\n",
        "  print(\"input param \",databaseName)\n",
        "  dfAnalysis=df[(df.DatabaseName == databaseName)]\n",
        "  setIndex('SampleDate',dfAnalysis)\n",
        "  return dfAnalysis\n",
        "\n",
        "# data clean\n",
        "def cleanDataSet(dfAnalysis):\n",
        "  dfAnalysis.fillna(0,inplace=True)\n",
        "  dfAnalysis.round(2) \n",
        "  return dfAnalysis"
      ],
      "metadata": {
        "id": "_Eoh_sq08zpO"
      },
      "execution_count": 245,
      "outputs": []
    },
    {
      "cell_type": "code",
      "source": [
        "dfAnalysis=getDataSet('IFRS9_SME_Retail_PRD')\n",
        "dfAnalysis=cleanDataSet(dfAnalysis)\n",
        "dfAnalysis"
      ],
      "metadata": {
        "colab": {
          "base_uri": "https://localhost:8080/",
          "height": 797
        },
        "id": "1Q-_vwO-xkrR",
        "outputId": "990836b0-2e6f-4292-e4c5-07b16c26e6b9"
      },
      "execution_count": 247,
      "outputs": [
        {
          "output_type": "stream",
          "name": "stdout",
          "text": [
            "input param  IFRS9_SME_Retail_PRD\n"
          ]
        },
        {
          "output_type": "stream",
          "name": "stderr",
          "text": [
            "/usr/local/lib/python3.7/dist-packages/pandas/core/frame.py:5182: SettingWithCopyWarning: \n",
            "A value is trying to be set on a copy of a slice from a DataFrame\n",
            "\n",
            "See the caveats in the documentation: https://pandas.pydata.org/pandas-docs/stable/user_guide/indexing.html#returning-a-view-versus-a-copy\n",
            "  downcast=downcast,\n"
          ]
        },
        {
          "output_type": "execute_result",
          "data": {
            "text/html": [
              "\n",
              "  <div id=\"df-03b7bbb5-94d0-48d9-9606-2b10a04dcb8a\">\n",
              "    <div class=\"colab-df-container\">\n",
              "      <div>\n",
              "<style scoped>\n",
              "    .dataframe tbody tr th:only-of-type {\n",
              "        vertical-align: middle;\n",
              "    }\n",
              "\n",
              "    .dataframe tbody tr th {\n",
              "        vertical-align: top;\n",
              "    }\n",
              "\n",
              "    .dataframe thead th {\n",
              "        text-align: right;\n",
              "    }\n",
              "</style>\n",
              "<table border=\"1\" class=\"dataframe\">\n",
              "  <thead>\n",
              "    <tr style=\"text-align: right;\">\n",
              "      <th></th>\n",
              "      <th>ï»¿SampleDate</th>\n",
              "      <th>YearOfSample</th>\n",
              "      <th>MonthOfSample</th>\n",
              "      <th>DayOfSample</th>\n",
              "      <th>QuarterOfSample</th>\n",
              "      <th>SqlInstanceName</th>\n",
              "      <th>DatabaseName</th>\n",
              "      <th>CalcNumOfReads</th>\n",
              "      <th>CalcNumOfWrites</th>\n",
              "      <th>CalcNumOfBytesReadPerDay</th>\n",
              "      <th>CalcNumOfBytesWrittenPerDay</th>\n",
              "      <th>CalcNumOfTeraBytesReadPerDay</th>\n",
              "      <th>CalcNumOfTeraBytesWrittenPerDay</th>\n",
              "      <th>CalcSizeOnDiskBytes</th>\n",
              "    </tr>\n",
              "    <tr>\n",
              "      <th>SampleDate</th>\n",
              "      <th></th>\n",
              "      <th></th>\n",
              "      <th></th>\n",
              "      <th></th>\n",
              "      <th></th>\n",
              "      <th></th>\n",
              "      <th></th>\n",
              "      <th></th>\n",
              "      <th></th>\n",
              "      <th></th>\n",
              "      <th></th>\n",
              "      <th></th>\n",
              "      <th></th>\n",
              "      <th></th>\n",
              "    </tr>\n",
              "  </thead>\n",
              "  <tbody>\n",
              "    <tr>\n",
              "      <th>21-07-2020 00:00</th>\n",
              "      <td>21-07-2020 00:00</td>\n",
              "      <td>2020</td>\n",
              "      <td>7</td>\n",
              "      <td>21</td>\n",
              "      <td>Q3</td>\n",
              "      <td>WSPE000899\\DEINSTANCE00</td>\n",
              "      <td>IFRS9_SME_Retail_PRD</td>\n",
              "      <td>187423</td>\n",
              "      <td>0</td>\n",
              "      <td>24301527040</td>\n",
              "      <td>0</td>\n",
              "      <td>0.02</td>\n",
              "      <td>0.0</td>\n",
              "      <td>15104278528</td>\n",
              "    </tr>\n",
              "    <tr>\n",
              "      <th>22-07-2020 00:00</th>\n",
              "      <td>22-07-2020 00:00</td>\n",
              "      <td>2020</td>\n",
              "      <td>7</td>\n",
              "      <td>22</td>\n",
              "      <td>Q3</td>\n",
              "      <td>WSPE000899\\DEINSTANCE00</td>\n",
              "      <td>IFRS9_SME_Retail_PRD</td>\n",
              "      <td>83</td>\n",
              "      <td>0</td>\n",
              "      <td>5275648</td>\n",
              "      <td>0</td>\n",
              "      <td>0.02</td>\n",
              "      <td>0.0</td>\n",
              "      <td>0</td>\n",
              "    </tr>\n",
              "    <tr>\n",
              "      <th>23-07-2020 00:00</th>\n",
              "      <td>23-07-2020 00:00</td>\n",
              "      <td>2020</td>\n",
              "      <td>7</td>\n",
              "      <td>23</td>\n",
              "      <td>Q3</td>\n",
              "      <td>WSPE000899\\DEINSTANCE00</td>\n",
              "      <td>IFRS9_SME_Retail_PRD</td>\n",
              "      <td>5</td>\n",
              "      <td>0</td>\n",
              "      <td>319488</td>\n",
              "      <td>0</td>\n",
              "      <td>0.02</td>\n",
              "      <td>0.0</td>\n",
              "      <td>0</td>\n",
              "    </tr>\n",
              "    <tr>\n",
              "      <th>24-07-2020 00:00</th>\n",
              "      <td>24-07-2020 00:00</td>\n",
              "      <td>2020</td>\n",
              "      <td>7</td>\n",
              "      <td>24</td>\n",
              "      <td>Q3</td>\n",
              "      <td>WSPE000899\\DEINSTANCE00</td>\n",
              "      <td>IFRS9_SME_Retail_PRD</td>\n",
              "      <td>149</td>\n",
              "      <td>0</td>\n",
              "      <td>9134080</td>\n",
              "      <td>0</td>\n",
              "      <td>0.02</td>\n",
              "      <td>0.0</td>\n",
              "      <td>0</td>\n",
              "    </tr>\n",
              "    <tr>\n",
              "      <th>25-07-2020 00:00</th>\n",
              "      <td>25-07-2020 00:00</td>\n",
              "      <td>2020</td>\n",
              "      <td>7</td>\n",
              "      <td>25</td>\n",
              "      <td>Q3</td>\n",
              "      <td>WSPE000899\\DEINSTANCE00</td>\n",
              "      <td>IFRS9_SME_Retail_PRD</td>\n",
              "      <td>223</td>\n",
              "      <td>0</td>\n",
              "      <td>14589952</td>\n",
              "      <td>0</td>\n",
              "      <td>0.02</td>\n",
              "      <td>0.0</td>\n",
              "      <td>0</td>\n",
              "    </tr>\n",
              "    <tr>\n",
              "      <th>...</th>\n",
              "      <td>...</td>\n",
              "      <td>...</td>\n",
              "      <td>...</td>\n",
              "      <td>...</td>\n",
              "      <td>...</td>\n",
              "      <td>...</td>\n",
              "      <td>...</td>\n",
              "      <td>...</td>\n",
              "      <td>...</td>\n",
              "      <td>...</td>\n",
              "      <td>...</td>\n",
              "      <td>...</td>\n",
              "      <td>...</td>\n",
              "      <td>...</td>\n",
              "    </tr>\n",
              "    <tr>\n",
              "      <th>08-02-2022 00:00</th>\n",
              "      <td>08-02-2022 00:00</td>\n",
              "      <td>2022</td>\n",
              "      <td>2</td>\n",
              "      <td>8</td>\n",
              "      <td>Q1</td>\n",
              "      <td>WSPE000899\\DEINSTANCE00</td>\n",
              "      <td>IFRS9_SME_Retail_PRD</td>\n",
              "      <td>643</td>\n",
              "      <td>0</td>\n",
              "      <td>30031872</td>\n",
              "      <td>0</td>\n",
              "      <td>0.00</td>\n",
              "      <td>0.0</td>\n",
              "      <td>0</td>\n",
              "    </tr>\n",
              "    <tr>\n",
              "      <th>09-02-2022 00:00</th>\n",
              "      <td>09-02-2022 00:00</td>\n",
              "      <td>2022</td>\n",
              "      <td>2</td>\n",
              "      <td>9</td>\n",
              "      <td>Q1</td>\n",
              "      <td>WSPE000899\\DEINSTANCE00</td>\n",
              "      <td>IFRS9_SME_Retail_PRD</td>\n",
              "      <td>35</td>\n",
              "      <td>0</td>\n",
              "      <td>1908736</td>\n",
              "      <td>0</td>\n",
              "      <td>0.00</td>\n",
              "      <td>0.0</td>\n",
              "      <td>0</td>\n",
              "    </tr>\n",
              "    <tr>\n",
              "      <th>10-02-2022 00:00</th>\n",
              "      <td>10-02-2022 00:00</td>\n",
              "      <td>2022</td>\n",
              "      <td>2</td>\n",
              "      <td>10</td>\n",
              "      <td>Q1</td>\n",
              "      <td>WSPE000899\\DEINSTANCE00</td>\n",
              "      <td>IFRS9_SME_Retail_PRD</td>\n",
              "      <td>693</td>\n",
              "      <td>0</td>\n",
              "      <td>9609216</td>\n",
              "      <td>0</td>\n",
              "      <td>0.00</td>\n",
              "      <td>0.0</td>\n",
              "      <td>0</td>\n",
              "    </tr>\n",
              "    <tr>\n",
              "      <th>11-02-2022 00:00</th>\n",
              "      <td>11-02-2022 00:00</td>\n",
              "      <td>2022</td>\n",
              "      <td>2</td>\n",
              "      <td>11</td>\n",
              "      <td>Q1</td>\n",
              "      <td>WSPE000899\\DEINSTANCE00</td>\n",
              "      <td>IFRS9_SME_Retail_PRD</td>\n",
              "      <td>242</td>\n",
              "      <td>0</td>\n",
              "      <td>15892480</td>\n",
              "      <td>0</td>\n",
              "      <td>0.00</td>\n",
              "      <td>0.0</td>\n",
              "      <td>0</td>\n",
              "    </tr>\n",
              "    <tr>\n",
              "      <th>12-02-2022 00:00</th>\n",
              "      <td>12-02-2022 00:00</td>\n",
              "      <td>2022</td>\n",
              "      <td>2</td>\n",
              "      <td>12</td>\n",
              "      <td>Q1</td>\n",
              "      <td>WSPE000899\\DEINSTANCE00</td>\n",
              "      <td>IFRS9_SME_Retail_PRD</td>\n",
              "      <td>356</td>\n",
              "      <td>0</td>\n",
              "      <td>23273472</td>\n",
              "      <td>0</td>\n",
              "      <td>0.00</td>\n",
              "      <td>0.0</td>\n",
              "      <td>0</td>\n",
              "    </tr>\n",
              "  </tbody>\n",
              "</table>\n",
              "<p>558 rows × 14 columns</p>\n",
              "</div>\n",
              "      <button class=\"colab-df-convert\" onclick=\"convertToInteractive('df-03b7bbb5-94d0-48d9-9606-2b10a04dcb8a')\"\n",
              "              title=\"Convert this dataframe to an interactive table.\"\n",
              "              style=\"display:none;\">\n",
              "        \n",
              "  <svg xmlns=\"http://www.w3.org/2000/svg\" height=\"24px\"viewBox=\"0 0 24 24\"\n",
              "       width=\"24px\">\n",
              "    <path d=\"M0 0h24v24H0V0z\" fill=\"none\"/>\n",
              "    <path d=\"M18.56 5.44l.94 2.06.94-2.06 2.06-.94-2.06-.94-.94-2.06-.94 2.06-2.06.94zm-11 1L8.5 8.5l.94-2.06 2.06-.94-2.06-.94L8.5 2.5l-.94 2.06-2.06.94zm10 10l.94 2.06.94-2.06 2.06-.94-2.06-.94-.94-2.06-.94 2.06-2.06.94z\"/><path d=\"M17.41 7.96l-1.37-1.37c-.4-.4-.92-.59-1.43-.59-.52 0-1.04.2-1.43.59L10.3 9.45l-7.72 7.72c-.78.78-.78 2.05 0 2.83L4 21.41c.39.39.9.59 1.41.59.51 0 1.02-.2 1.41-.59l7.78-7.78 2.81-2.81c.8-.78.8-2.07 0-2.86zM5.41 20L4 18.59l7.72-7.72 1.47 1.35L5.41 20z\"/>\n",
              "  </svg>\n",
              "      </button>\n",
              "      \n",
              "  <style>\n",
              "    .colab-df-container {\n",
              "      display:flex;\n",
              "      flex-wrap:wrap;\n",
              "      gap: 12px;\n",
              "    }\n",
              "\n",
              "    .colab-df-convert {\n",
              "      background-color: #E8F0FE;\n",
              "      border: none;\n",
              "      border-radius: 50%;\n",
              "      cursor: pointer;\n",
              "      display: none;\n",
              "      fill: #1967D2;\n",
              "      height: 32px;\n",
              "      padding: 0 0 0 0;\n",
              "      width: 32px;\n",
              "    }\n",
              "\n",
              "    .colab-df-convert:hover {\n",
              "      background-color: #E2EBFA;\n",
              "      box-shadow: 0px 1px 2px rgba(60, 64, 67, 0.3), 0px 1px 3px 1px rgba(60, 64, 67, 0.15);\n",
              "      fill: #174EA6;\n",
              "    }\n",
              "\n",
              "    [theme=dark] .colab-df-convert {\n",
              "      background-color: #3B4455;\n",
              "      fill: #D2E3FC;\n",
              "    }\n",
              "\n",
              "    [theme=dark] .colab-df-convert:hover {\n",
              "      background-color: #434B5C;\n",
              "      box-shadow: 0px 1px 3px 1px rgba(0, 0, 0, 0.15);\n",
              "      filter: drop-shadow(0px 1px 2px rgba(0, 0, 0, 0.3));\n",
              "      fill: #FFFFFF;\n",
              "    }\n",
              "  </style>\n",
              "\n",
              "      <script>\n",
              "        const buttonEl =\n",
              "          document.querySelector('#df-03b7bbb5-94d0-48d9-9606-2b10a04dcb8a button.colab-df-convert');\n",
              "        buttonEl.style.display =\n",
              "          google.colab.kernel.accessAllowed ? 'block' : 'none';\n",
              "\n",
              "        async function convertToInteractive(key) {\n",
              "          const element = document.querySelector('#df-03b7bbb5-94d0-48d9-9606-2b10a04dcb8a');\n",
              "          const dataTable =\n",
              "            await google.colab.kernel.invokeFunction('convertToInteractive',\n",
              "                                                     [key], {});\n",
              "          if (!dataTable) return;\n",
              "\n",
              "          const docLinkHtml = 'Like what you see? Visit the ' +\n",
              "            '<a target=\"_blank\" href=https://colab.research.google.com/notebooks/data_table.ipynb>data table notebook</a>'\n",
              "            + ' to learn more about interactive tables.';\n",
              "          element.innerHTML = '';\n",
              "          dataTable['output_type'] = 'display_data';\n",
              "          await google.colab.output.renderOutput(dataTable, element);\n",
              "          const docLink = document.createElement('div');\n",
              "          docLink.innerHTML = docLinkHtml;\n",
              "          element.appendChild(docLink);\n",
              "        }\n",
              "      </script>\n",
              "    </div>\n",
              "  </div>\n",
              "  "
            ],
            "text/plain": [
              "                     ï»¿SampleDate  ...  CalcSizeOnDiskBytes\n",
              "SampleDate                          ...                     \n",
              "21-07-2020 00:00  21-07-2020 00:00  ...          15104278528\n",
              "22-07-2020 00:00  22-07-2020 00:00  ...                    0\n",
              "23-07-2020 00:00  23-07-2020 00:00  ...                    0\n",
              "24-07-2020 00:00  24-07-2020 00:00  ...                    0\n",
              "25-07-2020 00:00  25-07-2020 00:00  ...                    0\n",
              "...                            ...  ...                  ...\n",
              "08-02-2022 00:00  08-02-2022 00:00  ...                    0\n",
              "09-02-2022 00:00  09-02-2022 00:00  ...                    0\n",
              "10-02-2022 00:00  10-02-2022 00:00  ...                    0\n",
              "11-02-2022 00:00  11-02-2022 00:00  ...                    0\n",
              "12-02-2022 00:00  12-02-2022 00:00  ...                    0\n",
              "\n",
              "[558 rows x 14 columns]"
            ]
          },
          "metadata": {},
          "execution_count": 247
        }
      ]
    },
    {
      "cell_type": "code",
      "source": [
        "dfCurrentSizeOnDisk=dfAnalysis[['CalcNumOfBytesReadPerDay']]# CurrentSizeOnDiskTeraBytes ,CurrentSizeOnDiskBytes\n",
        "dfCurrentSizeOnDisk"
      ],
      "metadata": {
        "colab": {
          "base_uri": "https://localhost:8080/",
          "height": 455
        },
        "id": "otrkv0V-6__R",
        "outputId": "236dd753-5aab-46c4-b639-497d41ba3a80"
      },
      "execution_count": 248,
      "outputs": [
        {
          "output_type": "execute_result",
          "data": {
            "text/html": [
              "\n",
              "  <div id=\"df-ca10d1aa-f90b-478b-80e7-6692a2da3838\">\n",
              "    <div class=\"colab-df-container\">\n",
              "      <div>\n",
              "<style scoped>\n",
              "    .dataframe tbody tr th:only-of-type {\n",
              "        vertical-align: middle;\n",
              "    }\n",
              "\n",
              "    .dataframe tbody tr th {\n",
              "        vertical-align: top;\n",
              "    }\n",
              "\n",
              "    .dataframe thead th {\n",
              "        text-align: right;\n",
              "    }\n",
              "</style>\n",
              "<table border=\"1\" class=\"dataframe\">\n",
              "  <thead>\n",
              "    <tr style=\"text-align: right;\">\n",
              "      <th></th>\n",
              "      <th>CalcNumOfBytesReadPerDay</th>\n",
              "    </tr>\n",
              "    <tr>\n",
              "      <th>SampleDate</th>\n",
              "      <th></th>\n",
              "    </tr>\n",
              "  </thead>\n",
              "  <tbody>\n",
              "    <tr>\n",
              "      <th>21-07-2020 00:00</th>\n",
              "      <td>24301527040</td>\n",
              "    </tr>\n",
              "    <tr>\n",
              "      <th>22-07-2020 00:00</th>\n",
              "      <td>5275648</td>\n",
              "    </tr>\n",
              "    <tr>\n",
              "      <th>23-07-2020 00:00</th>\n",
              "      <td>319488</td>\n",
              "    </tr>\n",
              "    <tr>\n",
              "      <th>24-07-2020 00:00</th>\n",
              "      <td>9134080</td>\n",
              "    </tr>\n",
              "    <tr>\n",
              "      <th>25-07-2020 00:00</th>\n",
              "      <td>14589952</td>\n",
              "    </tr>\n",
              "    <tr>\n",
              "      <th>...</th>\n",
              "      <td>...</td>\n",
              "    </tr>\n",
              "    <tr>\n",
              "      <th>08-02-2022 00:00</th>\n",
              "      <td>30031872</td>\n",
              "    </tr>\n",
              "    <tr>\n",
              "      <th>09-02-2022 00:00</th>\n",
              "      <td>1908736</td>\n",
              "    </tr>\n",
              "    <tr>\n",
              "      <th>10-02-2022 00:00</th>\n",
              "      <td>9609216</td>\n",
              "    </tr>\n",
              "    <tr>\n",
              "      <th>11-02-2022 00:00</th>\n",
              "      <td>15892480</td>\n",
              "    </tr>\n",
              "    <tr>\n",
              "      <th>12-02-2022 00:00</th>\n",
              "      <td>23273472</td>\n",
              "    </tr>\n",
              "  </tbody>\n",
              "</table>\n",
              "<p>558 rows × 1 columns</p>\n",
              "</div>\n",
              "      <button class=\"colab-df-convert\" onclick=\"convertToInteractive('df-ca10d1aa-f90b-478b-80e7-6692a2da3838')\"\n",
              "              title=\"Convert this dataframe to an interactive table.\"\n",
              "              style=\"display:none;\">\n",
              "        \n",
              "  <svg xmlns=\"http://www.w3.org/2000/svg\" height=\"24px\"viewBox=\"0 0 24 24\"\n",
              "       width=\"24px\">\n",
              "    <path d=\"M0 0h24v24H0V0z\" fill=\"none\"/>\n",
              "    <path d=\"M18.56 5.44l.94 2.06.94-2.06 2.06-.94-2.06-.94-.94-2.06-.94 2.06-2.06.94zm-11 1L8.5 8.5l.94-2.06 2.06-.94-2.06-.94L8.5 2.5l-.94 2.06-2.06.94zm10 10l.94 2.06.94-2.06 2.06-.94-2.06-.94-.94-2.06-.94 2.06-2.06.94z\"/><path d=\"M17.41 7.96l-1.37-1.37c-.4-.4-.92-.59-1.43-.59-.52 0-1.04.2-1.43.59L10.3 9.45l-7.72 7.72c-.78.78-.78 2.05 0 2.83L4 21.41c.39.39.9.59 1.41.59.51 0 1.02-.2 1.41-.59l7.78-7.78 2.81-2.81c.8-.78.8-2.07 0-2.86zM5.41 20L4 18.59l7.72-7.72 1.47 1.35L5.41 20z\"/>\n",
              "  </svg>\n",
              "      </button>\n",
              "      \n",
              "  <style>\n",
              "    .colab-df-container {\n",
              "      display:flex;\n",
              "      flex-wrap:wrap;\n",
              "      gap: 12px;\n",
              "    }\n",
              "\n",
              "    .colab-df-convert {\n",
              "      background-color: #E8F0FE;\n",
              "      border: none;\n",
              "      border-radius: 50%;\n",
              "      cursor: pointer;\n",
              "      display: none;\n",
              "      fill: #1967D2;\n",
              "      height: 32px;\n",
              "      padding: 0 0 0 0;\n",
              "      width: 32px;\n",
              "    }\n",
              "\n",
              "    .colab-df-convert:hover {\n",
              "      background-color: #E2EBFA;\n",
              "      box-shadow: 0px 1px 2px rgba(60, 64, 67, 0.3), 0px 1px 3px 1px rgba(60, 64, 67, 0.15);\n",
              "      fill: #174EA6;\n",
              "    }\n",
              "\n",
              "    [theme=dark] .colab-df-convert {\n",
              "      background-color: #3B4455;\n",
              "      fill: #D2E3FC;\n",
              "    }\n",
              "\n",
              "    [theme=dark] .colab-df-convert:hover {\n",
              "      background-color: #434B5C;\n",
              "      box-shadow: 0px 1px 3px 1px rgba(0, 0, 0, 0.15);\n",
              "      filter: drop-shadow(0px 1px 2px rgba(0, 0, 0, 0.3));\n",
              "      fill: #FFFFFF;\n",
              "    }\n",
              "  </style>\n",
              "\n",
              "      <script>\n",
              "        const buttonEl =\n",
              "          document.querySelector('#df-ca10d1aa-f90b-478b-80e7-6692a2da3838 button.colab-df-convert');\n",
              "        buttonEl.style.display =\n",
              "          google.colab.kernel.accessAllowed ? 'block' : 'none';\n",
              "\n",
              "        async function convertToInteractive(key) {\n",
              "          const element = document.querySelector('#df-ca10d1aa-f90b-478b-80e7-6692a2da3838');\n",
              "          const dataTable =\n",
              "            await google.colab.kernel.invokeFunction('convertToInteractive',\n",
              "                                                     [key], {});\n",
              "          if (!dataTable) return;\n",
              "\n",
              "          const docLinkHtml = 'Like what you see? Visit the ' +\n",
              "            '<a target=\"_blank\" href=https://colab.research.google.com/notebooks/data_table.ipynb>data table notebook</a>'\n",
              "            + ' to learn more about interactive tables.';\n",
              "          element.innerHTML = '';\n",
              "          dataTable['output_type'] = 'display_data';\n",
              "          await google.colab.output.renderOutput(dataTable, element);\n",
              "          const docLink = document.createElement('div');\n",
              "          docLink.innerHTML = docLinkHtml;\n",
              "          element.appendChild(docLink);\n",
              "        }\n",
              "      </script>\n",
              "    </div>\n",
              "  </div>\n",
              "  "
            ],
            "text/plain": [
              "                  CalcNumOfBytesReadPerDay\n",
              "SampleDate                                \n",
              "21-07-2020 00:00               24301527040\n",
              "22-07-2020 00:00                   5275648\n",
              "23-07-2020 00:00                    319488\n",
              "24-07-2020 00:00                   9134080\n",
              "25-07-2020 00:00                  14589952\n",
              "...                                    ...\n",
              "08-02-2022 00:00                  30031872\n",
              "09-02-2022 00:00                   1908736\n",
              "10-02-2022 00:00                   9609216\n",
              "11-02-2022 00:00                  15892480\n",
              "12-02-2022 00:00                  23273472\n",
              "\n",
              "[558 rows x 1 columns]"
            ]
          },
          "metadata": {},
          "execution_count": 248
        }
      ]
    },
    {
      "cell_type": "code",
      "source": [
        "dfCurrentSizeOnDisk.plot(figsize=(12,6))"
      ],
      "metadata": {
        "colab": {
          "base_uri": "https://localhost:8080/",
          "height": 416
        },
        "id": "GOsIDtFP546s",
        "outputId": "62fddc8c-69c7-4693-b9c1-032b6d70a845"
      },
      "execution_count": 249,
      "outputs": [
        {
          "output_type": "execute_result",
          "data": {
            "text/plain": [
              "<matplotlib.axes._subplots.AxesSubplot at 0x7f5074090610>"
            ]
          },
          "metadata": {},
          "execution_count": 249
        },
        {
          "output_type": "display_data",
          "data": {
            "image/png": "[encoded data removed]",
            "text/plain": [
              "<Figure size 864x432 with 1 Axes>"
            ]
          },
          "metadata": {
            "needs_background": "light"
          }
        }
      ]
    },
    {
      "cell_type": "code",
      "source": [
        "from statsmodels.tsa.seasonal import seasonal_decompose\n"
      ],
      "metadata": {
        "id": "bfq4ldBc6CjB"
      },
      "execution_count": 250,
      "outputs": []
    },
    {
      "cell_type": "code",
      "source": [
        "# dfCurrentSizeOnDisk.describe()\n",
        "dfCurrentSizeOnDisk['CalcNumOfBytesReadPerDay']"
      ],
      "metadata": {
        "colab": {
          "base_uri": "https://localhost:8080/"
        },
        "id": "NQsGnZs2xGz9",
        "outputId": "0d86b0e6-6606-4abb-edcd-460b22aed5a7"
      },
      "execution_count": 251,
      "outputs": [
        {
          "output_type": "execute_result",
          "data": {
            "text/plain": [
              "SampleDate\n",
              "21-07-2020 00:00    24301527040\n",
              "22-07-2020 00:00        5275648\n",
              "23-07-2020 00:00         319488\n",
              "24-07-2020 00:00        9134080\n",
              "25-07-2020 00:00       14589952\n",
              "                       ...     \n",
              "08-02-2022 00:00       30031872\n",
              "09-02-2022 00:00        1908736\n",
              "10-02-2022 00:00        9609216\n",
              "11-02-2022 00:00       15892480\n",
              "12-02-2022 00:00       23273472\n",
              "Name: CalcNumOfBytesReadPerDay, Length: 558, dtype: int64"
            ]
          },
          "metadata": {},
          "execution_count": 251
        }
      ]
    },
    {
      "cell_type": "code",
      "source": [
        "#dfCurrentSizeOnDisk['SampleDate'] = dfCurrentSizeOnDisk.date\n",
        "#dfCurrentSizeOnDisk.index = pd.DatetimeIndex(dfCurrentSizeOnDisk[\"ï»¿SampleDate\"].asfreq(freq='D'))\n",
        "results = seasonal_decompose(dfCurrentSizeOnDisk['CalcNumOfBytesReadPerDay'], freq=1) #CurrentSizeOnDiskBytes ...freq=1 for day \n",
        "results.plot();"
      ],
      "metadata": {
        "colab": {
          "base_uri": "https://localhost:8080/",
          "height": 297
        },
        "id": "0XckhkQS_dVU",
        "outputId": "2e7d234c-0b24-4921-dd56-a63d316769c4"
      },
      "execution_count": 252,
      "outputs": [
        {
          "output_type": "display_data",
          "data": {
            "image/png": "[encoded data removed]",
            "text/plain": [
              "<Figure size 432x288 with 4 Axes>"
            ]
          },
          "metadata": {
            "needs_background": "light"
          }
        }
      ]
    },
    {
      "cell_type": "code",
      "source": [
        "data_length=len(dfCurrentSizeOnDisk)"
      ],
      "metadata": {
        "id": "xCf5m_HQCPiw"
      },
      "execution_count": 319,
      "outputs": []
    },
    {
      "cell_type": "code",
      "source": [
        "#keeping test for last 12 days\n",
        "testFor=12\n",
        "train = dfCurrentSizeOnDisk.iloc[:data_length-testFor]\n",
        "test = dfCurrentSizeOnDisk.iloc[data_length-testFor:]\n",
        "print(train)\n",
        "print(test)"
      ],
      "metadata": {
        "colab": {
          "base_uri": "https://localhost:8080/"
        },
        "id": "FrR8qqNoCdmj",
        "outputId": "29d5ed9f-7ff1-40e1-9e9f-71cd262e807a"
      },
      "execution_count": 320,
      "outputs": [
        {
          "output_type": "stream",
          "name": "stdout",
          "text": [
            "                  CalcNumOfBytesReadPerDay\n",
            "SampleDate                                \n",
            "21-07-2020 00:00               24301527040\n",
            "22-07-2020 00:00                   5275648\n",
            "23-07-2020 00:00                    319488\n",
            "24-07-2020 00:00                   9134080\n",
            "25-07-2020 00:00                  14589952\n",
            "...                                    ...\n",
            "27-01-2022 00:00                  60784640\n",
            "28-01-2022 00:00                  50298880\n",
            "29-01-2022 00:00                  26091520\n",
            "30-01-2022 00:00               12227108864\n",
            "31-01-2022 00:00               12234342400\n",
            "\n",
            "[546 rows x 1 columns]\n",
            "                  CalcNumOfBytesReadPerDay\n",
            "SampleDate                                \n",
            "01-02-2022 00:00                  70918144\n",
            "02-02-2022 00:00                  32636928\n",
            "03-02-2022 00:00                  70549504\n",
            "04-02-2022 00:00                  39108608\n",
            "05-02-2022 00:00                  26009600\n",
            "06-02-2022 00:00               12251815936\n",
            "07-02-2022 00:00               12205416448\n",
            "08-02-2022 00:00                  30031872\n",
            "09-02-2022 00:00                   1908736\n",
            "10-02-2022 00:00                   9609216\n",
            "11-02-2022 00:00                  15892480\n",
            "12-02-2022 00:00                  23273472\n"
          ]
        }
      ]
    },
    {
      "cell_type": "code",
      "source": [
        "from sklearn.preprocessing import MinMaxScaler\n",
        "scaler = MinMaxScaler()"
      ],
      "metadata": {
        "id": "5I216y33CmaD"
      },
      "execution_count": 321,
      "outputs": []
    },
    {
      "cell_type": "code",
      "source": [
        "dfCurrentSizeOnDisk.head(),dfCurrentSizeOnDisk.tail()"
      ],
      "metadata": {
        "colab": {
          "base_uri": "https://localhost:8080/"
        },
        "id": "fldKQ-F8Cp7-",
        "outputId": "cfe78690-d284-4ae3-c42a-5e58c15efdf1"
      },
      "execution_count": 322,
      "outputs": [
        {
          "output_type": "execute_result",
          "data": {
            "text/plain": [
              "(                  CalcNumOfBytesReadPerDay\n",
              " SampleDate                                \n",
              " 21-07-2020 00:00               24301527040\n",
              " 22-07-2020 00:00                   5275648\n",
              " 23-07-2020 00:00                    319488\n",
              " 24-07-2020 00:00                   9134080\n",
              " 25-07-2020 00:00                  14589952,\n",
              "                   CalcNumOfBytesReadPerDay\n",
              " SampleDate                                \n",
              " 08-02-2022 00:00                  30031872\n",
              " 09-02-2022 00:00                   1908736\n",
              " 10-02-2022 00:00                   9609216\n",
              " 11-02-2022 00:00                  15892480\n",
              " 12-02-2022 00:00                  23273472)"
            ]
          },
          "metadata": {},
          "execution_count": 322
        }
      ]
    },
    {
      "cell_type": "code",
      "source": [
        "scaler.fit(train)\n",
        "scaled_train = scaler.transform(train)\n",
        "scaled_test = scaler.transform(test)"
      ],
      "metadata": {
        "id": "zP4wxE3uCzea"
      },
      "execution_count": 323,
      "outputs": []
    },
    {
      "cell_type": "code",
      "source": [
        "scaled_train[:10]"
      ],
      "metadata": {
        "colab": {
          "base_uri": "https://localhost:8080/"
        },
        "id": "X-3nGOP_C4U7",
        "outputId": "0728b13b-c5b8-46a6-e74a-fe6756d8c913"
      },
      "execution_count": 324,
      "outputs": [
        {
          "output_type": "execute_result",
          "data": {
            "text/plain": [
              "array([[9.94050384e-01],\n",
              "       [2.07759064e-04],\n",
              "       [5.02642896e-06],\n",
              "       [3.65588933e-04],\n",
              "       [5.88762379e-04],\n",
              "       [4.96644691e-01],\n",
              "       [4.97202625e-01],\n",
              "       [5.79714807e-05],\n",
              "       [9.97501195e-01],\n",
              "       [6.42042526e-04]])"
            ]
          },
          "metadata": {},
          "execution_count": 324
        }
      ]
    },
    {
      "cell_type": "code",
      "source": [
        "from keras.preprocessing.sequence import TimeseriesGenerator"
      ],
      "metadata": {
        "id": "kaECTL_9C_mA"
      },
      "execution_count": 325,
      "outputs": []
    },
    {
      "cell_type": "code",
      "source": [
        "# define generator\n",
        "n_input = 7\n",
        "n_features = 1\n",
        "generator = TimeseriesGenerator(scaled_train, scaled_train, length=n_input, batch_size=1)"
      ],
      "metadata": {
        "id": "BU4axQoOC_u_"
      },
      "execution_count": 326,
      "outputs": []
    },
    {
      "cell_type": "code",
      "source": [
        "X,y = generator[0]\n",
        "print(f'Given the Array: \\n{X.flatten()}')\n",
        "print(f'Predict this y: \\n {y}')"
      ],
      "metadata": {
        "colab": {
          "base_uri": "https://localhost:8080/"
        },
        "id": "jMfvnIZ7DGMD",
        "outputId": "d0494232-5653-4306-e3d7-95c849862722"
      },
      "execution_count": 327,
      "outputs": [
        {
          "output_type": "stream",
          "name": "stdout",
          "text": [
            "Given the Array: \n",
            "[9.94050384e-01 2.07759064e-04 5.02642896e-06 3.65588933e-04\n",
            " 5.88762379e-04 4.96644691e-01 4.97202625e-01]\n",
            "Predict this y: \n",
            " [[5.79714807e-05]]\n"
          ]
        }
      ]
    },
    {
      "cell_type": "code",
      "source": [
        "X.shape"
      ],
      "metadata": {
        "colab": {
          "base_uri": "https://localhost:8080/"
        },
        "id": "Myluc0hEDWBn",
        "outputId": "57aabad0-c73f-4e27-9b99-47b3da48f25f"
      },
      "execution_count": 328,
      "outputs": [
        {
          "output_type": "execute_result",
          "data": {
            "text/plain": [
              "(1, 7, 1)"
            ]
          },
          "metadata": {},
          "execution_count": 328
        }
      ]
    },
    {
      "cell_type": "code",
      "source": [
        "# We do the same thing, but now instead for 30 months\n",
        "n_input = 30\n",
        "generator = TimeseriesGenerator(scaled_train, scaled_train, length=n_input, batch_size=1)"
      ],
      "metadata": {
        "id": "gsqDbaouDbY2"
      },
      "execution_count": 329,
      "outputs": []
    },
    {
      "cell_type": "code",
      "source": [
        "from keras.models import Sequential\n",
        "from keras.layers import Dense\n",
        "from keras.layers import LSTM"
      ],
      "metadata": {
        "id": "4DbYTa7ODfkk"
      },
      "execution_count": 330,
      "outputs": []
    },
    {
      "cell_type": "code",
      "source": [
        "# define model\n",
        "model = Sequential()\n",
        "model.add(LSTM(100, activation='relu', input_shape=(n_input, n_features)))\n",
        "model.add(Dense(1))\n",
        "model.compile(optimizer='adam', loss='mse')"
      ],
      "metadata": {
        "id": "qox_tlkKDjbD"
      },
      "execution_count": 331,
      "outputs": []
    },
    {
      "cell_type": "code",
      "source": [
        "model.summary()"
      ],
      "metadata": {
        "colab": {
          "base_uri": "https://localhost:8080/"
        },
        "id": "fRCm0PPuDn5r",
        "outputId": "e4adc43a-741c-43e0-889d-d17e8e088b81"
      },
      "execution_count": 332,
      "outputs": [
        {
          "output_type": "stream",
          "name": "stdout",
          "text": [
            "Model: \"sequential_7\"\n",
            "_________________________________________________________________\n",
            " Layer (type)                Output Shape              Param #   \n",
            "=================================================================\n",
            " lstm_7 (LSTM)               (None, 100)               40800     \n",
            "                                                                 \n",
            " dense_7 (Dense)             (None, 1)                 101       \n",
            "                                                                 \n",
            "=================================================================\n",
            "Total params: 40,901\n",
            "Trainable params: 40,901\n",
            "Non-trainable params: 0\n",
            "_________________________________________________________________\n"
          ]
        }
      ]
    },
    {
      "cell_type": "code",
      "source": [
        "# fit model\n",
        "model.fit(generator,epochs=26)"
      ],
      "metadata": {
        "colab": {
          "base_uri": "https://localhost:8080/"
        },
        "id": "5lbj6CfuDupX",
        "outputId": "78dbd2f5-e500-424c-d4c1-27ffa6a0f05c"
      },
      "execution_count": 333,
      "outputs": [
        {
          "output_type": "stream",
          "name": "stdout",
          "text": [
            "Epoch 1/26\n",
            "516/516 [==============================] - 9s 15ms/step - loss: 0.0858\n",
            "Epoch 2/26\n",
            "516/516 [==============================] - 8s 15ms/step - loss: 0.0632\n",
            "Epoch 3/26\n",
            "516/516 [==============================] - 8s 15ms/step - loss: 0.0532\n",
            "Epoch 4/26\n",
            "516/516 [==============================] - 10s 19ms/step - loss: 0.0493\n",
            "Epoch 5/26\n",
            "516/516 [==============================] - 8s 15ms/step - loss: 0.0461\n",
            "Epoch 6/26\n",
            "516/516 [==============================] - 7s 13ms/step - loss: 0.0418\n",
            "Epoch 7/26\n",
            "516/516 [==============================] - 12s 22ms/step - loss: 0.4092\n",
            "Epoch 8/26\n",
            "516/516 [==============================] - 11s 22ms/step - loss: 0.0420\n",
            "Epoch 9/26\n",
            "516/516 [==============================] - 7s 14ms/step - loss: 0.0397\n",
            "Epoch 10/26\n",
            "516/516 [==============================] - 7s 13ms/step - loss: 0.0360\n",
            "Epoch 11/26\n",
            "516/516 [==============================] - 7s 14ms/step - loss: 0.0339\n",
            "Epoch 12/26\n",
            "516/516 [==============================] - 7s 14ms/step - loss: 0.0338\n",
            "Epoch 13/26\n",
            "516/516 [==============================] - 7s 14ms/step - loss: 0.0335\n",
            "Epoch 14/26\n",
            "516/516 [==============================] - 7s 14ms/step - loss: 0.0319\n",
            "Epoch 15/26\n",
            "516/516 [==============================] - 7s 14ms/step - loss: 0.0286\n",
            "Epoch 16/26\n",
            "516/516 [==============================] - 8s 15ms/step - loss: 0.0264\n",
            "Epoch 17/26\n",
            "516/516 [==============================] - 8s 15ms/step - loss: 0.0250\n",
            "Epoch 18/26\n",
            "516/516 [==============================] - 7s 14ms/step - loss: 0.0244\n",
            "Epoch 19/26\n",
            "516/516 [==============================] - 8s 16ms/step - loss: 0.0257\n",
            "Epoch 20/26\n",
            "516/516 [==============================] - 7s 14ms/step - loss: 0.0253\n",
            "Epoch 21/26\n",
            "516/516 [==============================] - 7s 14ms/step - loss: 0.0246\n",
            "Epoch 22/26\n",
            "516/516 [==============================] - 7s 14ms/step - loss: 0.0231\n",
            "Epoch 23/26\n",
            "516/516 [==============================] - 7s 14ms/step - loss: 0.0234\n",
            "Epoch 24/26\n",
            "516/516 [==============================] - 7s 14ms/step - loss: 0.0208\n",
            "Epoch 25/26\n",
            "516/516 [==============================] - 7s 14ms/step - loss: 0.0226\n",
            "Epoch 26/26\n",
            "516/516 [==============================] - 7s 14ms/step - loss: 0.0223\n"
          ]
        },
        {
          "output_type": "execute_result",
          "data": {
            "text/plain": [
              "<keras.callbacks.History at 0x7f5073bf9c10>"
            ]
          },
          "metadata": {},
          "execution_count": 333
        }
      ]
    },
    {
      "cell_type": "code",
      "source": [
        "loss_per_epoch = model.history.history['loss']\n",
        "plt.plot(range(len(loss_per_epoch)),loss_per_epoch)"
      ],
      "metadata": {
        "colab": {
          "base_uri": "https://localhost:8080/",
          "height": 282
        },
        "id": "eX0N38nZD6Zk",
        "outputId": "427c9f60-f6b6-4185-ed58-ce01d48586f4"
      },
      "execution_count": 334,
      "outputs": [
        {
          "output_type": "execute_result",
          "data": {
            "text/plain": [
              "[<matplotlib.lines.Line2D at 0x7f50738f7e10>]"
            ]
          },
          "metadata": {},
          "execution_count": 334
        },
        {
          "output_type": "display_data",
          "data": {
            "image/png": "[encoded data removed]",
            "text/plain": [
              "<Figure size 432x288 with 1 Axes>"
            ]
          },
          "metadata": {
            "needs_background": "light"
          }
        }
      ]
    },
    {
      "cell_type": "code",
      "source": [
        "last_train_batch = scaled_train[-30:]"
      ],
      "metadata": {
        "id": "VjxjiSpSEBMx"
      },
      "execution_count": 335,
      "outputs": []
    },
    {
      "cell_type": "code",
      "source": [
        "last_train_batch = last_train_batch.reshape((1, n_input, n_features))"
      ],
      "metadata": {
        "id": "oKGOxHcJEFe0"
      },
      "execution_count": 336,
      "outputs": []
    },
    {
      "cell_type": "code",
      "source": [
        "model.predict(last_train_batch) #predicted value"
      ],
      "metadata": {
        "colab": {
          "base_uri": "https://localhost:8080/"
        },
        "id": "Z1DcIxsDEJuV",
        "outputId": "05f4f310-5f08-4d46-c323-0d9c383819dd"
      },
      "execution_count": 337,
      "outputs": [
        {
          "output_type": "execute_result",
          "data": {
            "text/plain": [
              "array([[0.00679942]], dtype=float32)"
            ]
          },
          "metadata": {},
          "execution_count": 337
        }
      ]
    },
    {
      "cell_type": "code",
      "source": [
        "scaled_test[0] #actual value"
      ],
      "metadata": {
        "colab": {
          "base_uri": "https://localhost:8080/"
        },
        "id": "9s8Ri9mlEOWy",
        "outputId": "4af4a840-453b-4833-dc65-e841e72e54c4"
      },
      "execution_count": 338,
      "outputs": [
        {
          "output_type": "execute_result",
          "data": {
            "text/plain": [
              "array([0.00289288])"
            ]
          },
          "metadata": {},
          "execution_count": 338
        }
      ]
    },
    {
      "cell_type": "code",
      "source": [
        "test_predictions = []\n",
        "\n",
        "first_eval_batch = scaled_train[-n_input:]\n",
        "current_batch = first_eval_batch.reshape((1, n_input, n_features))\n",
        "\n",
        "for i in range(len(test)):\n",
        "    \n",
        "    # get the prediction value for the first batch\n",
        "    current_pred = model.predict(current_batch)[0]\n",
        "    \n",
        "    # append the prediction into the array\n",
        "    test_predictions.append(current_pred) \n",
        "    \n",
        "    # use the prediction to update the batch and remove the first value\n",
        "    current_batch = np.append(current_batch[:,1:,:],[[current_pred]],axis=1)"
      ],
      "metadata": {
        "id": "JVubcA-aEcrT"
      },
      "execution_count": 339,
      "outputs": []
    },
    {
      "cell_type": "code",
      "source": [
        "test_predictions"
      ],
      "metadata": {
        "colab": {
          "base_uri": "https://localhost:8080/"
        },
        "id": "2Pp7s3b7EmDR",
        "outputId": "73990b84-b692-48ef-dcc9-61f5fd14ac86"
      },
      "execution_count": 340,
      "outputs": [
        {
          "output_type": "execute_result",
          "data": {
            "text/plain": [
              "[array([0.00679942], dtype=float32),\n",
              " array([0.00746039], dtype=float32),\n",
              " array([0.00441889], dtype=float32),\n",
              " array([0.00751019], dtype=float32),\n",
              " array([0.01496521], dtype=float32),\n",
              " array([0.5330103], dtype=float32),\n",
              " array([0.41953725], dtype=float32),\n",
              " array([0.03871504], dtype=float32),\n",
              " array([0.02511317], dtype=float32),\n",
              " array([0.01330564], dtype=float32),\n",
              " array([0.00814798], dtype=float32),\n",
              " array([0.03624583], dtype=float32)]"
            ]
          },
          "metadata": {},
          "execution_count": 340
        }
      ]
    },
    {
      "cell_type": "code",
      "source": [
        "test.head()"
      ],
      "metadata": {
        "colab": {
          "base_uri": "https://localhost:8080/",
          "height": 238
        },
        "id": "5rAjD4QbEshc",
        "outputId": "10a8739f-6ff2-4913-b4fd-898eaeddcdc9"
      },
      "execution_count": 341,
      "outputs": [
        {
          "output_type": "execute_result",
          "data": {
            "text/html": [
              "\n",
              "  <div id=\"df-13735db9-afd8-455b-aa07-86e524d1cec6\">\n",
              "    <div class=\"colab-df-container\">\n",
              "      <div>\n",
              "<style scoped>\n",
              "    .dataframe tbody tr th:only-of-type {\n",
              "        vertical-align: middle;\n",
              "    }\n",
              "\n",
              "    .dataframe tbody tr th {\n",
              "        vertical-align: top;\n",
              "    }\n",
              "\n",
              "    .dataframe thead th {\n",
              "        text-align: right;\n",
              "    }\n",
              "</style>\n",
              "<table border=\"1\" class=\"dataframe\">\n",
              "  <thead>\n",
              "    <tr style=\"text-align: right;\">\n",
              "      <th></th>\n",
              "      <th>CalcNumOfBytesReadPerDay</th>\n",
              "    </tr>\n",
              "    <tr>\n",
              "      <th>SampleDate</th>\n",
              "      <th></th>\n",
              "    </tr>\n",
              "  </thead>\n",
              "  <tbody>\n",
              "    <tr>\n",
              "      <th>01-02-2022 00:00</th>\n",
              "      <td>70918144</td>\n",
              "    </tr>\n",
              "    <tr>\n",
              "      <th>02-02-2022 00:00</th>\n",
              "      <td>32636928</td>\n",
              "    </tr>\n",
              "    <tr>\n",
              "      <th>03-02-2022 00:00</th>\n",
              "      <td>70549504</td>\n",
              "    </tr>\n",
              "    <tr>\n",
              "      <th>04-02-2022 00:00</th>\n",
              "      <td>39108608</td>\n",
              "    </tr>\n",
              "    <tr>\n",
              "      <th>05-02-2022 00:00</th>\n",
              "      <td>26009600</td>\n",
              "    </tr>\n",
              "  </tbody>\n",
              "</table>\n",
              "</div>\n",
              "      <button class=\"colab-df-convert\" onclick=\"convertToInteractive('df-13735db9-afd8-455b-aa07-86e524d1cec6')\"\n",
              "              title=\"Convert this dataframe to an interactive table.\"\n",
              "              style=\"display:none;\">\n",
              "        \n",
              "  <svg xmlns=\"http://www.w3.org/2000/svg\" height=\"24px\"viewBox=\"0 0 24 24\"\n",
              "       width=\"24px\">\n",
              "    <path d=\"M0 0h24v24H0V0z\" fill=\"none\"/>\n",
              "    <path d=\"M18.56 5.44l.94 2.06.94-2.06 2.06-.94-2.06-.94-.94-2.06-.94 2.06-2.06.94zm-11 1L8.5 8.5l.94-2.06 2.06-.94-2.06-.94L8.5 2.5l-.94 2.06-2.06.94zm10 10l.94 2.06.94-2.06 2.06-.94-2.06-.94-.94-2.06-.94 2.06-2.06.94z\"/><path d=\"M17.41 7.96l-1.37-1.37c-.4-.4-.92-.59-1.43-.59-.52 0-1.04.2-1.43.59L10.3 9.45l-7.72 7.72c-.78.78-.78 2.05 0 2.83L4 21.41c.39.39.9.59 1.41.59.51 0 1.02-.2 1.41-.59l7.78-7.78 2.81-2.81c.8-.78.8-2.07 0-2.86zM5.41 20L4 18.59l7.72-7.72 1.47 1.35L5.41 20z\"/>\n",
              "  </svg>\n",
              "      </button>\n",
              "      \n",
              "  <style>\n",
              "    .colab-df-container {\n",
              "      display:flex;\n",
              "      flex-wrap:wrap;\n",
              "      gap: 12px;\n",
              "    }\n",
              "\n",
              "    .colab-df-convert {\n",
              "      background-color: #E8F0FE;\n",
              "      border: none;\n",
              "      border-radius: 50%;\n",
              "      cursor: pointer;\n",
              "      display: none;\n",
              "      fill: #1967D2;\n",
              "      height: 32px;\n",
              "      padding: 0 0 0 0;\n",
              "      width: 32px;\n",
              "    }\n",
              "\n",
              "    .colab-df-convert:hover {\n",
              "      background-color: #E2EBFA;\n",
              "      box-shadow: 0px 1px 2px rgba(60, 64, 67, 0.3), 0px 1px 3px 1px rgba(60, 64, 67, 0.15);\n",
              "      fill: #174EA6;\n",
              "    }\n",
              "\n",
              "    [theme=dark] .colab-df-convert {\n",
              "      background-color: #3B4455;\n",
              "      fill: #D2E3FC;\n",
              "    }\n",
              "\n",
              "    [theme=dark] .colab-df-convert:hover {\n",
              "      background-color: #434B5C;\n",
              "      box-shadow: 0px 1px 3px 1px rgba(0, 0, 0, 0.15);\n",
              "      filter: drop-shadow(0px 1px 2px rgba(0, 0, 0, 0.3));\n",
              "      fill: #FFFFFF;\n",
              "    }\n",
              "  </style>\n",
              "\n",
              "      <script>\n",
              "        const buttonEl =\n",
              "          document.querySelector('#df-13735db9-afd8-455b-aa07-86e524d1cec6 button.colab-df-convert');\n",
              "        buttonEl.style.display =\n",
              "          google.colab.kernel.accessAllowed ? 'block' : 'none';\n",
              "\n",
              "        async function convertToInteractive(key) {\n",
              "          const element = document.querySelector('#df-13735db9-afd8-455b-aa07-86e524d1cec6');\n",
              "          const dataTable =\n",
              "            await google.colab.kernel.invokeFunction('convertToInteractive',\n",
              "                                                     [key], {});\n",
              "          if (!dataTable) return;\n",
              "\n",
              "          const docLinkHtml = 'Like what you see? Visit the ' +\n",
              "            '<a target=\"_blank\" href=https://colab.research.google.com/notebooks/data_table.ipynb>data table notebook</a>'\n",
              "            + ' to learn more about interactive tables.';\n",
              "          element.innerHTML = '';\n",
              "          dataTable['output_type'] = 'display_data';\n",
              "          await google.colab.output.renderOutput(dataTable, element);\n",
              "          const docLink = document.createElement('div');\n",
              "          docLink.innerHTML = docLinkHtml;\n",
              "          element.appendChild(docLink);\n",
              "        }\n",
              "      </script>\n",
              "    </div>\n",
              "  </div>\n",
              "  "
            ],
            "text/plain": [
              "                  CalcNumOfBytesReadPerDay\n",
              "SampleDate                                \n",
              "01-02-2022 00:00                  70918144\n",
              "02-02-2022 00:00                  32636928\n",
              "03-02-2022 00:00                  70549504\n",
              "04-02-2022 00:00                  39108608\n",
              "05-02-2022 00:00                  26009600"
            ]
          },
          "metadata": {},
          "execution_count": 341
        }
      ]
    },
    {
      "cell_type": "code",
      "source": [
        "true_predictions = scaler.inverse_transform(test_predictions)"
      ],
      "metadata": {
        "id": "smXuz0plFO-s"
      },
      "execution_count": 342,
      "outputs": []
    },
    {
      "cell_type": "code",
      "source": [
        "test['Predictions'] = true_predictions"
      ],
      "metadata": {
        "colab": {
          "base_uri": "https://localhost:8080/"
        },
        "id": "6rnM7ddPFSkM",
        "outputId": "75bf1f06-35a7-421c-800e-73c213838adc"
      },
      "execution_count": 343,
      "outputs": [
        {
          "output_type": "stream",
          "name": "stderr",
          "text": [
            "/usr/local/lib/python3.7/dist-packages/ipykernel_launcher.py:1: SettingWithCopyWarning: \n",
            "A value is trying to be set on a copy of a slice from a DataFrame.\n",
            "Try using .loc[row_indexer,col_indexer] = value instead\n",
            "\n",
            "See the caveats in the documentation: https://pandas.pydata.org/pandas-docs/stable/user_guide/indexing.html#returning-a-view-versus-a-copy\n",
            "  \"\"\"Entry point for launching an IPython kernel.\n"
          ]
        }
      ]
    },
    {
      "cell_type": "code",
      "source": [
        "test.plot(figsize=(14,5))"
      ],
      "metadata": {
        "colab": {
          "base_uri": "https://localhost:8080/",
          "height": 362
        },
        "id": "aR_cjSSwFXIu",
        "outputId": "4815ed2b-241e-493e-dfdf-5f60ea6d7989"
      },
      "execution_count": 344,
      "outputs": [
        {
          "output_type": "execute_result",
          "data": {
            "text/plain": [
              "<matplotlib.axes._subplots.AxesSubplot at 0x7f507376c210>"
            ]
          },
          "metadata": {},
          "execution_count": 344
        },
        {
          "output_type": "display_data",
          "data": {
            "image/png": "[encoded data removed]",
            "text/plain": [
              "<Figure size 1008x360 with 1 Axes>"
            ]
          },
          "metadata": {
            "needs_background": "light"
          }
        }
      ]
    },
    {
      "cell_type": "code",
      "source": [
        "from sklearn.metrics import mean_squared_error\n",
        "from math import sqrt\n",
        "rmse=sqrt(mean_squared_error(test['CalcNumOfBytesReadPerDay'],test['Predictions']))\n",
        "print(rmse)"
      ],
      "metadata": {
        "colab": {
          "base_uri": "https://localhost:8080/"
        },
        "id": "6RU0p-kWFkGf",
        "outputId": "07b1e99d-6307-43e0-e9a8-edd08e24d6d0"
      },
      "execution_count": 359,
      "outputs": [
        {
          "output_type": "stream",
          "name": "stdout",
          "text": [
            "745400955.3167585\n"
          ]
        }
      ]
    },
    {
      "cell_type": "code",
      "source": [
        "test['CalcNumOfBytesReadPerDay']\n",
        "\n",
        "test['CalcNumOfBytesReadPerDay'].astype('float64')"
      ],
      "metadata": {
        "colab": {
          "base_uri": "https://localhost:8080/"
        },
        "id": "oPwz39lr4IPR",
        "outputId": "8e729426-52df-488e-8ad2-97eccb04ea34"
      },
      "execution_count": 357,
      "outputs": [
        {
          "output_type": "execute_result",
          "data": {
            "text/plain": [
              "SampleDate\n",
              "01-02-2022 00:00    7.091814e+07\n",
              "02-02-2022 00:00    3.263693e+07\n",
              "03-02-2022 00:00    7.054950e+07\n",
              "04-02-2022 00:00    3.910861e+07\n",
              "05-02-2022 00:00    2.600960e+07\n",
              "06-02-2022 00:00    1.225182e+10\n",
              "07-02-2022 00:00    1.220542e+10\n",
              "08-02-2022 00:00    3.003187e+07\n",
              "09-02-2022 00:00    1.908736e+06\n",
              "10-02-2022 00:00    9.609216e+06\n",
              "11-02-2022 00:00    1.589248e+07\n",
              "12-02-2022 00:00    2.327347e+07\n",
              "Name: CalcNumOfBytesReadPerDay, dtype: float64"
            ]
          },
          "metadata": {},
          "execution_count": 357
        }
      ]
    },
    {
      "cell_type": "code",
      "source": [
        "test['Predictions']\n"
      ],
      "metadata": {
        "colab": {
          "base_uri": "https://localhost:8080/"
        },
        "id": "vmdLJd6X6Tnw",
        "outputId": "e021d981-2519-4fac-a098-ba853b29daeb"
      },
      "execution_count": 358,
      "outputs": [
        {
          "output_type": "execute_result",
          "data": {
            "text/plain": [
              "SampleDate\n",
              "01-02-2022 00:00    1.664206e+08\n",
              "02-02-2022 00:00    1.825790e+08\n",
              "03-02-2022 00:00    1.082242e+08\n",
              "04-02-2022 00:00    1.837964e+08\n",
              "05-02-2022 00:00    3.660479e+08\n",
              "06-02-2022 00:00    1.303058e+10\n",
              "07-02-2022 00:00    1.025653e+10\n",
              "08-02-2022 00:00    9.466547e+08\n",
              "09-02-2022 00:00    6.141328e+08\n",
              "10-02-2022 00:00    3.254767e+08\n",
              "11-02-2022 00:00    1.993884e+08\n",
              "12-02-2022 00:00    8.862905e+08\n",
              "Name: Predictions, dtype: float64"
            ]
          },
          "metadata": {},
          "execution_count": 358
        }
      ]
    }
  ]
}