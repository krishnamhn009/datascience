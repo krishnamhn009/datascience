{
  "nbformat": 4,
  "nbformat_minor": 0,
  "metadata": {
    "colab": {
      "name": "Server_Read_Write_ARIMA_Model.ipynb",
      "provenance": [],
      "collapsed_sections": [],
      "toc_visible": true,
      "include_colab_link": true
    },
    "kernelspec": {
      "name": "python3",
      "display_name": "Python 3"
    },
    "language_info": {
      "name": "python"
    }
  },
  "cells": [
    {
      "cell_type": "markdown",
      "metadata": {
        "id": "view-in-github",
        "colab_type": "text"
      },
      "source": [
        "<a href=\"https://colab.research.google.com/github/krishnamhn009/datascience/blob/master/Server_Read_Write_ARIMA_Model.ipynb\" target=\"_parent\"><img src=\"https://colab.research.google.com/assets/colab-badge.svg\" alt=\"Open In Colab\"/></a>"
      ]
    },
    {
      "cell_type": "markdown",
      "source": [
        "# Importing library"
      ],
      "metadata": {
        "id": "SS_s7L4mbylJ"
      }
    },
    {
      "cell_type": "code",
      "execution_count": 4,
      "metadata": {
        "id": "j29-dlOI2CK9"
      },
      "outputs": [],
      "source": [
        "import pandas as pd\n",
        "import numpy as np\n",
        "import matplotlib.pyplot as plt\n",
        "\n",
        "!pip install pmdarima\n",
        "!pip install numpy scipy patsy pandas statsmodels"
      ]
    },
    {
      "cell_type": "markdown",
      "source": [
        "read the data using pd.read_csv and writing parse_date=True, makes sure that pandas understands that it is dealing with date values and not string values"
      ],
      "metadata": {
        "id": "s6DvRSve5ok7"
      }
    },
    {
      "cell_type": "code",
      "source": [
        "urlMonthly='/content/sample_data/Server_Disk_Monthly.csv'\n",
        "urlDaily='/content/sample_data/Server-Read-Write-Response-Daily1.csv'\n",
        "df = pd.read_csv(urlDaily,encoding = \"ISO-8859-1\",parse_dates=True)\n",
        "df.head()"
      ],
      "metadata": {
        "colab": {
          "base_uri": "https://localhost:8080/",
          "height": 357
        },
        "id": "t8ZuHeiC2GK1",
        "outputId": "00965b5b-f4c5-47bb-c892-f4a4d59b3d58"
      },
      "execution_count": 5,
      "outputs": [
        {
          "output_type": "execute_result",
          "data": {
            "text/html": [
              "\n",
              "  <div id=\"df-58d37a99-a213-4e40-8ec6-bc798c9b6d93\">\n",
              "    <div class=\"colab-df-container\">\n",
              "      <div>\n",
              "<style scoped>\n",
              "    .dataframe tbody tr th:only-of-type {\n",
              "        vertical-align: middle;\n",
              "    }\n",
              "\n",
              "    .dataframe tbody tr th {\n",
              "        vertical-align: top;\n",
              "    }\n",
              "\n",
              "    .dataframe thead th {\n",
              "        text-align: right;\n",
              "    }\n",
              "</style>\n",
              "<table border=\"1\" class=\"dataframe\">\n",
              "  <thead>\n",
              "    <tr style=\"text-align: right;\">\n",
              "      <th></th>\n",
              "      <th>ï»¿SampleDate</th>\n",
              "      <th>YearOfSample</th>\n",
              "      <th>MonthOfSample</th>\n",
              "      <th>DayOfSample</th>\n",
              "      <th>QuarterOfSample</th>\n",
              "      <th>SqlInstanceName</th>\n",
              "      <th>DatabaseName</th>\n",
              "      <th>CalcNumOfReads</th>\n",
              "      <th>CalcNumOfWrites</th>\n",
              "      <th>CalcNumOfBytesReadPerDay</th>\n",
              "      <th>CalcNumOfBytesWrittenPerDay</th>\n",
              "      <th>CalcNumOfTeraBytesReadPerDay</th>\n",
              "      <th>CalcNumOfTeraBytesWrittenPerDay</th>\n",
              "      <th>CalcSizeOnDiskBytes</th>\n",
              "    </tr>\n",
              "  </thead>\n",
              "  <tbody>\n",
              "    <tr>\n",
              "      <th>0</th>\n",
              "      <td>21-07-2020 00:00</td>\n",
              "      <td>2020</td>\n",
              "      <td>7</td>\n",
              "      <td>21</td>\n",
              "      <td>Q3</td>\n",
              "      <td>WSPE001618\\DEINSTANCE00</td>\n",
              "      <td>GCM_FS_Work</td>\n",
              "      <td>326269</td>\n",
              "      <td>22</td>\n",
              "      <td>3.280000e+11</td>\n",
              "      <td>1.802240e+05</td>\n",
              "      <td>0.30</td>\n",
              "      <td>0.00</td>\n",
              "      <td>3.270000e+11</td>\n",
              "    </tr>\n",
              "    <tr>\n",
              "      <th>1</th>\n",
              "      <td>21-07-2020 00:00</td>\n",
              "      <td>2020</td>\n",
              "      <td>7</td>\n",
              "      <td>21</td>\n",
              "      <td>Q3</td>\n",
              "      <td>WSPE001618\\DEINSTANCE00</td>\n",
              "      <td>IFRS9_GCM_Freeze</td>\n",
              "      <td>13684</td>\n",
              "      <td>22</td>\n",
              "      <td>1.205531e+10</td>\n",
              "      <td>1.802240e+05</td>\n",
              "      <td>0.01</td>\n",
              "      <td>0.00</td>\n",
              "      <td>1.288490e+10</td>\n",
              "    </tr>\n",
              "    <tr>\n",
              "      <th>2</th>\n",
              "      <td>21-07-2020 00:00</td>\n",
              "      <td>2020</td>\n",
              "      <td>7</td>\n",
              "      <td>21</td>\n",
              "      <td>Q3</td>\n",
              "      <td>WSPE001618\\DEINSTANCE00</td>\n",
              "      <td>CreditCore_GCM_Work</td>\n",
              "      <td>1202715</td>\n",
              "      <td>194460</td>\n",
              "      <td>1.050000e+12</td>\n",
              "      <td>1.310000e+11</td>\n",
              "      <td>0.96</td>\n",
              "      <td>0.12</td>\n",
              "      <td>7.770000e+11</td>\n",
              "    </tr>\n",
              "    <tr>\n",
              "      <th>3</th>\n",
              "      <td>21-07-2020 00:00</td>\n",
              "      <td>2020</td>\n",
              "      <td>7</td>\n",
              "      <td>21</td>\n",
              "      <td>Q3</td>\n",
              "      <td>WSPE001618\\DEINSTANCE00</td>\n",
              "      <td>DBA</td>\n",
              "      <td>27362</td>\n",
              "      <td>-5668</td>\n",
              "      <td>7.080018e+08</td>\n",
              "      <td>-1.187881e+09</td>\n",
              "      <td>0.00</td>\n",
              "      <td>0.00</td>\n",
              "      <td>0.000000e+00</td>\n",
              "    </tr>\n",
              "    <tr>\n",
              "      <th>4</th>\n",
              "      <td>21-07-2020 00:00</td>\n",
              "      <td>2020</td>\n",
              "      <td>7</td>\n",
              "      <td>21</td>\n",
              "      <td>Q3</td>\n",
              "      <td>WSPE001618\\DEINSTANCE00</td>\n",
              "      <td>IFRS9_GCM_QA</td>\n",
              "      <td>2910</td>\n",
              "      <td>22</td>\n",
              "      <td>1.491812e+09</td>\n",
              "      <td>1.802240e+05</td>\n",
              "      <td>0.00</td>\n",
              "      <td>0.00</td>\n",
              "      <td>7.516193e+09</td>\n",
              "    </tr>\n",
              "  </tbody>\n",
              "</table>\n",
              "</div>\n",
              "      <button class=\"colab-df-convert\" onclick=\"convertToInteractive('df-58d37a99-a213-4e40-8ec6-bc798c9b6d93')\"\n",
              "              title=\"Convert this dataframe to an interactive table.\"\n",
              "              style=\"display:none;\">\n",
              "        \n",
              "  <svg xmlns=\"http://www.w3.org/2000/svg\" height=\"24px\"viewBox=\"0 0 24 24\"\n",
              "       width=\"24px\">\n",
              "    <path d=\"M0 0h24v24H0V0z\" fill=\"none\"/>\n",
              "    <path d=\"M18.56 5.44l.94 2.06.94-2.06 2.06-.94-2.06-.94-.94-2.06-.94 2.06-2.06.94zm-11 1L8.5 8.5l.94-2.06 2.06-.94-2.06-.94L8.5 2.5l-.94 2.06-2.06.94zm10 10l.94 2.06.94-2.06 2.06-.94-2.06-.94-.94-2.06-.94 2.06-2.06.94z\"/><path d=\"M17.41 7.96l-1.37-1.37c-.4-.4-.92-.59-1.43-.59-.52 0-1.04.2-1.43.59L10.3 9.45l-7.72 7.72c-.78.78-.78 2.05 0 2.83L4 21.41c.39.39.9.59 1.41.59.51 0 1.02-.2 1.41-.59l7.78-7.78 2.81-2.81c.8-.78.8-2.07 0-2.86zM5.41 20L4 18.59l7.72-7.72 1.47 1.35L5.41 20z\"/>\n",
              "  </svg>\n",
              "      </button>\n",
              "      \n",
              "  <style>\n",
              "    .colab-df-container {\n",
              "      display:flex;\n",
              "      flex-wrap:wrap;\n",
              "      gap: 12px;\n",
              "    }\n",
              "\n",
              "    .colab-df-convert {\n",
              "      background-color: #E8F0FE;\n",
              "      border: none;\n",
              "      border-radius: 50%;\n",
              "      cursor: pointer;\n",
              "      display: none;\n",
              "      fill: #1967D2;\n",
              "      height: 32px;\n",
              "      padding: 0 0 0 0;\n",
              "      width: 32px;\n",
              "    }\n",
              "\n",
              "    .colab-df-convert:hover {\n",
              "      background-color: #E2EBFA;\n",
              "      box-shadow: 0px 1px 2px rgba(60, 64, 67, 0.3), 0px 1px 3px 1px rgba(60, 64, 67, 0.15);\n",
              "      fill: #174EA6;\n",
              "    }\n",
              "\n",
              "    [theme=dark] .colab-df-convert {\n",
              "      background-color: #3B4455;\n",
              "      fill: #D2E3FC;\n",
              "    }\n",
              "\n",
              "    [theme=dark] .colab-df-convert:hover {\n",
              "      background-color: #434B5C;\n",
              "      box-shadow: 0px 1px 3px 1px rgba(0, 0, 0, 0.15);\n",
              "      filter: drop-shadow(0px 1px 2px rgba(0, 0, 0, 0.3));\n",
              "      fill: #FFFFFF;\n",
              "    }\n",
              "  </style>\n",
              "\n",
              "      <script>\n",
              "        const buttonEl =\n",
              "          document.querySelector('#df-58d37a99-a213-4e40-8ec6-bc798c9b6d93 button.colab-df-convert');\n",
              "        buttonEl.style.display =\n",
              "          google.colab.kernel.accessAllowed ? 'block' : 'none';\n",
              "\n",
              "        async function convertToInteractive(key) {\n",
              "          const element = document.querySelector('#df-58d37a99-a213-4e40-8ec6-bc798c9b6d93');\n",
              "          const dataTable =\n",
              "            await google.colab.kernel.invokeFunction('convertToInteractive',\n",
              "                                                     [key], {});\n",
              "          if (!dataTable) return;\n",
              "\n",
              "          const docLinkHtml = 'Like what you see? Visit the ' +\n",
              "            '<a target=\"_blank\" href=https://colab.research.google.com/notebooks/data_table.ipynb>data table notebook</a>'\n",
              "            + ' to learn more about interactive tables.';\n",
              "          element.innerHTML = '';\n",
              "          dataTable['output_type'] = 'display_data';\n",
              "          await google.colab.output.renderOutput(dataTable, element);\n",
              "          const docLink = document.createElement('div');\n",
              "          docLink.innerHTML = docLinkHtml;\n",
              "          element.appendChild(docLink);\n",
              "        }\n",
              "      </script>\n",
              "    </div>\n",
              "  </div>\n",
              "  "
            ],
            "text/plain": [
              "      ï»¿SampleDate  ...  CalcSizeOnDiskBytes\n",
              "0  21-07-2020 00:00  ...         3.270000e+11\n",
              "1  21-07-2020 00:00  ...         1.288490e+10\n",
              "2  21-07-2020 00:00  ...         7.770000e+11\n",
              "3  21-07-2020 00:00  ...         0.000000e+00\n",
              "4  21-07-2020 00:00  ...         7.516193e+09\n",
              "\n",
              "[5 rows x 14 columns]"
            ]
          },
          "metadata": {},
          "execution_count": 5
        }
      ]
    },
    {
      "cell_type": "markdown",
      "source": [
        "# Reading Data"
      ],
      "metadata": {
        "id": "x8MOTDBkSDis"
      }
    },
    {
      "cell_type": "code",
      "source": [
        "df.columns"
      ],
      "metadata": {
        "colab": {
          "base_uri": "https://localhost:8080/"
        },
        "id": "nSb5T0KHBTW5",
        "outputId": "b9cc3109-3e3b-462b-aacd-b79949a8b937"
      },
      "execution_count": 6,
      "outputs": [
        {
          "output_type": "execute_result",
          "data": {
            "text/plain": [
              "Index(['ï»¿SampleDate', 'YearOfSample', 'MonthOfSample', 'DayOfSample',\n",
              "       'QuarterOfSample', 'SqlInstanceName', 'DatabaseName', 'CalcNumOfReads',\n",
              "       'CalcNumOfWrites', 'CalcNumOfBytesReadPerDay',\n",
              "       'CalcNumOfBytesWrittenPerDay', 'CalcNumOfTeraBytesReadPerDay',\n",
              "       'CalcNumOfTeraBytesWrittenPerDay', 'CalcSizeOnDiskBytes'],\n",
              "      dtype='object')"
            ]
          },
          "metadata": {},
          "execution_count": 6
        }
      ]
    },
    {
      "cell_type": "markdown",
      "source": [
        "Here data contains various columns ,but I have to check read and write data .which is important here"
      ],
      "metadata": {
        "id": "ZwiLnznk511l"
      }
    },
    {
      "cell_type": "markdown",
      "source": [
        "Below creating one new column SampleDate whihc will have sample date values."
      ],
      "metadata": {
        "id": "4oQhRfW76Mpx"
      }
    },
    {
      "cell_type": "code",
      "source": [
        "import datetime\n",
        "df['SampleDate']=df['ï»¿SampleDate']\n",
        "df['SampleDate']"
      ],
      "metadata": {
        "id": "DJiLtw6E6EhV",
        "colab": {
          "base_uri": "https://localhost:8080/"
        },
        "outputId": "ca9700b3-6172-402e-a3e2-d3541a456b73"
      },
      "execution_count": 7,
      "outputs": [
        {
          "output_type": "execute_result",
          "data": {
            "text/plain": [
              "0        21-07-2020 00:00\n",
              "1        21-07-2020 00:00\n",
              "2        21-07-2020 00:00\n",
              "3        21-07-2020 00:00\n",
              "4        21-07-2020 00:00\n",
              "               ...       \n",
              "80043    12-02-2022 00:00\n",
              "80044    12-02-2022 00:00\n",
              "80045    12-02-2022 00:00\n",
              "80046    12-02-2022 00:00\n",
              "80047    12-02-2022 00:00\n",
              "Name: SampleDate, Length: 80048, dtype: object"
            ]
          },
          "metadata": {},
          "execution_count": 7
        }
      ]
    },
    {
      "cell_type": "markdown",
      "source": [
        "# Data extracting functions"
      ],
      "metadata": {
        "id": "B9O4915M8ikD"
      }
    },
    {
      "cell_type": "code",
      "source": [
        "#function to set index in dataframe for given column\n",
        "def setIndex(columnName,dataframe):\n",
        "  dataframe.set_index(columnName, inplace = True)\n",
        "  dataframe=dataframe.asfreq('D')\n",
        "  dataframe.index.freq='D'\n",
        "\n",
        "#func to get data for specific database\n",
        "def getDataSet(databaseName):\n",
        "  print(\"input param \",databaseName)\n",
        "  dfAnalysis=df[(df.DatabaseName == databaseName)]\n",
        "  setIndex('SampleDate',dfAnalysis)\n",
        "  return dfAnalysis\n",
        "\n",
        "# data clean\n",
        "def cleanDataSet(dfAnalysis):\n",
        "  dfAnalysis=dfAnalysis.dropna()\n",
        "  dfAnalysis.round(2) \n",
        "  return dfAnalysis"
      ],
      "metadata": {
        "id": "_Eoh_sq08zpO"
      },
      "execution_count": 8,
      "outputs": []
    },
    {
      "cell_type": "code",
      "source": [
        "dfAnalysis=getDataSet('GCM_FS_Work') #GCM_FS_Work IFRS9_SME_Retail_PRD\n",
        "dfAnalysis=cleanDataSet(dfAnalysis)\n",
        "dfAnalysis"
      ],
      "metadata": {
        "colab": {
          "base_uri": "https://localhost:8080/",
          "height": 710
        },
        "id": "1Q-_vwO-xkrR",
        "outputId": "2b772199-5fd1-4168-836c-ac289fec315b"
      },
      "execution_count": 28,
      "outputs": [
        {
          "output_type": "stream",
          "name": "stdout",
          "text": [
            "input param  GCM_FS_Work\n"
          ]
        },
        {
          "output_type": "execute_result",
          "data": {
            "text/html": [
              "\n",
              "  <div id=\"df-d20f4f5b-2c18-4bc9-bdcd-95aa1d30a686\">\n",
              "    <div class=\"colab-df-container\">\n",
              "      <div>\n",
              "<style scoped>\n",
              "    .dataframe tbody tr th:only-of-type {\n",
              "        vertical-align: middle;\n",
              "    }\n",
              "\n",
              "    .dataframe tbody tr th {\n",
              "        vertical-align: top;\n",
              "    }\n",
              "\n",
              "    .dataframe thead th {\n",
              "        text-align: right;\n",
              "    }\n",
              "</style>\n",
              "<table border=\"1\" class=\"dataframe\">\n",
              "  <thead>\n",
              "    <tr style=\"text-align: right;\">\n",
              "      <th></th>\n",
              "      <th>ï»¿SampleDate</th>\n",
              "      <th>YearOfSample</th>\n",
              "      <th>MonthOfSample</th>\n",
              "      <th>DayOfSample</th>\n",
              "      <th>QuarterOfSample</th>\n",
              "      <th>SqlInstanceName</th>\n",
              "      <th>DatabaseName</th>\n",
              "      <th>CalcNumOfReads</th>\n",
              "      <th>CalcNumOfWrites</th>\n",
              "      <th>CalcNumOfBytesReadPerDay</th>\n",
              "      <th>CalcNumOfBytesWrittenPerDay</th>\n",
              "      <th>CalcNumOfTeraBytesReadPerDay</th>\n",
              "      <th>CalcNumOfTeraBytesWrittenPerDay</th>\n",
              "      <th>CalcSizeOnDiskBytes</th>\n",
              "    </tr>\n",
              "    <tr>\n",
              "      <th>SampleDate</th>\n",
              "      <th></th>\n",
              "      <th></th>\n",
              "      <th></th>\n",
              "      <th></th>\n",
              "      <th></th>\n",
              "      <th></th>\n",
              "      <th></th>\n",
              "      <th></th>\n",
              "      <th></th>\n",
              "      <th></th>\n",
              "      <th></th>\n",
              "      <th></th>\n",
              "      <th></th>\n",
              "      <th></th>\n",
              "    </tr>\n",
              "  </thead>\n",
              "  <tbody>\n",
              "    <tr>\n",
              "      <th>21-07-2020 00:00</th>\n",
              "      <td>21-07-2020 00:00</td>\n",
              "      <td>2020</td>\n",
              "      <td>7</td>\n",
              "      <td>21</td>\n",
              "      <td>Q3</td>\n",
              "      <td>WSPE001618\\DEINSTANCE00</td>\n",
              "      <td>GCM_FS_Work</td>\n",
              "      <td>326269</td>\n",
              "      <td>22</td>\n",
              "      <td>3.280000e+11</td>\n",
              "      <td>1.802240e+05</td>\n",
              "      <td>0.30</td>\n",
              "      <td>0.0</td>\n",
              "      <td>3.270000e+11</td>\n",
              "    </tr>\n",
              "    <tr>\n",
              "      <th>22-07-2020 00:00</th>\n",
              "      <td>22-07-2020 00:00</td>\n",
              "      <td>2020</td>\n",
              "      <td>7</td>\n",
              "      <td>22</td>\n",
              "      <td>Q3</td>\n",
              "      <td>WSPE001618\\DEINSTANCE00</td>\n",
              "      <td>GCM_FS_Work</td>\n",
              "      <td>5480</td>\n",
              "      <td>8</td>\n",
              "      <td>3.552707e+08</td>\n",
              "      <td>6.553600e+04</td>\n",
              "      <td>0.30</td>\n",
              "      <td>0.0</td>\n",
              "      <td>0.000000e+00</td>\n",
              "    </tr>\n",
              "    <tr>\n",
              "      <th>23-07-2020 00:00</th>\n",
              "      <td>23-07-2020 00:00</td>\n",
              "      <td>2020</td>\n",
              "      <td>7</td>\n",
              "      <td>23</td>\n",
              "      <td>Q3</td>\n",
              "      <td>WSPE001618\\DEINSTANCE00</td>\n",
              "      <td>GCM_FS_Work</td>\n",
              "      <td>26</td>\n",
              "      <td>0</td>\n",
              "      <td>1.597440e+06</td>\n",
              "      <td>0.000000e+00</td>\n",
              "      <td>0.30</td>\n",
              "      <td>0.0</td>\n",
              "      <td>0.000000e+00</td>\n",
              "    </tr>\n",
              "    <tr>\n",
              "      <th>24-07-2020 00:00</th>\n",
              "      <td>24-07-2020 00:00</td>\n",
              "      <td>2020</td>\n",
              "      <td>7</td>\n",
              "      <td>24</td>\n",
              "      <td>Q3</td>\n",
              "      <td>WSPE001618\\DEINSTANCE00</td>\n",
              "      <td>GCM_FS_Work</td>\n",
              "      <td>11808</td>\n",
              "      <td>5</td>\n",
              "      <td>7.705805e+08</td>\n",
              "      <td>4.096000e+04</td>\n",
              "      <td>0.30</td>\n",
              "      <td>0.0</td>\n",
              "      <td>0.000000e+00</td>\n",
              "    </tr>\n",
              "    <tr>\n",
              "      <th>25-07-2020 00:00</th>\n",
              "      <td>25-07-2020 00:00</td>\n",
              "      <td>2020</td>\n",
              "      <td>7</td>\n",
              "      <td>25</td>\n",
              "      <td>Q3</td>\n",
              "      <td>WSPE001618\\DEINSTANCE00</td>\n",
              "      <td>GCM_FS_Work</td>\n",
              "      <td>98</td>\n",
              "      <td>1</td>\n",
              "      <td>6.529024e+06</td>\n",
              "      <td>8.192000e+03</td>\n",
              "      <td>0.30</td>\n",
              "      <td>0.0</td>\n",
              "      <td>0.000000e+00</td>\n",
              "    </tr>\n",
              "    <tr>\n",
              "      <th>...</th>\n",
              "      <td>...</td>\n",
              "      <td>...</td>\n",
              "      <td>...</td>\n",
              "      <td>...</td>\n",
              "      <td>...</td>\n",
              "      <td>...</td>\n",
              "      <td>...</td>\n",
              "      <td>...</td>\n",
              "      <td>...</td>\n",
              "      <td>...</td>\n",
              "      <td>...</td>\n",
              "      <td>...</td>\n",
              "      <td>...</td>\n",
              "      <td>...</td>\n",
              "    </tr>\n",
              "    <tr>\n",
              "      <th>08-02-2022 00:00</th>\n",
              "      <td>08-02-2022 00:00</td>\n",
              "      <td>2022</td>\n",
              "      <td>2</td>\n",
              "      <td>8</td>\n",
              "      <td>Q1</td>\n",
              "      <td>WSPE001618\\DEINSTANCE00</td>\n",
              "      <td>GCM_FS_Work</td>\n",
              "      <td>515232</td>\n",
              "      <td>2614</td>\n",
              "      <td>1.520000e+11</td>\n",
              "      <td>2.158592e+07</td>\n",
              "      <td>0.13</td>\n",
              "      <td>0.0</td>\n",
              "      <td>0.000000e+00</td>\n",
              "    </tr>\n",
              "    <tr>\n",
              "      <th>09-02-2022 00:00</th>\n",
              "      <td>09-02-2022 00:00</td>\n",
              "      <td>2022</td>\n",
              "      <td>2</td>\n",
              "      <td>9</td>\n",
              "      <td>Q1</td>\n",
              "      <td>WSPE001618\\DEINSTANCE00</td>\n",
              "      <td>GCM_FS_Work</td>\n",
              "      <td>1014571</td>\n",
              "      <td>10785</td>\n",
              "      <td>1.560000e+11</td>\n",
              "      <td>1.152655e+09</td>\n",
              "      <td>0.15</td>\n",
              "      <td>0.0</td>\n",
              "      <td>0.000000e+00</td>\n",
              "    </tr>\n",
              "    <tr>\n",
              "      <th>10-02-2022 00:00</th>\n",
              "      <td>10-02-2022 00:00</td>\n",
              "      <td>2022</td>\n",
              "      <td>2</td>\n",
              "      <td>10</td>\n",
              "      <td>Q1</td>\n",
              "      <td>WSPE001618\\DEINSTANCE00</td>\n",
              "      <td>GCM_FS_Work</td>\n",
              "      <td>600122</td>\n",
              "      <td>7157</td>\n",
              "      <td>1.190000e+11</td>\n",
              "      <td>6.025052e+08</td>\n",
              "      <td>0.10</td>\n",
              "      <td>0.0</td>\n",
              "      <td>0.000000e+00</td>\n",
              "    </tr>\n",
              "    <tr>\n",
              "      <th>11-02-2022 00:00</th>\n",
              "      <td>11-02-2022 00:00</td>\n",
              "      <td>2022</td>\n",
              "      <td>2</td>\n",
              "      <td>11</td>\n",
              "      <td>Q1</td>\n",
              "      <td>WSPE001618\\DEINSTANCE00</td>\n",
              "      <td>GCM_FS_Work</td>\n",
              "      <td>751909</td>\n",
              "      <td>981</td>\n",
              "      <td>1.680000e+11</td>\n",
              "      <td>2.353562e+07</td>\n",
              "      <td>0.16</td>\n",
              "      <td>0.0</td>\n",
              "      <td>0.000000e+00</td>\n",
              "    </tr>\n",
              "    <tr>\n",
              "      <th>12-02-2022 00:00</th>\n",
              "      <td>12-02-2022 00:00</td>\n",
              "      <td>2022</td>\n",
              "      <td>2</td>\n",
              "      <td>12</td>\n",
              "      <td>Q1</td>\n",
              "      <td>WSPE001618\\DEINSTANCE00</td>\n",
              "      <td>GCM_FS_Work</td>\n",
              "      <td>189105</td>\n",
              "      <td>153</td>\n",
              "      <td>3.535571e+10</td>\n",
              "      <td>1.515520e+06</td>\n",
              "      <td>0.03</td>\n",
              "      <td>0.0</td>\n",
              "      <td>0.000000e+00</td>\n",
              "    </tr>\n",
              "  </tbody>\n",
              "</table>\n",
              "<p>558 rows × 14 columns</p>\n",
              "</div>\n",
              "      <button class=\"colab-df-convert\" onclick=\"convertToInteractive('df-d20f4f5b-2c18-4bc9-bdcd-95aa1d30a686')\"\n",
              "              title=\"Convert this dataframe to an interactive table.\"\n",
              "              style=\"display:none;\">\n",
              "        \n",
              "  <svg xmlns=\"http://www.w3.org/2000/svg\" height=\"24px\"viewBox=\"0 0 24 24\"\n",
              "       width=\"24px\">\n",
              "    <path d=\"M0 0h24v24H0V0z\" fill=\"none\"/>\n",
              "    <path d=\"M18.56 5.44l.94 2.06.94-2.06 2.06-.94-2.06-.94-.94-2.06-.94 2.06-2.06.94zm-11 1L8.5 8.5l.94-2.06 2.06-.94-2.06-.94L8.5 2.5l-.94 2.06-2.06.94zm10 10l.94 2.06.94-2.06 2.06-.94-2.06-.94-.94-2.06-.94 2.06-2.06.94z\"/><path d=\"M17.41 7.96l-1.37-1.37c-.4-.4-.92-.59-1.43-.59-.52 0-1.04.2-1.43.59L10.3 9.45l-7.72 7.72c-.78.78-.78 2.05 0 2.83L4 21.41c.39.39.9.59 1.41.59.51 0 1.02-.2 1.41-.59l7.78-7.78 2.81-2.81c.8-.78.8-2.07 0-2.86zM5.41 20L4 18.59l7.72-7.72 1.47 1.35L5.41 20z\"/>\n",
              "  </svg>\n",
              "      </button>\n",
              "      \n",
              "  <style>\n",
              "    .colab-df-container {\n",
              "      display:flex;\n",
              "      flex-wrap:wrap;\n",
              "      gap: 12px;\n",
              "    }\n",
              "\n",
              "    .colab-df-convert {\n",
              "      background-color: #E8F0FE;\n",
              "      border: none;\n",
              "      border-radius: 50%;\n",
              "      cursor: pointer;\n",
              "      display: none;\n",
              "      fill: #1967D2;\n",
              "      height: 32px;\n",
              "      padding: 0 0 0 0;\n",
              "      width: 32px;\n",
              "    }\n",
              "\n",
              "    .colab-df-convert:hover {\n",
              "      background-color: #E2EBFA;\n",
              "      box-shadow: 0px 1px 2px rgba(60, 64, 67, 0.3), 0px 1px 3px 1px rgba(60, 64, 67, 0.15);\n",
              "      fill: #174EA6;\n",
              "    }\n",
              "\n",
              "    [theme=dark] .colab-df-convert {\n",
              "      background-color: #3B4455;\n",
              "      fill: #D2E3FC;\n",
              "    }\n",
              "\n",
              "    [theme=dark] .colab-df-convert:hover {\n",
              "      background-color: #434B5C;\n",
              "      box-shadow: 0px 1px 3px 1px rgba(0, 0, 0, 0.15);\n",
              "      filter: drop-shadow(0px 1px 2px rgba(0, 0, 0, 0.3));\n",
              "      fill: #FFFFFF;\n",
              "    }\n",
              "  </style>\n",
              "\n",
              "      <script>\n",
              "        const buttonEl =\n",
              "          document.querySelector('#df-d20f4f5b-2c18-4bc9-bdcd-95aa1d30a686 button.colab-df-convert');\n",
              "        buttonEl.style.display =\n",
              "          google.colab.kernel.accessAllowed ? 'block' : 'none';\n",
              "\n",
              "        async function convertToInteractive(key) {\n",
              "          const element = document.querySelector('#df-d20f4f5b-2c18-4bc9-bdcd-95aa1d30a686');\n",
              "          const dataTable =\n",
              "            await google.colab.kernel.invokeFunction('convertToInteractive',\n",
              "                                                     [key], {});\n",
              "          if (!dataTable) return;\n",
              "\n",
              "          const docLinkHtml = 'Like what you see? Visit the ' +\n",
              "            '<a target=\"_blank\" href=https://colab.research.google.com/notebooks/data_table.ipynb>data table notebook</a>'\n",
              "            + ' to learn more about interactive tables.';\n",
              "          element.innerHTML = '';\n",
              "          dataTable['output_type'] = 'display_data';\n",
              "          await google.colab.output.renderOutput(dataTable, element);\n",
              "          const docLink = document.createElement('div');\n",
              "          docLink.innerHTML = docLinkHtml;\n",
              "          element.appendChild(docLink);\n",
              "        }\n",
              "      </script>\n",
              "    </div>\n",
              "  </div>\n",
              "  "
            ],
            "text/plain": [
              "                     ï»¿SampleDate  ...  CalcSizeOnDiskBytes\n",
              "SampleDate                          ...                     \n",
              "21-07-2020 00:00  21-07-2020 00:00  ...         3.270000e+11\n",
              "22-07-2020 00:00  22-07-2020 00:00  ...         0.000000e+00\n",
              "23-07-2020 00:00  23-07-2020 00:00  ...         0.000000e+00\n",
              "24-07-2020 00:00  24-07-2020 00:00  ...         0.000000e+00\n",
              "25-07-2020 00:00  25-07-2020 00:00  ...         0.000000e+00\n",
              "...                            ...  ...                  ...\n",
              "08-02-2022 00:00  08-02-2022 00:00  ...         0.000000e+00\n",
              "09-02-2022 00:00  09-02-2022 00:00  ...         0.000000e+00\n",
              "10-02-2022 00:00  10-02-2022 00:00  ...         0.000000e+00\n",
              "11-02-2022 00:00  11-02-2022 00:00  ...         0.000000e+00\n",
              "12-02-2022 00:00  12-02-2022 00:00  ...         0.000000e+00\n",
              "\n",
              "[558 rows x 14 columns]"
            ]
          },
          "metadata": {},
          "execution_count": 28
        }
      ]
    },
    {
      "cell_type": "markdown",
      "source": [
        "# Extracting required columns "
      ],
      "metadata": {
        "id": "h_jn8cUN82lu"
      }
    },
    {
      "cell_type": "code",
      "source": [
        "dfCurrentSizeOnDisk=dfAnalysis[['CalcNumOfBytesReadPerDay']]# CurrentSizeOnDiskTeraBytes ,CurrentSizeOnDiskBytes\n",
        "dfCurrentSizeOnDisk"
      ],
      "metadata": {
        "colab": {
          "base_uri": "https://localhost:8080/",
          "height": 455
        },
        "id": "otrkv0V-6__R",
        "outputId": "5542f928-ba85-43ce-fac2-0c35d4748315"
      },
      "execution_count": 29,
      "outputs": [
        {
          "output_type": "execute_result",
          "data": {
            "text/html": [
              "\n",
              "  <div id=\"df-5e31451b-335f-4299-bd64-be2c47f85b87\">\n",
              "    <div class=\"colab-df-container\">\n",
              "      <div>\n",
              "<style scoped>\n",
              "    .dataframe tbody tr th:only-of-type {\n",
              "        vertical-align: middle;\n",
              "    }\n",
              "\n",
              "    .dataframe tbody tr th {\n",
              "        vertical-align: top;\n",
              "    }\n",
              "\n",
              "    .dataframe thead th {\n",
              "        text-align: right;\n",
              "    }\n",
              "</style>\n",
              "<table border=\"1\" class=\"dataframe\">\n",
              "  <thead>\n",
              "    <tr style=\"text-align: right;\">\n",
              "      <th></th>\n",
              "      <th>CalcNumOfBytesReadPerDay</th>\n",
              "    </tr>\n",
              "    <tr>\n",
              "      <th>SampleDate</th>\n",
              "      <th></th>\n",
              "    </tr>\n",
              "  </thead>\n",
              "  <tbody>\n",
              "    <tr>\n",
              "      <th>21-07-2020 00:00</th>\n",
              "      <td>3.280000e+11</td>\n",
              "    </tr>\n",
              "    <tr>\n",
              "      <th>22-07-2020 00:00</th>\n",
              "      <td>3.552707e+08</td>\n",
              "    </tr>\n",
              "    <tr>\n",
              "      <th>23-07-2020 00:00</th>\n",
              "      <td>1.597440e+06</td>\n",
              "    </tr>\n",
              "    <tr>\n",
              "      <th>24-07-2020 00:00</th>\n",
              "      <td>7.705805e+08</td>\n",
              "    </tr>\n",
              "    <tr>\n",
              "      <th>25-07-2020 00:00</th>\n",
              "      <td>6.529024e+06</td>\n",
              "    </tr>\n",
              "    <tr>\n",
              "      <th>...</th>\n",
              "      <td>...</td>\n",
              "    </tr>\n",
              "    <tr>\n",
              "      <th>08-02-2022 00:00</th>\n",
              "      <td>1.520000e+11</td>\n",
              "    </tr>\n",
              "    <tr>\n",
              "      <th>09-02-2022 00:00</th>\n",
              "      <td>1.560000e+11</td>\n",
              "    </tr>\n",
              "    <tr>\n",
              "      <th>10-02-2022 00:00</th>\n",
              "      <td>1.190000e+11</td>\n",
              "    </tr>\n",
              "    <tr>\n",
              "      <th>11-02-2022 00:00</th>\n",
              "      <td>1.680000e+11</td>\n",
              "    </tr>\n",
              "    <tr>\n",
              "      <th>12-02-2022 00:00</th>\n",
              "      <td>3.535571e+10</td>\n",
              "    </tr>\n",
              "  </tbody>\n",
              "</table>\n",
              "<p>558 rows × 1 columns</p>\n",
              "</div>\n",
              "      <button class=\"colab-df-convert\" onclick=\"convertToInteractive('df-5e31451b-335f-4299-bd64-be2c47f85b87')\"\n",
              "              title=\"Convert this dataframe to an interactive table.\"\n",
              "              style=\"display:none;\">\n",
              "        \n",
              "  <svg xmlns=\"http://www.w3.org/2000/svg\" height=\"24px\"viewBox=\"0 0 24 24\"\n",
              "       width=\"24px\">\n",
              "    <path d=\"M0 0h24v24H0V0z\" fill=\"none\"/>\n",
              "    <path d=\"M18.56 5.44l.94 2.06.94-2.06 2.06-.94-2.06-.94-.94-2.06-.94 2.06-2.06.94zm-11 1L8.5 8.5l.94-2.06 2.06-.94-2.06-.94L8.5 2.5l-.94 2.06-2.06.94zm10 10l.94 2.06.94-2.06 2.06-.94-2.06-.94-.94-2.06-.94 2.06-2.06.94z\"/><path d=\"M17.41 7.96l-1.37-1.37c-.4-.4-.92-.59-1.43-.59-.52 0-1.04.2-1.43.59L10.3 9.45l-7.72 7.72c-.78.78-.78 2.05 0 2.83L4 21.41c.39.39.9.59 1.41.59.51 0 1.02-.2 1.41-.59l7.78-7.78 2.81-2.81c.8-.78.8-2.07 0-2.86zM5.41 20L4 18.59l7.72-7.72 1.47 1.35L5.41 20z\"/>\n",
              "  </svg>\n",
              "      </button>\n",
              "      \n",
              "  <style>\n",
              "    .colab-df-container {\n",
              "      display:flex;\n",
              "      flex-wrap:wrap;\n",
              "      gap: 12px;\n",
              "    }\n",
              "\n",
              "    .colab-df-convert {\n",
              "      background-color: #E8F0FE;\n",
              "      border: none;\n",
              "      border-radius: 50%;\n",
              "      cursor: pointer;\n",
              "      display: none;\n",
              "      fill: #1967D2;\n",
              "      height: 32px;\n",
              "      padding: 0 0 0 0;\n",
              "      width: 32px;\n",
              "    }\n",
              "\n",
              "    .colab-df-convert:hover {\n",
              "      background-color: #E2EBFA;\n",
              "      box-shadow: 0px 1px 2px rgba(60, 64, 67, 0.3), 0px 1px 3px 1px rgba(60, 64, 67, 0.15);\n",
              "      fill: #174EA6;\n",
              "    }\n",
              "\n",
              "    [theme=dark] .colab-df-convert {\n",
              "      background-color: #3B4455;\n",
              "      fill: #D2E3FC;\n",
              "    }\n",
              "\n",
              "    [theme=dark] .colab-df-convert:hover {\n",
              "      background-color: #434B5C;\n",
              "      box-shadow: 0px 1px 3px 1px rgba(0, 0, 0, 0.15);\n",
              "      filter: drop-shadow(0px 1px 2px rgba(0, 0, 0, 0.3));\n",
              "      fill: #FFFFFF;\n",
              "    }\n",
              "  </style>\n",
              "\n",
              "      <script>\n",
              "        const buttonEl =\n",
              "          document.querySelector('#df-5e31451b-335f-4299-bd64-be2c47f85b87 button.colab-df-convert');\n",
              "        buttonEl.style.display =\n",
              "          google.colab.kernel.accessAllowed ? 'block' : 'none';\n",
              "\n",
              "        async function convertToInteractive(key) {\n",
              "          const element = document.querySelector('#df-5e31451b-335f-4299-bd64-be2c47f85b87');\n",
              "          const dataTable =\n",
              "            await google.colab.kernel.invokeFunction('convertToInteractive',\n",
              "                                                     [key], {});\n",
              "          if (!dataTable) return;\n",
              "\n",
              "          const docLinkHtml = 'Like what you see? Visit the ' +\n",
              "            '<a target=\"_blank\" href=https://colab.research.google.com/notebooks/data_table.ipynb>data table notebook</a>'\n",
              "            + ' to learn more about interactive tables.';\n",
              "          element.innerHTML = '';\n",
              "          dataTable['output_type'] = 'display_data';\n",
              "          await google.colab.output.renderOutput(dataTable, element);\n",
              "          const docLink = document.createElement('div');\n",
              "          docLink.innerHTML = docLinkHtml;\n",
              "          element.appendChild(docLink);\n",
              "        }\n",
              "      </script>\n",
              "    </div>\n",
              "  </div>\n",
              "  "
            ],
            "text/plain": [
              "                  CalcNumOfBytesReadPerDay\n",
              "SampleDate                                \n",
              "21-07-2020 00:00              3.280000e+11\n",
              "22-07-2020 00:00              3.552707e+08\n",
              "23-07-2020 00:00              1.597440e+06\n",
              "24-07-2020 00:00              7.705805e+08\n",
              "25-07-2020 00:00              6.529024e+06\n",
              "...                                    ...\n",
              "08-02-2022 00:00              1.520000e+11\n",
              "09-02-2022 00:00              1.560000e+11\n",
              "10-02-2022 00:00              1.190000e+11\n",
              "11-02-2022 00:00              1.680000e+11\n",
              "12-02-2022 00:00              3.535571e+10\n",
              "\n",
              "[558 rows x 1 columns]"
            ]
          },
          "metadata": {},
          "execution_count": 29
        }
      ]
    },
    {
      "cell_type": "markdown",
      "source": [
        "# Plot  data"
      ],
      "metadata": {
        "id": "GrwgwNYW8TWW"
      }
    },
    {
      "cell_type": "code",
      "source": [
        "dfCurrentSizeOnDisk.describe()\n",
        "dfCurrentSizeOnDisk['CalcNumOfBytesReadPerDay']"
      ],
      "metadata": {
        "colab": {
          "base_uri": "https://localhost:8080/"
        },
        "id": "NQsGnZs2xGz9",
        "outputId": "41b5ec50-ac11-4a96-e0a6-1fed94f4a481"
      },
      "execution_count": 30,
      "outputs": [
        {
          "output_type": "execute_result",
          "data": {
            "text/plain": [
              "SampleDate\n",
              "21-07-2020 00:00    3.280000e+11\n",
              "22-07-2020 00:00    3.552707e+08\n",
              "23-07-2020 00:00    1.597440e+06\n",
              "24-07-2020 00:00    7.705805e+08\n",
              "25-07-2020 00:00    6.529024e+06\n",
              "                        ...     \n",
              "08-02-2022 00:00    1.520000e+11\n",
              "09-02-2022 00:00    1.560000e+11\n",
              "10-02-2022 00:00    1.190000e+11\n",
              "11-02-2022 00:00    1.680000e+11\n",
              "12-02-2022 00:00    3.535571e+10\n",
              "Name: CalcNumOfBytesReadPerDay, Length: 558, dtype: float64"
            ]
          },
          "metadata": {},
          "execution_count": 30
        }
      ]
    },
    {
      "cell_type": "markdown",
      "source": [
        "This gives an idea of whether the data is stationary or not.\n",
        "Any time series data that has to be modeled needs to be stationary. Stationary means that it’s statistical properties are more or less constant with time.These are the following properties that any stationarity model will have:\n",
        "<br>\n",
        "*   Constant Mean\n",
        "*   Constant Variance(There can be variations, but the variations shouldn’t be irregular)\n",
        "*   No seasonality(No repeating patterns in the data set)\n",
        "<br>\n",
        "\n",
        "So first step is to check for stationarity. If data set is not stationary, I'll have to convert it to a stationary series.I have a fixed easy test to check for stationarity called the ADF(Augmented Dickey Fuller Test). But before showing that, lets plot the data first.\n",
        "Since I am only interested in predicting the **CalcNumOfBytesReadPerDay**, that is the only column I will be plotting."
      ],
      "metadata": {
        "id": "d9Fj-EH-9dZ3"
      }
    },
    {
      "cell_type": "code",
      "source": [
        "dfCurrentSizeOnDisk.tail(10).plot(figsize=(12,6))\n",
        "dfCurrentSizeOnDisk.plot(figsize=(12,6))"
      ],
      "metadata": {
        "colab": {
          "base_uri": "https://localhost:8080/",
          "height": 798
        },
        "id": "GOsIDtFP546s",
        "outputId": "291a6a65-cc23-49d6-e5da-915ffacbcb51"
      },
      "execution_count": 31,
      "outputs": [
        {
          "output_type": "execute_result",
          "data": {
            "text/plain": [
              "<matplotlib.axes._subplots.AxesSubplot at 0x7f7dbbd28d10>"
            ]
          },
          "metadata": {},
          "execution_count": 31
        },
        {
          "output_type": "display_data",
          "data": {
            "image/png": "[encoded data removed]",
            "text/plain": [
              "<Figure size 864x432 with 1 Axes>"
            ]
          },
          "metadata": {
            "needs_background": "light"
          }
        },
        {
          "output_type": "display_data",
          "data": {
            "image/png": "[encoded data removed]",
            "text/plain": [
              "<Figure size 864x432 with 1 Axes>"
            ]
          },
          "metadata": {
            "needs_background": "light"
          }
        }
      ]
    },
    {
      "cell_type": "markdown",
      "source": [
        "# Checking For Stationarity\n",
        "we can see that it seems to have somewhat of a constant mean around 45. And the fluctuations also seem to be more or less the same. However to be sure if the data is stationary or not,running a fixed statistical test using the following code:"
      ],
      "metadata": {
        "id": "p010ZEhGCqGN"
      }
    },
    {
      "cell_type": "code",
      "source": [
        "from statsmodels.tsa.stattools import adfuller\n",
        "def adf_test(dataset):\n",
        "     dftest = adfuller(dataset, autolag = 'AIC')\n",
        "     print(\"1. ADF : \",dftest[0])\n",
        "     print(\"2. P-Value : \", dftest[1])\n",
        "     print(\"3. Num Of Lags : \", dftest[2])\n",
        "     print(\"4. Num Of Observations Used For ADF Regression:\",      dftest[3])\n",
        "     print(\"5. Critical Values :\")\n",
        "     for key, val in dftest[4].items():\n",
        "         print(\"\\t\",key, \": \", val)\n"
      ],
      "metadata": {
        "id": "Nn6NSYqmCrc9"
      },
      "execution_count": 13,
      "outputs": []
    },
    {
      "cell_type": "code",
      "source": [
        "adf_test(dfCurrentSizeOnDisk['CalcNumOfBytesReadPerDay'])"
      ],
      "metadata": {
        "colab": {
          "base_uri": "https://localhost:8080/"
        },
        "id": "e8G3ir3zDGYU",
        "outputId": "abd724f3-03a5-4699-9e59-daf32e670911"
      },
      "execution_count": 32,
      "outputs": [
        {
          "output_type": "stream",
          "name": "stdout",
          "text": [
            "1. ADF :  -3.701600208382128\n",
            "2. P-Value :  0.004090701994870804\n",
            "3. Num Of Lags :  13\n",
            "4. Num Of Observations Used For ADF Regression: 544\n",
            "5. Critical Values :\n",
            "\t 1% :  -3.4424279871882573\n",
            "\t 5% :  -2.8668676073304407\n",
            "\t 10% :  -2.569607433093642\n"
          ]
        }
      ]
    },
    {
      "cell_type": "markdown",
      "source": [
        "To interpret the test results,only need to look at the p value:\n",
        "If p< 0.05 ; Data is stationary\n",
        "if p>0.05; Data is not stationary.\n",
        "\n",
        "---\n",
        "Here  P-Value :  0.0 then data is stationary\n",
        "\n",
        "It’s not a hard and fast rule, but a stationary data should have a small p value. Larger p value could indicate presence of certain trends(varying mean) or seasonality as well.\n"
      ],
      "metadata": {
        "id": "hZ5tlwZaDvt1"
      }
    },
    {
      "cell_type": "markdown",
      "source": [
        "# ARIMA Model\n",
        "\n",
        "**ARIMA** is composed of 3 terms(Auto-Regression + Integrated+Moving-Average)\n",
        "\n",
        "**Auto-Regression:**\n",
        "This basically means that using  previous values of the time series in order to predict the future. How many past values you use,it depends.. determine the order of the AR model. Here’s how an AR(1) model looks like:\n",
        "`Y(t)= Some_Constant*Y(t-1)+ Another_Constant +Error(t)`\n",
        "\n",
        "\n",
        "**Integrated**:\n",
        "If data set is not stationary, It often need to perform some sort of difference operation to make it stationary. If differencing with previous value, its order 1 and so on. Here’s an example of that:\n",
        "\n",
        " we can the series Y(t) was not stationary, because of an increasing trend resulting in a varying mean. I simply subtract it from previous values and voila! It becomes stationary. Depending on data,might have to repeat the differencing to get a second order differencing , third order and so on..\n",
        "\n",
        "**Moving Average:**\n",
        "This basically means that I am using previous errors to make the future prediction.By seeing how wrong in your prediction,can be used to make a better prediction. And just like in an AR model, the number of previous errors(also called number of lags), determines the order of the model.\n",
        "Here’s how MA(1) order equation looks like:\n",
        "`Y(t)= Mean + Some_Constant*Error(t-1) +Error(t)`\n",
        "So main job is to decide the order of the AR, I, MA parts which are donated by(p,d,q) respectively.\n",
        "\n",
        "**pmdarima** library comes to our rescue! It does the job of figuring out the order of the ARIMA all by itself."
      ],
      "metadata": {
        "id": "iS2LObKuQEDf"
      }
    },
    {
      "cell_type": "code",
      "source": [
        "from pmdarima import auto_arima\n",
        "import warnings\n",
        "warnings.filterwarnings(\"ignore\")"
      ],
      "metadata": {
        "id": "RVFy1LiZkfC6"
      },
      "execution_count": 17,
      "outputs": []
    },
    {
      "cell_type": "code",
      "source": [
        "stepwise_fit = auto_arima(dfCurrentSizeOnDisk['CalcNumOfBytesReadPerDay'], trace=True,\n",
        "suppress_warnings=True)\n",
        "stepwise_fit.summary()"
      ],
      "metadata": {
        "colab": {
          "base_uri": "https://localhost:8080/",
          "height": 1000
        },
        "id": "b0EgKvBGDr6X",
        "outputId": "b71384d9-60a7-4576-8aab-7bcc5a3cd566"
      },
      "execution_count": 33,
      "outputs": [
        {
          "output_type": "stream",
          "name": "stdout",
          "text": [
            "Performing stepwise search to minimize aic\n",
            " ARIMA(2,1,2)(0,0,0)[0] intercept   : AIC=31599.598, Time=0.69 sec\n",
            " ARIMA(0,1,0)(0,0,0)[0] intercept   : AIC=31835.782, Time=0.03 sec\n",
            " ARIMA(1,1,0)(0,0,0)[0] intercept   : AIC=31757.527, Time=0.06 sec\n",
            " ARIMA(0,1,1)(0,0,0)[0] intercept   : AIC=31627.385, Time=0.12 sec\n",
            " ARIMA(0,1,0)(0,0,0)[0]             : AIC=31833.783, Time=0.03 sec\n",
            " ARIMA(1,1,2)(0,0,0)[0] intercept   : AIC=31607.740, Time=0.34 sec\n",
            " ARIMA(2,1,1)(0,0,0)[0] intercept   : AIC=31608.928, Time=0.34 sec\n",
            " ARIMA(3,1,2)(0,0,0)[0] intercept   : AIC=31601.582, Time=0.85 sec\n",
            " ARIMA(2,1,3)(0,0,0)[0] intercept   : AIC=31602.379, Time=0.86 sec\n",
            " ARIMA(1,1,1)(0,0,0)[0] intercept   : AIC=31607.785, Time=0.24 sec\n",
            " ARIMA(1,1,3)(0,0,0)[0] intercept   : AIC=31601.368, Time=0.57 sec\n",
            " ARIMA(3,1,1)(0,0,0)[0] intercept   : AIC=31608.936, Time=0.47 sec\n",
            " ARIMA(3,1,3)(0,0,0)[0] intercept   : AIC=31571.500, Time=1.25 sec\n",
            " ARIMA(4,1,3)(0,0,0)[0] intercept   : AIC=31558.964, Time=1.39 sec\n",
            " ARIMA(4,1,2)(0,0,0)[0] intercept   : AIC=31595.536, Time=0.83 sec\n",
            " ARIMA(5,1,3)(0,0,0)[0] intercept   : AIC=31558.888, Time=1.81 sec\n",
            " ARIMA(5,1,2)(0,0,0)[0] intercept   : AIC=31592.749, Time=1.06 sec\n",
            " ARIMA(5,1,4)(0,0,0)[0] intercept   : AIC=31559.082, Time=2.29 sec\n",
            " ARIMA(4,1,4)(0,0,0)[0] intercept   : AIC=31557.090, Time=1.88 sec\n",
            " ARIMA(3,1,4)(0,0,0)[0] intercept   : AIC=31555.673, Time=1.28 sec\n",
            " ARIMA(2,1,4)(0,0,0)[0] intercept   : AIC=31555.489, Time=1.36 sec\n",
            " ARIMA(1,1,4)(0,0,0)[0] intercept   : AIC=31600.405, Time=0.68 sec\n",
            " ARIMA(2,1,5)(0,0,0)[0] intercept   : AIC=31555.069, Time=1.39 sec\n",
            " ARIMA(1,1,5)(0,0,0)[0] intercept   : AIC=31593.879, Time=0.76 sec\n",
            " ARIMA(3,1,5)(0,0,0)[0] intercept   : AIC=31556.580, Time=1.42 sec\n",
            " ARIMA(2,1,5)(0,0,0)[0]             : AIC=31553.111, Time=1.24 sec\n",
            " ARIMA(1,1,5)(0,0,0)[0]             : AIC=31591.905, Time=0.68 sec\n",
            " ARIMA(2,1,4)(0,0,0)[0]             : AIC=31553.439, Time=1.31 sec\n",
            " ARIMA(3,1,5)(0,0,0)[0]             : AIC=31554.597, Time=1.26 sec\n",
            " ARIMA(1,1,4)(0,0,0)[0]             : AIC=31598.120, Time=0.61 sec\n",
            " ARIMA(3,1,4)(0,0,0)[0]             : AIC=31553.636, Time=1.30 sec\n",
            "\n",
            "Best model:  ARIMA(2,1,5)(0,0,0)[0]          \n",
            "Total fit time: 28.484 seconds\n"
          ]
        },
        {
          "output_type": "execute_result",
          "data": {
            "text/html": [
              "<table class=\"simpletable\">\n",
              "<caption>SARIMAX Results</caption>\n",
              "<tr>\n",
              "  <th>Dep. Variable:</th>           <td>y</td>        <th>  No. Observations:  </th>     <td>558</td>   \n",
              "</tr>\n",
              "<tr>\n",
              "  <th>Model:</th>           <td>SARIMAX(2, 1, 5)</td> <th>  Log Likelihood     </th> <td>-15768.555</td>\n",
              "</tr>\n",
              "<tr>\n",
              "  <th>Date:</th>            <td>Thu, 17 Feb 2022</td> <th>  AIC                </th>  <td>31553.111</td>\n",
              "</tr>\n",
              "<tr>\n",
              "  <th>Time:</th>                <td>18:18:43</td>     <th>  BIC                </th>  <td>31587.691</td>\n",
              "</tr>\n",
              "<tr>\n",
              "  <th>Sample:</th>                  <td>0</td>        <th>  HQIC               </th>  <td>31566.617</td>\n",
              "</tr>\n",
              "<tr>\n",
              "  <th></th>                      <td> - 558</td>      <th>                     </th>      <td> </td>    \n",
              "</tr>\n",
              "<tr>\n",
              "  <th>Covariance Type:</th>        <td>opg</td>       <th>                     </th>      <td> </td>    \n",
              "</tr>\n",
              "</table>\n",
              "<table class=\"simpletable\">\n",
              "<tr>\n",
              "     <td></td>       <th>coef</th>     <th>std err</th>      <th>z</th>      <th>P>|z|</th>  <th>[0.025</th>    <th>0.975]</th>  \n",
              "</tr>\n",
              "<tr>\n",
              "  <th>ar.L1</th>  <td>   -1.7553</td> <td>    0.028</td> <td>  -62.974</td> <td> 0.000</td> <td>   -1.810</td> <td>   -1.701</td>\n",
              "</tr>\n",
              "<tr>\n",
              "  <th>ar.L2</th>  <td>   -0.9486</td> <td>    0.028</td> <td>  -33.667</td> <td> 0.000</td> <td>   -1.004</td> <td>   -0.893</td>\n",
              "</tr>\n",
              "<tr>\n",
              "  <th>ma.L1</th>  <td>    1.1313</td> <td>    0.039</td> <td>   28.885</td> <td> 0.000</td> <td>    1.055</td> <td>    1.208</td>\n",
              "</tr>\n",
              "<tr>\n",
              "  <th>ma.L2</th>  <td>   -0.4327</td> <td>    0.057</td> <td>   -7.604</td> <td> 0.000</td> <td>   -0.544</td> <td>   -0.321</td>\n",
              "</tr>\n",
              "<tr>\n",
              "  <th>ma.L3</th>  <td>   -1.1447</td> <td>    0.053</td> <td>  -21.552</td> <td> 0.000</td> <td>   -1.249</td> <td>   -1.041</td>\n",
              "</tr>\n",
              "<tr>\n",
              "  <th>ma.L4</th>  <td>   -0.2946</td> <td>    0.051</td> <td>   -5.765</td> <td> 0.000</td> <td>   -0.395</td> <td>   -0.194</td>\n",
              "</tr>\n",
              "<tr>\n",
              "  <th>ma.L5</th>  <td>    0.0680</td> <td>    0.044</td> <td>    1.557</td> <td> 0.119</td> <td>   -0.018</td> <td>    0.154</td>\n",
              "</tr>\n",
              "<tr>\n",
              "  <th>sigma2</th> <td> 2.283e+23</td> <td> 2.08e-25</td> <td>  1.1e+48</td> <td> 0.000</td> <td> 2.28e+23</td> <td> 2.28e+23</td>\n",
              "</tr>\n",
              "</table>\n",
              "<table class=\"simpletable\">\n",
              "<tr>\n",
              "  <th>Ljung-Box (L1) (Q):</th>     <td>0.00</td> <th>  Jarque-Bera (JB):  </th> <td>5469.62</td>\n",
              "</tr>\n",
              "<tr>\n",
              "  <th>Prob(Q):</th>                <td>0.99</td> <th>  Prob(JB):          </th>  <td>0.00</td>  \n",
              "</tr>\n",
              "<tr>\n",
              "  <th>Heteroskedasticity (H):</th> <td>1.17</td> <th>  Skew:              </th>  <td>2.97</td>  \n",
              "</tr>\n",
              "<tr>\n",
              "  <th>Prob(H) (two-sided):</th>    <td>0.30</td> <th>  Kurtosis:          </th>  <td>17.16</td> \n",
              "</tr>\n",
              "</table><br/><br/>Warnings:<br/>[1] Covariance matrix calculated using the outer product of gradients (complex-step).<br/>[2] Covariance matrix is singular or near-singular, with condition number 3.12e+64. Standard errors may be unstable."
            ],
            "text/plain": [
              "<class 'statsmodels.iolib.summary.Summary'>\n",
              "\"\"\"\n",
              "                               SARIMAX Results                                \n",
              "==============================================================================\n",
              "Dep. Variable:                      y   No. Observations:                  558\n",
              "Model:               SARIMAX(2, 1, 5)   Log Likelihood              -15768.555\n",
              "Date:                Thu, 17 Feb 2022   AIC                          31553.111\n",
              "Time:                        18:18:43   BIC                          31587.691\n",
              "Sample:                             0   HQIC                         31566.617\n",
              "                                - 558                                         \n",
              "Covariance Type:                  opg                                         \n",
              "==============================================================================\n",
              "                 coef    std err          z      P>|z|      [0.025      0.975]\n",
              "------------------------------------------------------------------------------\n",
              "ar.L1         -1.7553      0.028    -62.974      0.000      -1.810      -1.701\n",
              "ar.L2         -0.9486      0.028    -33.667      0.000      -1.004      -0.893\n",
              "ma.L1          1.1313      0.039     28.885      0.000       1.055       1.208\n",
              "ma.L2         -0.4327      0.057     -7.604      0.000      -0.544      -0.321\n",
              "ma.L3         -1.1447      0.053    -21.552      0.000      -1.249      -1.041\n",
              "ma.L4         -0.2946      0.051     -5.765      0.000      -0.395      -0.194\n",
              "ma.L5          0.0680      0.044      1.557      0.119      -0.018       0.154\n",
              "sigma2      2.283e+23   2.08e-25    1.1e+48      0.000    2.28e+23    2.28e+23\n",
              "===================================================================================\n",
              "Ljung-Box (L1) (Q):                   0.00   Jarque-Bera (JB):              5469.62\n",
              "Prob(Q):                              0.99   Prob(JB):                         0.00\n",
              "Heteroskedasticity (H):               1.17   Skew:                             2.97\n",
              "Prob(H) (two-sided):                  0.30   Kurtosis:                        17.16\n",
              "===================================================================================\n",
              "\n",
              "Warnings:\n",
              "[1] Covariance matrix calculated using the outer product of gradients (complex-step).\n",
              "[2] Covariance matrix is singular or near-singular, with condition number 3.12e+64. Standard errors may be unstable.\n",
              "\"\"\""
            ]
          },
          "metadata": {},
          "execution_count": 33
        }
      ]
    },
    {
      "cell_type": "markdown",
      "source": [
        "We can see the best ARIMA model seems to be of the order (2,1,4) with the minimum AIC score=26760.381. With this knowledge we can finally proceed to train and fit the model to start making prediction!"
      ],
      "metadata": {
        "id": "y6GKbLpXWSHx"
      }
    },
    {
      "cell_type": "markdown",
      "source": [
        "# Split Dataset\n",
        "Before actually train the model, I am spliting the data set into a training and testing section.first train the model on the data and keep the testing section hidden from the model. Once model is ready, I can ask it to make predictions on the test data and see how well it performs."
      ],
      "metadata": {
        "id": "8ZX5FozSXHyG"
      }
    },
    {
      "cell_type": "code",
      "source": [
        "print(dfCurrentSizeOnDisk.shape)\n",
        "train=dfCurrentSizeOnDisk.iloc[:-30]\n",
        "test=dfCurrentSizeOnDisk.iloc[-30:]\n",
        "print(train.shape,test.shape)"
      ],
      "metadata": {
        "colab": {
          "base_uri": "https://localhost:8080/"
        },
        "id": "YgRF5cGdTH3n",
        "outputId": "2fe2b7db-2395-419b-8fa8-d68e01dbc044"
      },
      "execution_count": 34,
      "outputs": [
        {
          "output_type": "stream",
          "name": "stdout",
          "text": [
            "(558, 1)\n",
            "(528, 1) (30, 1)\n"
          ]
        }
      ]
    },
    {
      "cell_type": "code",
      "source": [
        "print(train['CalcNumOfBytesReadPerDay'])\n",
        "print(test['CalcNumOfBytesReadPerDay'])"
      ],
      "metadata": {
        "colab": {
          "base_uri": "https://localhost:8080/"
        },
        "id": "GgQewd7ZbSrN",
        "outputId": "5e5d403c-ec14-46bc-f8b1-8051cb68f6ff"
      },
      "execution_count": 35,
      "outputs": [
        {
          "output_type": "stream",
          "name": "stdout",
          "text": [
            "SampleDate\n",
            "21-07-2020 00:00    3.280000e+11\n",
            "22-07-2020 00:00    3.552707e+08\n",
            "23-07-2020 00:00    1.597440e+06\n",
            "24-07-2020 00:00    7.705805e+08\n",
            "25-07-2020 00:00    6.529024e+06\n",
            "                        ...     \n",
            "09-01-2022 00:00    8.370000e+11\n",
            "10-01-2022 00:00    1.180000e+11\n",
            "11-01-2022 00:00    1.500000e+11\n",
            "12-01-2022 00:00    2.760864e+10\n",
            "13-01-2022 00:00    1.580000e+11\n",
            "Name: CalcNumOfBytesReadPerDay, Length: 528, dtype: float64\n",
            "SampleDate\n",
            "14-01-2022 00:00    6.090043e+10\n",
            "15-01-2022 00:00    1.240998e+09\n",
            "16-01-2022 00:00    8.620000e+11\n",
            "17-01-2022 00:00    4.300000e+11\n",
            "18-01-2022 00:00    7.936396e+10\n",
            "19-01-2022 00:00    1.240000e+11\n",
            "20-01-2022 00:00    1.990000e+11\n",
            "21-01-2022 00:00    4.190000e+11\n",
            "22-01-2022 00:00    3.040000e+12\n",
            "23-01-2022 00:00    1.740000e+12\n",
            "24-01-2022 00:00    1.602323e+10\n",
            "25-01-2022 00:00    2.506061e+10\n",
            "26-01-2022 00:00    1.190000e+11\n",
            "27-01-2022 00:00    1.900000e+11\n",
            "28-01-2022 00:00    1.140000e+11\n",
            "29-01-2022 00:00    5.040972e+10\n",
            "30-01-2022 00:00    8.740000e+11\n",
            "31-01-2022 00:00    7.071507e+10\n",
            "01-02-2022 00:00    1.460000e+11\n",
            "02-02-2022 00:00    1.640000e+11\n",
            "03-02-2022 00:00    2.750000e+11\n",
            "04-02-2022 00:00    1.290000e+12\n",
            "05-02-2022 00:00    2.400000e+12\n",
            "06-02-2022 00:00    1.070000e+12\n",
            "07-02-2022 00:00    8.789668e+10\n",
            "08-02-2022 00:00    1.520000e+11\n",
            "09-02-2022 00:00    1.560000e+11\n",
            "10-02-2022 00:00    1.190000e+11\n",
            "11-02-2022 00:00    1.680000e+11\n",
            "12-02-2022 00:00    3.535571e+10\n",
            "Name: CalcNumOfBytesReadPerDay, dtype: float64\n"
          ]
        }
      ]
    },
    {
      "cell_type": "code",
      "source": [
        "#from statsmodels.tsa.arima_model import ARIMA\n",
        "import statsmodels.tsa.arima.model as stats\n",
        "model=stats.ARIMA(train['CalcNumOfBytesReadPerDay'],order=(2,1,5))\n",
        "model=model.fit()\n",
        "model.summary()\n",
        "# steps = 4\n",
        "# alpha = 0.05\n",
        "# model = stats.ARIMA(train['CalcNumOfBytesReadPerDay'], order=(0, 1, 0), trend=\"t\")\n",
        "# model = model.fit()\n",
        "# print(model.summary())\n",
        "# forecast = model.get_forecast(steps=steps)\n",
        "# forecasts_and_intervals = forecast.summary_frame(alpha=alpha)\n"
      ],
      "metadata": {
        "id": "bfq4ldBc6CjB",
        "colab": {
          "base_uri": "https://localhost:8080/",
          "height": 554
        },
        "outputId": "79eb642b-a42e-4d39-8fce-71343d792f90"
      },
      "execution_count": 42,
      "outputs": [
        {
          "output_type": "execute_result",
          "data": {
            "text/html": [
              "<table class=\"simpletable\">\n",
              "<caption>SARIMAX Results</caption>\n",
              "<tr>\n",
              "  <th>Dep. Variable:</th>   <td>CalcNumOfBytesReadPerDay</td> <th>  No. Observations:  </th>     <td>528</td>   \n",
              "</tr>\n",
              "<tr>\n",
              "  <th>Model:</th>                <td>ARIMA(2, 1, 5)</td>      <th>  Log Likelihood     </th> <td>-14900.909</td>\n",
              "</tr>\n",
              "<tr>\n",
              "  <th>Date:</th>                <td>Thu, 17 Feb 2022</td>     <th>  AIC                </th>  <td>29817.818</td>\n",
              "</tr>\n",
              "<tr>\n",
              "  <th>Time:</th>                    <td>18:24:25</td>         <th>  BIC                </th>  <td>29851.956</td>\n",
              "</tr>\n",
              "<tr>\n",
              "  <th>Sample:</th>                      <td>0</td>            <th>  HQIC               </th>  <td>29831.184</td>\n",
              "</tr>\n",
              "<tr>\n",
              "  <th></th>                          <td> - 528</td>          <th>                     </th>      <td> </td>    \n",
              "</tr>\n",
              "<tr>\n",
              "  <th>Covariance Type:</th>            <td>opg</td>           <th>                     </th>      <td> </td>    \n",
              "</tr>\n",
              "</table>\n",
              "<table class=\"simpletable\">\n",
              "<tr>\n",
              "     <td></td>       <th>coef</th>     <th>std err</th>      <th>z</th>      <th>P>|z|</th>  <th>[0.025</th>    <th>0.975]</th>  \n",
              "</tr>\n",
              "<tr>\n",
              "  <th>ar.L1</th>  <td>   -1.7551</td> <td>    0.029</td> <td>  -60.559</td> <td> 0.000</td> <td>   -1.812</td> <td>   -1.698</td>\n",
              "</tr>\n",
              "<tr>\n",
              "  <th>ar.L2</th>  <td>   -0.9485</td> <td>    0.030</td> <td>  -31.843</td> <td> 0.000</td> <td>   -1.007</td> <td>   -0.890</td>\n",
              "</tr>\n",
              "<tr>\n",
              "  <th>ma.L1</th>  <td>    1.1061</td> <td>    0.038</td> <td>   28.778</td> <td> 0.000</td> <td>    1.031</td> <td>    1.181</td>\n",
              "</tr>\n",
              "<tr>\n",
              "  <th>ma.L2</th>  <td>   -0.4453</td> <td>    0.057</td> <td>   -7.878</td> <td> 0.000</td> <td>   -0.556</td> <td>   -0.334</td>\n",
              "</tr>\n",
              "<tr>\n",
              "  <th>ma.L3</th>  <td>   -1.1116</td> <td>    0.053</td> <td>  -20.817</td> <td> 0.000</td> <td>   -1.216</td> <td>   -1.007</td>\n",
              "</tr>\n",
              "<tr>\n",
              "  <th>ma.L4</th>  <td>   -0.2557</td> <td>    0.049</td> <td>   -5.180</td> <td> 0.000</td> <td>   -0.353</td> <td>   -0.159</td>\n",
              "</tr>\n",
              "<tr>\n",
              "  <th>ma.L5</th>  <td>    0.0815</td> <td>    0.044</td> <td>    1.850</td> <td> 0.064</td> <td>   -0.005</td> <td>    0.168</td>\n",
              "</tr>\n",
              "<tr>\n",
              "  <th>sigma2</th> <td> 2.129e+23</td> <td> 2.67e-25</td> <td> 7.97e+47</td> <td> 0.000</td> <td> 2.13e+23</td> <td> 2.13e+23</td>\n",
              "</tr>\n",
              "</table>\n",
              "<table class=\"simpletable\">\n",
              "<tr>\n",
              "  <th>Ljung-Box (L1) (Q):</th>     <td>0.00</td> <th>  Jarque-Bera (JB):  </th> <td>5656.45</td>\n",
              "</tr>\n",
              "<tr>\n",
              "  <th>Prob(Q):</th>                <td>0.99</td> <th>  Prob(JB):          </th>  <td>0.00</td>  \n",
              "</tr>\n",
              "<tr>\n",
              "  <th>Heteroskedasticity (H):</th> <td>0.86</td> <th>  Skew:              </th>  <td>2.96</td>  \n",
              "</tr>\n",
              "<tr>\n",
              "  <th>Prob(H) (two-sided):</th>    <td>0.31</td> <th>  Kurtosis:          </th>  <td>17.92</td> \n",
              "</tr>\n",
              "</table><br/><br/>Warnings:<br/>[1] Covariance matrix calculated using the outer product of gradients (complex-step).<br/>[2] Covariance matrix is singular or near-singular, with condition number 8.39e+62. Standard errors may be unstable."
            ],
            "text/plain": [
              "<class 'statsmodels.iolib.summary.Summary'>\n",
              "\"\"\"\n",
              "                                  SARIMAX Results                                   \n",
              "====================================================================================\n",
              "Dep. Variable:     CalcNumOfBytesReadPerDay   No. Observations:                  528\n",
              "Model:                       ARIMA(2, 1, 5)   Log Likelihood              -14900.909\n",
              "Date:                      Thu, 17 Feb 2022   AIC                          29817.818\n",
              "Time:                              18:24:25   BIC                          29851.956\n",
              "Sample:                                   0   HQIC                         29831.184\n",
              "                                      - 528                                         \n",
              "Covariance Type:                        opg                                         \n",
              "==============================================================================\n",
              "                 coef    std err          z      P>|z|      [0.025      0.975]\n",
              "------------------------------------------------------------------------------\n",
              "ar.L1         -1.7551      0.029    -60.559      0.000      -1.812      -1.698\n",
              "ar.L2         -0.9485      0.030    -31.843      0.000      -1.007      -0.890\n",
              "ma.L1          1.1061      0.038     28.778      0.000       1.031       1.181\n",
              "ma.L2         -0.4453      0.057     -7.878      0.000      -0.556      -0.334\n",
              "ma.L3         -1.1116      0.053    -20.817      0.000      -1.216      -1.007\n",
              "ma.L4         -0.2557      0.049     -5.180      0.000      -0.353      -0.159\n",
              "ma.L5          0.0815      0.044      1.850      0.064      -0.005       0.168\n",
              "sigma2      2.129e+23   2.67e-25   7.97e+47      0.000    2.13e+23    2.13e+23\n",
              "===================================================================================\n",
              "Ljung-Box (L1) (Q):                   0.00   Jarque-Bera (JB):              5656.45\n",
              "Prob(Q):                              0.99   Prob(JB):                         0.00\n",
              "Heteroskedasticity (H):               0.86   Skew:                             2.96\n",
              "Prob(H) (two-sided):                  0.31   Kurtosis:                        17.92\n",
              "===================================================================================\n",
              "\n",
              "Warnings:\n",
              "[1] Covariance matrix calculated using the outer product of gradients (complex-step).\n",
              "[2] Covariance matrix is singular or near-singular, with condition number 8.39e+62. Standard errors may be unstable.\n",
              "\"\"\""
            ]
          },
          "metadata": {},
          "execution_count": 42
        }
      ]
    },
    {
      "cell_type": "markdown",
      "source": [
        "# Check Model"
      ],
      "metadata": {
        "id": "LFS2QX7Xb6IH"
      }
    },
    {
      "cell_type": "code",
      "source": [
        "start=len(train)\n",
        "end=len(train)+len(test)-1\n",
        "pred=model.predict(start=start,end=end,typ='levels').rename('ARIMA Predictions')\n",
        "pred.plot(legend=True)\n",
        "test['CalcNumOfBytesReadPerDay'].plot(legend=True)"
      ],
      "metadata": {
        "colab": {
          "base_uri": "https://localhost:8080/",
          "height": 307
        },
        "id": "0XckhkQS_dVU",
        "outputId": "36b7bbb5-107f-40a3-8ddd-acd2988f8da5"
      },
      "execution_count": 43,
      "outputs": [
        {
          "output_type": "execute_result",
          "data": {
            "text/plain": [
              "<matplotlib.axes._subplots.AxesSubplot at 0x7f7dbbae4110>"
            ]
          },
          "metadata": {},
          "execution_count": 43
        },
        {
          "output_type": "display_data",
          "data": {
            "image/png": "[encoded data removed]",
            "text/plain": [
              "<Figure size 432x288 with 1 Axes>"
            ]
          },
          "metadata": {
            "needs_background": "light"
          }
        }
      ]
    },
    {
      "cell_type": "code",
      "source": [
        "pred.plot(legend='ARIMA Predictions')\n",
        "test['CalcNumOfBytesReadPerDay'].plot(legend=True)"
      ],
      "metadata": {
        "colab": {
          "base_uri": "https://localhost:8080/",
          "height": 307
        },
        "id": "Z5NFPymtlukc",
        "outputId": "7e532dcc-5258-447a-a2ae-c202a9db125e"
      },
      "execution_count": 44,
      "outputs": [
        {
          "output_type": "execute_result",
          "data": {
            "text/plain": [
              "<matplotlib.axes._subplots.AxesSubplot at 0x7f7dbba35290>"
            ]
          },
          "metadata": {},
          "execution_count": 44
        },
        {
          "output_type": "display_data",
          "data": {
            "image/png": "[encoded data removed]",
            "text/plain": [
              "<Figure size 432x288 with 1 Axes>"
            ]
          },
          "metadata": {
            "needs_background": "light"
          }
        }
      ]
    },
    {
      "cell_type": "markdown",
      "source": [
        "# Check Accuracy Metric"
      ],
      "metadata": {
        "id": "jm2CtfUZfCqj"
      }
    },
    {
      "cell_type": "code",
      "source": [
        "from sklearn.metrics import mean_squared_error\n",
        "from math import sqrt\n",
        "test['CalcNumOfBytesReadPerDay'].mean()\n",
        "rmse=sqrt(mean_squared_error(pred,test['CalcNumOfBytesReadPerDay']))\n",
        "print(rmse)"
      ],
      "metadata": {
        "id": "xCf5m_HQCPiw",
        "colab": {
          "base_uri": "https://localhost:8080/"
        },
        "outputId": "5222e890-7f42-4729-b3f1-a3c90ee45348"
      },
      "execution_count": 45,
      "outputs": [
        {
          "output_type": "stream",
          "name": "stdout",
          "text": [
            "784229439236.0531\n"
          ]
        }
      ]
    },
    {
      "cell_type": "code",
      "source": [
        "model2=stats.ARIMA(dfCurrentSizeOnDisk['CalcNumOfBytesReadPerDay'],order=(2,1,5))\n",
        "model2=model2.fit()\n",
        "dfCurrentSizeOnDisk.tail()"
      ],
      "metadata": {
        "colab": {
          "base_uri": "https://localhost:8080/",
          "height": 238
        },
        "id": "QuizOQOUmB0x",
        "outputId": "210e06f1-1b68-4f6b-8551-b9459c3ea0e1"
      },
      "execution_count": 46,
      "outputs": [
        {
          "output_type": "execute_result",
          "data": {
            "text/html": [
              "\n",
              "  <div id=\"df-ac5e6441-7186-4b62-8cb1-df45c287456e\">\n",
              "    <div class=\"colab-df-container\">\n",
              "      <div>\n",
              "<style scoped>\n",
              "    .dataframe tbody tr th:only-of-type {\n",
              "        vertical-align: middle;\n",
              "    }\n",
              "\n",
              "    .dataframe tbody tr th {\n",
              "        vertical-align: top;\n",
              "    }\n",
              "\n",
              "    .dataframe thead th {\n",
              "        text-align: right;\n",
              "    }\n",
              "</style>\n",
              "<table border=\"1\" class=\"dataframe\">\n",
              "  <thead>\n",
              "    <tr style=\"text-align: right;\">\n",
              "      <th></th>\n",
              "      <th>CalcNumOfBytesReadPerDay</th>\n",
              "    </tr>\n",
              "    <tr>\n",
              "      <th>SampleDate</th>\n",
              "      <th></th>\n",
              "    </tr>\n",
              "  </thead>\n",
              "  <tbody>\n",
              "    <tr>\n",
              "      <th>08-02-2022 00:00</th>\n",
              "      <td>1.520000e+11</td>\n",
              "    </tr>\n",
              "    <tr>\n",
              "      <th>09-02-2022 00:00</th>\n",
              "      <td>1.560000e+11</td>\n",
              "    </tr>\n",
              "    <tr>\n",
              "      <th>10-02-2022 00:00</th>\n",
              "      <td>1.190000e+11</td>\n",
              "    </tr>\n",
              "    <tr>\n",
              "      <th>11-02-2022 00:00</th>\n",
              "      <td>1.680000e+11</td>\n",
              "    </tr>\n",
              "    <tr>\n",
              "      <th>12-02-2022 00:00</th>\n",
              "      <td>3.535571e+10</td>\n",
              "    </tr>\n",
              "  </tbody>\n",
              "</table>\n",
              "</div>\n",
              "      <button class=\"colab-df-convert\" onclick=\"convertToInteractive('df-ac5e6441-7186-4b62-8cb1-df45c287456e')\"\n",
              "              title=\"Convert this dataframe to an interactive table.\"\n",
              "              style=\"display:none;\">\n",
              "        \n",
              "  <svg xmlns=\"http://www.w3.org/2000/svg\" height=\"24px\"viewBox=\"0 0 24 24\"\n",
              "       width=\"24px\">\n",
              "    <path d=\"M0 0h24v24H0V0z\" fill=\"none\"/>\n",
              "    <path d=\"M18.56 5.44l.94 2.06.94-2.06 2.06-.94-2.06-.94-.94-2.06-.94 2.06-2.06.94zm-11 1L8.5 8.5l.94-2.06 2.06-.94-2.06-.94L8.5 2.5l-.94 2.06-2.06.94zm10 10l.94 2.06.94-2.06 2.06-.94-2.06-.94-.94-2.06-.94 2.06-2.06.94z\"/><path d=\"M17.41 7.96l-1.37-1.37c-.4-.4-.92-.59-1.43-.59-.52 0-1.04.2-1.43.59L10.3 9.45l-7.72 7.72c-.78.78-.78 2.05 0 2.83L4 21.41c.39.39.9.59 1.41.59.51 0 1.02-.2 1.41-.59l7.78-7.78 2.81-2.81c.8-.78.8-2.07 0-2.86zM5.41 20L4 18.59l7.72-7.72 1.47 1.35L5.41 20z\"/>\n",
              "  </svg>\n",
              "      </button>\n",
              "      \n",
              "  <style>\n",
              "    .colab-df-container {\n",
              "      display:flex;\n",
              "      flex-wrap:wrap;\n",
              "      gap: 12px;\n",
              "    }\n",
              "\n",
              "    .colab-df-convert {\n",
              "      background-color: #E8F0FE;\n",
              "      border: none;\n",
              "      border-radius: 50%;\n",
              "      cursor: pointer;\n",
              "      display: none;\n",
              "      fill: #1967D2;\n",
              "      height: 32px;\n",
              "      padding: 0 0 0 0;\n",
              "      width: 32px;\n",
              "    }\n",
              "\n",
              "    .colab-df-convert:hover {\n",
              "      background-color: #E2EBFA;\n",
              "      box-shadow: 0px 1px 2px rgba(60, 64, 67, 0.3), 0px 1px 3px 1px rgba(60, 64, 67, 0.15);\n",
              "      fill: #174EA6;\n",
              "    }\n",
              "\n",
              "    [theme=dark] .colab-df-convert {\n",
              "      background-color: #3B4455;\n",
              "      fill: #D2E3FC;\n",
              "    }\n",
              "\n",
              "    [theme=dark] .colab-df-convert:hover {\n",
              "      background-color: #434B5C;\n",
              "      box-shadow: 0px 1px 3px 1px rgba(0, 0, 0, 0.15);\n",
              "      filter: drop-shadow(0px 1px 2px rgba(0, 0, 0, 0.3));\n",
              "      fill: #FFFFFF;\n",
              "    }\n",
              "  </style>\n",
              "\n",
              "      <script>\n",
              "        const buttonEl =\n",
              "          document.querySelector('#df-ac5e6441-7186-4b62-8cb1-df45c287456e button.colab-df-convert');\n",
              "        buttonEl.style.display =\n",
              "          google.colab.kernel.accessAllowed ? 'block' : 'none';\n",
              "\n",
              "        async function convertToInteractive(key) {\n",
              "          const element = document.querySelector('#df-ac5e6441-7186-4b62-8cb1-df45c287456e');\n",
              "          const dataTable =\n",
              "            await google.colab.kernel.invokeFunction('convertToInteractive',\n",
              "                                                     [key], {});\n",
              "          if (!dataTable) return;\n",
              "\n",
              "          const docLinkHtml = 'Like what you see? Visit the ' +\n",
              "            '<a target=\"_blank\" href=https://colab.research.google.com/notebooks/data_table.ipynb>data table notebook</a>'\n",
              "            + ' to learn more about interactive tables.';\n",
              "          element.innerHTML = '';\n",
              "          dataTable['output_type'] = 'display_data';\n",
              "          await google.colab.output.renderOutput(dataTable, element);\n",
              "          const docLink = document.createElement('div');\n",
              "          docLink.innerHTML = docLinkHtml;\n",
              "          element.appendChild(docLink);\n",
              "        }\n",
              "      </script>\n",
              "    </div>\n",
              "  </div>\n",
              "  "
            ],
            "text/plain": [
              "                  CalcNumOfBytesReadPerDay\n",
              "SampleDate                                \n",
              "08-02-2022 00:00              1.520000e+11\n",
              "09-02-2022 00:00              1.560000e+11\n",
              "10-02-2022 00:00              1.190000e+11\n",
              "11-02-2022 00:00              1.680000e+11\n",
              "12-02-2022 00:00              3.535571e+10"
            ]
          },
          "metadata": {},
          "execution_count": 46
        }
      ]
    },
    {
      "cell_type": "markdown",
      "source": [
        "# For Future Dates"
      ],
      "metadata": {
        "id": "d83WbbbwnYHt"
      }
    },
    {
      "cell_type": "code",
      "source": [
        "index_future_dates=pd.date_range(start='2022-02-08',end='2022-02-17')\n",
        "#print(index_future_dates)\n",
        "pred=model2.predict(start=len(df),end=len(df)+9,typ='levels').rename('ARIMA Predictions')\n",
        "#print(comp_pred)\n",
        "pred.index=index_future_dates\n",
        "print(pred)"
      ],
      "metadata": {
        "colab": {
          "base_uri": "https://localhost:8080/"
        },
        "id": "h4s-nhDenbUM",
        "outputId": "6cda46af-8258-4e3f-bada-4ef59df82dab"
      },
      "execution_count": 47,
      "outputs": [
        {
          "output_type": "stream",
          "name": "stdout",
          "text": [
            "2022-02-08    4.164480e+11\n",
            "2022-02-09    4.164480e+11\n",
            "2022-02-10    4.164480e+11\n",
            "2022-02-11    4.164480e+11\n",
            "2022-02-12    4.164480e+11\n",
            "2022-02-13    4.164480e+11\n",
            "2022-02-14    4.164480e+11\n",
            "2022-02-15    4.164480e+11\n",
            "2022-02-16    4.164480e+11\n",
            "2022-02-17    4.164480e+11\n",
            "Freq: D, Name: ARIMA Predictions, dtype: float64\n"
          ]
        }
      ]
    },
    {
      "cell_type": "code",
      "source": [
        "pred.plot(figsize=(12,5),legend=True)"
      ],
      "metadata": {
        "colab": {
          "base_uri": "https://localhost:8080/",
          "height": 371
        },
        "id": "3zgJOczooD7y",
        "outputId": "5bd6bbd8-62e4-4956-bc8e-58f0e7ce76af"
      },
      "execution_count": 48,
      "outputs": [
        {
          "output_type": "execute_result",
          "data": {
            "text/plain": [
              "<matplotlib.axes._subplots.AxesSubplot at 0x7f7dc2c22350>"
            ]
          },
          "metadata": {},
          "execution_count": 48
        },
        {
          "output_type": "display_data",
          "data": {
            "image/png": "[encoded data removed]",
            "text/plain": [
              "<Figure size 864x360 with 1 Axes>"
            ]
          },
          "metadata": {
            "needs_background": "light"
          }
        }
      ]
    }
  ]
}