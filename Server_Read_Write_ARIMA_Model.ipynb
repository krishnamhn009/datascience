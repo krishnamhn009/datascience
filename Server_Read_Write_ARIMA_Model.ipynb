{
  "nbformat": 4,
  "nbformat_minor": 0,
  "metadata": {
    "colab": {
      "name": "Server_Read_Write_ARIMA_Model.ipynb",
      "provenance": [],
      "collapsed_sections": [],
      "toc_visible": true,
      "include_colab_link": true
    },
    "kernelspec": {
      "name": "python3",
      "display_name": "Python 3"
    },
    "language_info": {
      "name": "python"
    }
  },
  "cells": [
    {
      "cell_type": "markdown",
      "metadata": {
        "id": "view-in-github",
        "colab_type": "text"
      },
      "source": [
        "<a href=\"https://colab.research.google.com/github/krishnamhn009/datascience/blob/master/Server_Read_Write_ARIMA_Model.ipynb\" target=\"_parent\"><img src=\"https://colab.research.google.com/assets/colab-badge.svg\" alt=\"Open In Colab\"/></a>"
      ]
    },
    {
      "cell_type": "markdown",
      "source": [
        "# Importing library"
      ],
      "metadata": {
        "id": "SS_s7L4mbylJ"
      }
    },
    {
      "cell_type": "code",
      "execution_count": 1,
      "metadata": {
        "id": "j29-dlOI2CK9"
      },
      "outputs": [],
      "source": [
        "\n",
        "import pandas as pd\n",
        "import numpy as np\n",
        "import matplotlib.pyplot as plt"
      ]
    },
    {
      "cell_type": "markdown",
      "source": [
        "read the data using pd.read_csv and writing parse_date=True, makes sure that pandas understands that it is dealing with date values and not string values"
      ],
      "metadata": {
        "id": "s6DvRSve5ok7"
      }
    },
    {
      "cell_type": "code",
      "source": [
        "urlMonthly='/content/sample_data/Server_Disk_Monthly.csv'\n",
        "urlDaily='/content/sample_data/Server-Read-Write-Response-Daily1.csv'\n",
        "df = pd.read_csv(urlDaily,encoding = \"ISO-8859-1\",parse_dates=True)\n",
        "df.head()"
      ],
      "metadata": {
        "colab": {
          "base_uri": "https://localhost:8080/",
          "height": 357
        },
        "id": "t8ZuHeiC2GK1",
        "outputId": "1f76400f-e684-4e0b-d3e4-4ab7806ab13a"
      },
      "execution_count": 2,
      "outputs": [
        {
          "output_type": "execute_result",
          "data": {
            "text/html": [
              "\n",
              "  <div id=\"df-793f9e7a-3037-487a-a33a-172a367cee18\">\n",
              "    <div class=\"colab-df-container\">\n",
              "      <div>\n",
              "<style scoped>\n",
              "    .dataframe tbody tr th:only-of-type {\n",
              "        vertical-align: middle;\n",
              "    }\n",
              "\n",
              "    .dataframe tbody tr th {\n",
              "        vertical-align: top;\n",
              "    }\n",
              "\n",
              "    .dataframe thead th {\n",
              "        text-align: right;\n",
              "    }\n",
              "</style>\n",
              "<table border=\"1\" class=\"dataframe\">\n",
              "  <thead>\n",
              "    <tr style=\"text-align: right;\">\n",
              "      <th></th>\n",
              "      <th>ï»¿SampleDate</th>\n",
              "      <th>YearOfSample</th>\n",
              "      <th>MonthOfSample</th>\n",
              "      <th>DayOfSample</th>\n",
              "      <th>QuarterOfSample</th>\n",
              "      <th>SqlInstanceName</th>\n",
              "      <th>DatabaseName</th>\n",
              "      <th>CalcNumOfReads</th>\n",
              "      <th>CalcNumOfWrites</th>\n",
              "      <th>CalcNumOfBytesReadPerDay</th>\n",
              "      <th>CalcNumOfBytesWrittenPerDay</th>\n",
              "      <th>CalcNumOfTeraBytesReadPerDay</th>\n",
              "      <th>CalcNumOfTeraBytesWrittenPerDay</th>\n",
              "      <th>CalcSizeOnDiskBytes</th>\n",
              "    </tr>\n",
              "  </thead>\n",
              "  <tbody>\n",
              "    <tr>\n",
              "      <th>0</th>\n",
              "      <td>21-07-2020 00:00</td>\n",
              "      <td>2020</td>\n",
              "      <td>7</td>\n",
              "      <td>21</td>\n",
              "      <td>Q3</td>\n",
              "      <td>WSPE001618\\DEINSTANCE00</td>\n",
              "      <td>GCM_FS_Work</td>\n",
              "      <td>326269</td>\n",
              "      <td>22</td>\n",
              "      <td>3.280000e+11</td>\n",
              "      <td>1.802240e+05</td>\n",
              "      <td>0.30</td>\n",
              "      <td>0.00</td>\n",
              "      <td>3.270000e+11</td>\n",
              "    </tr>\n",
              "    <tr>\n",
              "      <th>1</th>\n",
              "      <td>21-07-2020 00:00</td>\n",
              "      <td>2020</td>\n",
              "      <td>7</td>\n",
              "      <td>21</td>\n",
              "      <td>Q3</td>\n",
              "      <td>WSPE001618\\DEINSTANCE00</td>\n",
              "      <td>IFRS9_GCM_Freeze</td>\n",
              "      <td>13684</td>\n",
              "      <td>22</td>\n",
              "      <td>1.205531e+10</td>\n",
              "      <td>1.802240e+05</td>\n",
              "      <td>0.01</td>\n",
              "      <td>0.00</td>\n",
              "      <td>1.288490e+10</td>\n",
              "    </tr>\n",
              "    <tr>\n",
              "      <th>2</th>\n",
              "      <td>21-07-2020 00:00</td>\n",
              "      <td>2020</td>\n",
              "      <td>7</td>\n",
              "      <td>21</td>\n",
              "      <td>Q3</td>\n",
              "      <td>WSPE001618\\DEINSTANCE00</td>\n",
              "      <td>CreditCore_GCM_Work</td>\n",
              "      <td>1202715</td>\n",
              "      <td>194460</td>\n",
              "      <td>1.050000e+12</td>\n",
              "      <td>1.310000e+11</td>\n",
              "      <td>0.96</td>\n",
              "      <td>0.12</td>\n",
              "      <td>7.770000e+11</td>\n",
              "    </tr>\n",
              "    <tr>\n",
              "      <th>3</th>\n",
              "      <td>21-07-2020 00:00</td>\n",
              "      <td>2020</td>\n",
              "      <td>7</td>\n",
              "      <td>21</td>\n",
              "      <td>Q3</td>\n",
              "      <td>WSPE001618\\DEINSTANCE00</td>\n",
              "      <td>DBA</td>\n",
              "      <td>27362</td>\n",
              "      <td>-5668</td>\n",
              "      <td>7.080018e+08</td>\n",
              "      <td>-1.187881e+09</td>\n",
              "      <td>0.00</td>\n",
              "      <td>0.00</td>\n",
              "      <td>0.000000e+00</td>\n",
              "    </tr>\n",
              "    <tr>\n",
              "      <th>4</th>\n",
              "      <td>21-07-2020 00:00</td>\n",
              "      <td>2020</td>\n",
              "      <td>7</td>\n",
              "      <td>21</td>\n",
              "      <td>Q3</td>\n",
              "      <td>WSPE001618\\DEINSTANCE00</td>\n",
              "      <td>IFRS9_GCM_QA</td>\n",
              "      <td>2910</td>\n",
              "      <td>22</td>\n",
              "      <td>1.491812e+09</td>\n",
              "      <td>1.802240e+05</td>\n",
              "      <td>0.00</td>\n",
              "      <td>0.00</td>\n",
              "      <td>7.516193e+09</td>\n",
              "    </tr>\n",
              "  </tbody>\n",
              "</table>\n",
              "</div>\n",
              "      <button class=\"colab-df-convert\" onclick=\"convertToInteractive('df-793f9e7a-3037-487a-a33a-172a367cee18')\"\n",
              "              title=\"Convert this dataframe to an interactive table.\"\n",
              "              style=\"display:none;\">\n",
              "        \n",
              "  <svg xmlns=\"http://www.w3.org/2000/svg\" height=\"24px\"viewBox=\"0 0 24 24\"\n",
              "       width=\"24px\">\n",
              "    <path d=\"M0 0h24v24H0V0z\" fill=\"none\"/>\n",
              "    <path d=\"M18.56 5.44l.94 2.06.94-2.06 2.06-.94-2.06-.94-.94-2.06-.94 2.06-2.06.94zm-11 1L8.5 8.5l.94-2.06 2.06-.94-2.06-.94L8.5 2.5l-.94 2.06-2.06.94zm10 10l.94 2.06.94-2.06 2.06-.94-2.06-.94-.94-2.06-.94 2.06-2.06.94z\"/><path d=\"M17.41 7.96l-1.37-1.37c-.4-.4-.92-.59-1.43-.59-.52 0-1.04.2-1.43.59L10.3 9.45l-7.72 7.72c-.78.78-.78 2.05 0 2.83L4 21.41c.39.39.9.59 1.41.59.51 0 1.02-.2 1.41-.59l7.78-7.78 2.81-2.81c.8-.78.8-2.07 0-2.86zM5.41 20L4 18.59l7.72-7.72 1.47 1.35L5.41 20z\"/>\n",
              "  </svg>\n",
              "      </button>\n",
              "      \n",
              "  <style>\n",
              "    .colab-df-container {\n",
              "      display:flex;\n",
              "      flex-wrap:wrap;\n",
              "      gap: 12px;\n",
              "    }\n",
              "\n",
              "    .colab-df-convert {\n",
              "      background-color: #E8F0FE;\n",
              "      border: none;\n",
              "      border-radius: 50%;\n",
              "      cursor: pointer;\n",
              "      display: none;\n",
              "      fill: #1967D2;\n",
              "      height: 32px;\n",
              "      padding: 0 0 0 0;\n",
              "      width: 32px;\n",
              "    }\n",
              "\n",
              "    .colab-df-convert:hover {\n",
              "      background-color: #E2EBFA;\n",
              "      box-shadow: 0px 1px 2px rgba(60, 64, 67, 0.3), 0px 1px 3px 1px rgba(60, 64, 67, 0.15);\n",
              "      fill: #174EA6;\n",
              "    }\n",
              "\n",
              "    [theme=dark] .colab-df-convert {\n",
              "      background-color: #3B4455;\n",
              "      fill: #D2E3FC;\n",
              "    }\n",
              "\n",
              "    [theme=dark] .colab-df-convert:hover {\n",
              "      background-color: #434B5C;\n",
              "      box-shadow: 0px 1px 3px 1px rgba(0, 0, 0, 0.15);\n",
              "      filter: drop-shadow(0px 1px 2px rgba(0, 0, 0, 0.3));\n",
              "      fill: #FFFFFF;\n",
              "    }\n",
              "  </style>\n",
              "\n",
              "      <script>\n",
              "        const buttonEl =\n",
              "          document.querySelector('#df-793f9e7a-3037-487a-a33a-172a367cee18 button.colab-df-convert');\n",
              "        buttonEl.style.display =\n",
              "          google.colab.kernel.accessAllowed ? 'block' : 'none';\n",
              "\n",
              "        async function convertToInteractive(key) {\n",
              "          const element = document.querySelector('#df-793f9e7a-3037-487a-a33a-172a367cee18');\n",
              "          const dataTable =\n",
              "            await google.colab.kernel.invokeFunction('convertToInteractive',\n",
              "                                                     [key], {});\n",
              "          if (!dataTable) return;\n",
              "\n",
              "          const docLinkHtml = 'Like what you see? Visit the ' +\n",
              "            '<a target=\"_blank\" href=https://colab.research.google.com/notebooks/data_table.ipynb>data table notebook</a>'\n",
              "            + ' to learn more about interactive tables.';\n",
              "          element.innerHTML = '';\n",
              "          dataTable['output_type'] = 'display_data';\n",
              "          await google.colab.output.renderOutput(dataTable, element);\n",
              "          const docLink = document.createElement('div');\n",
              "          docLink.innerHTML = docLinkHtml;\n",
              "          element.appendChild(docLink);\n",
              "        }\n",
              "      </script>\n",
              "    </div>\n",
              "  </div>\n",
              "  "
            ],
            "text/plain": [
              "      ï»¿SampleDate  ...  CalcSizeOnDiskBytes\n",
              "0  21-07-2020 00:00  ...         3.270000e+11\n",
              "1  21-07-2020 00:00  ...         1.288490e+10\n",
              "2  21-07-2020 00:00  ...         7.770000e+11\n",
              "3  21-07-2020 00:00  ...         0.000000e+00\n",
              "4  21-07-2020 00:00  ...         7.516193e+09\n",
              "\n",
              "[5 rows x 14 columns]"
            ]
          },
          "metadata": {},
          "execution_count": 2
        }
      ]
    },
    {
      "cell_type": "markdown",
      "source": [
        "# Reading Data"
      ],
      "metadata": {
        "id": "x8MOTDBkSDis"
      }
    },
    {
      "cell_type": "code",
      "source": [
        "df.columns"
      ],
      "metadata": {
        "colab": {
          "base_uri": "https://localhost:8080/"
        },
        "id": "nSb5T0KHBTW5",
        "outputId": "6a1ba375-0d38-4181-b976-2be44d43e171"
      },
      "execution_count": 3,
      "outputs": [
        {
          "output_type": "execute_result",
          "data": {
            "text/plain": [
              "Index(['ï»¿SampleDate', 'YearOfSample', 'MonthOfSample', 'DayOfSample',\n",
              "       'QuarterOfSample', 'SqlInstanceName', 'DatabaseName', 'CalcNumOfReads',\n",
              "       'CalcNumOfWrites', 'CalcNumOfBytesReadPerDay',\n",
              "       'CalcNumOfBytesWrittenPerDay', 'CalcNumOfTeraBytesReadPerDay',\n",
              "       'CalcNumOfTeraBytesWrittenPerDay', 'CalcSizeOnDiskBytes'],\n",
              "      dtype='object')"
            ]
          },
          "metadata": {},
          "execution_count": 3
        }
      ]
    },
    {
      "cell_type": "markdown",
      "source": [
        "Here data contains various columns ,but I have to check read and write data .which is important here"
      ],
      "metadata": {
        "id": "ZwiLnznk511l"
      }
    },
    {
      "cell_type": "markdown",
      "source": [
        "Below creating one new column SampleDate whihc will have sample date values."
      ],
      "metadata": {
        "id": "4oQhRfW76Mpx"
      }
    },
    {
      "cell_type": "code",
      "source": [
        "import datetime\n",
        "df['SampleDate']=df['ï»¿SampleDate']\n",
        "df['SampleDate']"
      ],
      "metadata": {
        "id": "DJiLtw6E6EhV",
        "colab": {
          "base_uri": "https://localhost:8080/"
        },
        "outputId": "860956b6-8ae1-487b-a8e0-51f7f9475175"
      },
      "execution_count": 4,
      "outputs": [
        {
          "output_type": "execute_result",
          "data": {
            "text/plain": [
              "0        21-07-2020 00:00\n",
              "1        21-07-2020 00:00\n",
              "2        21-07-2020 00:00\n",
              "3        21-07-2020 00:00\n",
              "4        21-07-2020 00:00\n",
              "               ...       \n",
              "80043    12-02-2022 00:00\n",
              "80044    12-02-2022 00:00\n",
              "80045    12-02-2022 00:00\n",
              "80046    12-02-2022 00:00\n",
              "80047    12-02-2022 00:00\n",
              "Name: SampleDate, Length: 80048, dtype: object"
            ]
          },
          "metadata": {},
          "execution_count": 4
        }
      ]
    },
    {
      "cell_type": "markdown",
      "source": [
        "# Data extracting functions"
      ],
      "metadata": {
        "id": "B9O4915M8ikD"
      }
    },
    {
      "cell_type": "code",
      "source": [
        "#function to set index in dataframe for given column\n",
        "def setIndex(columnName,dataframe):\n",
        "  dataframe.set_index(columnName, inplace = True)\n",
        "  dataframe=dataframe.asfreq('D')\n",
        "  dataframe.index.freq='D'\n",
        "\n",
        "#func to get data for specific database\n",
        "def getDataSet(databaseName):\n",
        "  print(\"input param \",databaseName)\n",
        "  dfAnalysis=df[(df.DatabaseName == databaseName)]\n",
        "  setIndex('SampleDate',dfAnalysis)\n",
        "  return dfAnalysis\n",
        "\n",
        "# data clean\n",
        "def cleanDataSet(dfAnalysis):\n",
        "  dfAnalysis=dfAnalysis.dropna()\n",
        "  dfAnalysis.round(2) \n",
        "  return dfAnalysis"
      ],
      "metadata": {
        "id": "_Eoh_sq08zpO"
      },
      "execution_count": 5,
      "outputs": []
    },
    {
      "cell_type": "code",
      "source": [
        "dfAnalysis=getDataSet('IFRS9_SME_Retail_PRD')\n",
        "dfAnalysis=cleanDataSet(dfAnalysis)\n",
        "dfAnalysis"
      ],
      "metadata": {
        "colab": {
          "base_uri": "https://localhost:8080/",
          "height": 710
        },
        "id": "1Q-_vwO-xkrR",
        "outputId": "b1ed130a-516d-4442-ca6e-820f5988e14a"
      },
      "execution_count": 6,
      "outputs": [
        {
          "output_type": "stream",
          "name": "stdout",
          "text": [
            "input param  IFRS9_SME_Retail_PRD\n"
          ]
        },
        {
          "output_type": "execute_result",
          "data": {
            "text/html": [
              "\n",
              "  <div id=\"df-c35764e8-702a-449c-8659-02df8b7e9371\">\n",
              "    <div class=\"colab-df-container\">\n",
              "      <div>\n",
              "<style scoped>\n",
              "    .dataframe tbody tr th:only-of-type {\n",
              "        vertical-align: middle;\n",
              "    }\n",
              "\n",
              "    .dataframe tbody tr th {\n",
              "        vertical-align: top;\n",
              "    }\n",
              "\n",
              "    .dataframe thead th {\n",
              "        text-align: right;\n",
              "    }\n",
              "</style>\n",
              "<table border=\"1\" class=\"dataframe\">\n",
              "  <thead>\n",
              "    <tr style=\"text-align: right;\">\n",
              "      <th></th>\n",
              "      <th>ï»¿SampleDate</th>\n",
              "      <th>YearOfSample</th>\n",
              "      <th>MonthOfSample</th>\n",
              "      <th>DayOfSample</th>\n",
              "      <th>QuarterOfSample</th>\n",
              "      <th>SqlInstanceName</th>\n",
              "      <th>DatabaseName</th>\n",
              "      <th>CalcNumOfReads</th>\n",
              "      <th>CalcNumOfWrites</th>\n",
              "      <th>CalcNumOfBytesReadPerDay</th>\n",
              "      <th>CalcNumOfBytesWrittenPerDay</th>\n",
              "      <th>CalcNumOfTeraBytesReadPerDay</th>\n",
              "      <th>CalcNumOfTeraBytesWrittenPerDay</th>\n",
              "      <th>CalcSizeOnDiskBytes</th>\n",
              "    </tr>\n",
              "    <tr>\n",
              "      <th>SampleDate</th>\n",
              "      <th></th>\n",
              "      <th></th>\n",
              "      <th></th>\n",
              "      <th></th>\n",
              "      <th></th>\n",
              "      <th></th>\n",
              "      <th></th>\n",
              "      <th></th>\n",
              "      <th></th>\n",
              "      <th></th>\n",
              "      <th></th>\n",
              "      <th></th>\n",
              "      <th></th>\n",
              "      <th></th>\n",
              "    </tr>\n",
              "  </thead>\n",
              "  <tbody>\n",
              "    <tr>\n",
              "      <th>21-07-2020 00:00</th>\n",
              "      <td>21-07-2020 00:00</td>\n",
              "      <td>2020</td>\n",
              "      <td>7</td>\n",
              "      <td>21</td>\n",
              "      <td>Q3</td>\n",
              "      <td>WSPE000899\\DEINSTANCE00</td>\n",
              "      <td>IFRS9_SME_Retail_PRD</td>\n",
              "      <td>187423</td>\n",
              "      <td>0</td>\n",
              "      <td>2.430153e+10</td>\n",
              "      <td>0.0</td>\n",
              "      <td>0.02</td>\n",
              "      <td>0.0</td>\n",
              "      <td>1.510428e+10</td>\n",
              "    </tr>\n",
              "    <tr>\n",
              "      <th>22-07-2020 00:00</th>\n",
              "      <td>22-07-2020 00:00</td>\n",
              "      <td>2020</td>\n",
              "      <td>7</td>\n",
              "      <td>22</td>\n",
              "      <td>Q3</td>\n",
              "      <td>WSPE000899\\DEINSTANCE00</td>\n",
              "      <td>IFRS9_SME_Retail_PRD</td>\n",
              "      <td>83</td>\n",
              "      <td>0</td>\n",
              "      <td>5.275648e+06</td>\n",
              "      <td>0.0</td>\n",
              "      <td>0.02</td>\n",
              "      <td>0.0</td>\n",
              "      <td>0.000000e+00</td>\n",
              "    </tr>\n",
              "    <tr>\n",
              "      <th>23-07-2020 00:00</th>\n",
              "      <td>23-07-2020 00:00</td>\n",
              "      <td>2020</td>\n",
              "      <td>7</td>\n",
              "      <td>23</td>\n",
              "      <td>Q3</td>\n",
              "      <td>WSPE000899\\DEINSTANCE00</td>\n",
              "      <td>IFRS9_SME_Retail_PRD</td>\n",
              "      <td>5</td>\n",
              "      <td>0</td>\n",
              "      <td>3.194880e+05</td>\n",
              "      <td>0.0</td>\n",
              "      <td>0.02</td>\n",
              "      <td>0.0</td>\n",
              "      <td>0.000000e+00</td>\n",
              "    </tr>\n",
              "    <tr>\n",
              "      <th>24-07-2020 00:00</th>\n",
              "      <td>24-07-2020 00:00</td>\n",
              "      <td>2020</td>\n",
              "      <td>7</td>\n",
              "      <td>24</td>\n",
              "      <td>Q3</td>\n",
              "      <td>WSPE000899\\DEINSTANCE00</td>\n",
              "      <td>IFRS9_SME_Retail_PRD</td>\n",
              "      <td>149</td>\n",
              "      <td>0</td>\n",
              "      <td>9.134080e+06</td>\n",
              "      <td>0.0</td>\n",
              "      <td>0.02</td>\n",
              "      <td>0.0</td>\n",
              "      <td>0.000000e+00</td>\n",
              "    </tr>\n",
              "    <tr>\n",
              "      <th>25-07-2020 00:00</th>\n",
              "      <td>25-07-2020 00:00</td>\n",
              "      <td>2020</td>\n",
              "      <td>7</td>\n",
              "      <td>25</td>\n",
              "      <td>Q3</td>\n",
              "      <td>WSPE000899\\DEINSTANCE00</td>\n",
              "      <td>IFRS9_SME_Retail_PRD</td>\n",
              "      <td>223</td>\n",
              "      <td>0</td>\n",
              "      <td>1.458995e+07</td>\n",
              "      <td>0.0</td>\n",
              "      <td>0.02</td>\n",
              "      <td>0.0</td>\n",
              "      <td>0.000000e+00</td>\n",
              "    </tr>\n",
              "    <tr>\n",
              "      <th>...</th>\n",
              "      <td>...</td>\n",
              "      <td>...</td>\n",
              "      <td>...</td>\n",
              "      <td>...</td>\n",
              "      <td>...</td>\n",
              "      <td>...</td>\n",
              "      <td>...</td>\n",
              "      <td>...</td>\n",
              "      <td>...</td>\n",
              "      <td>...</td>\n",
              "      <td>...</td>\n",
              "      <td>...</td>\n",
              "      <td>...</td>\n",
              "      <td>...</td>\n",
              "    </tr>\n",
              "    <tr>\n",
              "      <th>08-02-2022 00:00</th>\n",
              "      <td>08-02-2022 00:00</td>\n",
              "      <td>2022</td>\n",
              "      <td>2</td>\n",
              "      <td>8</td>\n",
              "      <td>Q1</td>\n",
              "      <td>WSPE000899\\DEINSTANCE00</td>\n",
              "      <td>IFRS9_SME_Retail_PRD</td>\n",
              "      <td>643</td>\n",
              "      <td>0</td>\n",
              "      <td>3.003187e+07</td>\n",
              "      <td>0.0</td>\n",
              "      <td>0.00</td>\n",
              "      <td>0.0</td>\n",
              "      <td>0.000000e+00</td>\n",
              "    </tr>\n",
              "    <tr>\n",
              "      <th>09-02-2022 00:00</th>\n",
              "      <td>09-02-2022 00:00</td>\n",
              "      <td>2022</td>\n",
              "      <td>2</td>\n",
              "      <td>9</td>\n",
              "      <td>Q1</td>\n",
              "      <td>WSPE000899\\DEINSTANCE00</td>\n",
              "      <td>IFRS9_SME_Retail_PRD</td>\n",
              "      <td>35</td>\n",
              "      <td>0</td>\n",
              "      <td>1.908736e+06</td>\n",
              "      <td>0.0</td>\n",
              "      <td>0.00</td>\n",
              "      <td>0.0</td>\n",
              "      <td>0.000000e+00</td>\n",
              "    </tr>\n",
              "    <tr>\n",
              "      <th>10-02-2022 00:00</th>\n",
              "      <td>10-02-2022 00:00</td>\n",
              "      <td>2022</td>\n",
              "      <td>2</td>\n",
              "      <td>10</td>\n",
              "      <td>Q1</td>\n",
              "      <td>WSPE000899\\DEINSTANCE00</td>\n",
              "      <td>IFRS9_SME_Retail_PRD</td>\n",
              "      <td>693</td>\n",
              "      <td>0</td>\n",
              "      <td>9.609216e+06</td>\n",
              "      <td>0.0</td>\n",
              "      <td>0.00</td>\n",
              "      <td>0.0</td>\n",
              "      <td>0.000000e+00</td>\n",
              "    </tr>\n",
              "    <tr>\n",
              "      <th>11-02-2022 00:00</th>\n",
              "      <td>11-02-2022 00:00</td>\n",
              "      <td>2022</td>\n",
              "      <td>2</td>\n",
              "      <td>11</td>\n",
              "      <td>Q1</td>\n",
              "      <td>WSPE000899\\DEINSTANCE00</td>\n",
              "      <td>IFRS9_SME_Retail_PRD</td>\n",
              "      <td>242</td>\n",
              "      <td>0</td>\n",
              "      <td>1.589248e+07</td>\n",
              "      <td>0.0</td>\n",
              "      <td>0.00</td>\n",
              "      <td>0.0</td>\n",
              "      <td>0.000000e+00</td>\n",
              "    </tr>\n",
              "    <tr>\n",
              "      <th>12-02-2022 00:00</th>\n",
              "      <td>12-02-2022 00:00</td>\n",
              "      <td>2022</td>\n",
              "      <td>2</td>\n",
              "      <td>12</td>\n",
              "      <td>Q1</td>\n",
              "      <td>WSPE000899\\DEINSTANCE00</td>\n",
              "      <td>IFRS9_SME_Retail_PRD</td>\n",
              "      <td>356</td>\n",
              "      <td>0</td>\n",
              "      <td>2.327347e+07</td>\n",
              "      <td>0.0</td>\n",
              "      <td>0.00</td>\n",
              "      <td>0.0</td>\n",
              "      <td>0.000000e+00</td>\n",
              "    </tr>\n",
              "  </tbody>\n",
              "</table>\n",
              "<p>558 rows × 14 columns</p>\n",
              "</div>\n",
              "      <button class=\"colab-df-convert\" onclick=\"convertToInteractive('df-c35764e8-702a-449c-8659-02df8b7e9371')\"\n",
              "              title=\"Convert this dataframe to an interactive table.\"\n",
              "              style=\"display:none;\">\n",
              "        \n",
              "  <svg xmlns=\"http://www.w3.org/2000/svg\" height=\"24px\"viewBox=\"0 0 24 24\"\n",
              "       width=\"24px\">\n",
              "    <path d=\"M0 0h24v24H0V0z\" fill=\"none\"/>\n",
              "    <path d=\"M18.56 5.44l.94 2.06.94-2.06 2.06-.94-2.06-.94-.94-2.06-.94 2.06-2.06.94zm-11 1L8.5 8.5l.94-2.06 2.06-.94-2.06-.94L8.5 2.5l-.94 2.06-2.06.94zm10 10l.94 2.06.94-2.06 2.06-.94-2.06-.94-.94-2.06-.94 2.06-2.06.94z\"/><path d=\"M17.41 7.96l-1.37-1.37c-.4-.4-.92-.59-1.43-.59-.52 0-1.04.2-1.43.59L10.3 9.45l-7.72 7.72c-.78.78-.78 2.05 0 2.83L4 21.41c.39.39.9.59 1.41.59.51 0 1.02-.2 1.41-.59l7.78-7.78 2.81-2.81c.8-.78.8-2.07 0-2.86zM5.41 20L4 18.59l7.72-7.72 1.47 1.35L5.41 20z\"/>\n",
              "  </svg>\n",
              "      </button>\n",
              "      \n",
              "  <style>\n",
              "    .colab-df-container {\n",
              "      display:flex;\n",
              "      flex-wrap:wrap;\n",
              "      gap: 12px;\n",
              "    }\n",
              "\n",
              "    .colab-df-convert {\n",
              "      background-color: #E8F0FE;\n",
              "      border: none;\n",
              "      border-radius: 50%;\n",
              "      cursor: pointer;\n",
              "      display: none;\n",
              "      fill: #1967D2;\n",
              "      height: 32px;\n",
              "      padding: 0 0 0 0;\n",
              "      width: 32px;\n",
              "    }\n",
              "\n",
              "    .colab-df-convert:hover {\n",
              "      background-color: #E2EBFA;\n",
              "      box-shadow: 0px 1px 2px rgba(60, 64, 67, 0.3), 0px 1px 3px 1px rgba(60, 64, 67, 0.15);\n",
              "      fill: #174EA6;\n",
              "    }\n",
              "\n",
              "    [theme=dark] .colab-df-convert {\n",
              "      background-color: #3B4455;\n",
              "      fill: #D2E3FC;\n",
              "    }\n",
              "\n",
              "    [theme=dark] .colab-df-convert:hover {\n",
              "      background-color: #434B5C;\n",
              "      box-shadow: 0px 1px 3px 1px rgba(0, 0, 0, 0.15);\n",
              "      filter: drop-shadow(0px 1px 2px rgba(0, 0, 0, 0.3));\n",
              "      fill: #FFFFFF;\n",
              "    }\n",
              "  </style>\n",
              "\n",
              "      <script>\n",
              "        const buttonEl =\n",
              "          document.querySelector('#df-c35764e8-702a-449c-8659-02df8b7e9371 button.colab-df-convert');\n",
              "        buttonEl.style.display =\n",
              "          google.colab.kernel.accessAllowed ? 'block' : 'none';\n",
              "\n",
              "        async function convertToInteractive(key) {\n",
              "          const element = document.querySelector('#df-c35764e8-702a-449c-8659-02df8b7e9371');\n",
              "          const dataTable =\n",
              "            await google.colab.kernel.invokeFunction('convertToInteractive',\n",
              "                                                     [key], {});\n",
              "          if (!dataTable) return;\n",
              "\n",
              "          const docLinkHtml = 'Like what you see? Visit the ' +\n",
              "            '<a target=\"_blank\" href=https://colab.research.google.com/notebooks/data_table.ipynb>data table notebook</a>'\n",
              "            + ' to learn more about interactive tables.';\n",
              "          element.innerHTML = '';\n",
              "          dataTable['output_type'] = 'display_data';\n",
              "          await google.colab.output.renderOutput(dataTable, element);\n",
              "          const docLink = document.createElement('div');\n",
              "          docLink.innerHTML = docLinkHtml;\n",
              "          element.appendChild(docLink);\n",
              "        }\n",
              "      </script>\n",
              "    </div>\n",
              "  </div>\n",
              "  "
            ],
            "text/plain": [
              "                     ï»¿SampleDate  ...  CalcSizeOnDiskBytes\n",
              "SampleDate                          ...                     \n",
              "21-07-2020 00:00  21-07-2020 00:00  ...         1.510428e+10\n",
              "22-07-2020 00:00  22-07-2020 00:00  ...         0.000000e+00\n",
              "23-07-2020 00:00  23-07-2020 00:00  ...         0.000000e+00\n",
              "24-07-2020 00:00  24-07-2020 00:00  ...         0.000000e+00\n",
              "25-07-2020 00:00  25-07-2020 00:00  ...         0.000000e+00\n",
              "...                            ...  ...                  ...\n",
              "08-02-2022 00:00  08-02-2022 00:00  ...         0.000000e+00\n",
              "09-02-2022 00:00  09-02-2022 00:00  ...         0.000000e+00\n",
              "10-02-2022 00:00  10-02-2022 00:00  ...         0.000000e+00\n",
              "11-02-2022 00:00  11-02-2022 00:00  ...         0.000000e+00\n",
              "12-02-2022 00:00  12-02-2022 00:00  ...         0.000000e+00\n",
              "\n",
              "[558 rows x 14 columns]"
            ]
          },
          "metadata": {},
          "execution_count": 6
        }
      ]
    },
    {
      "cell_type": "markdown",
      "source": [
        "# Extracting required columns "
      ],
      "metadata": {
        "id": "h_jn8cUN82lu"
      }
    },
    {
      "cell_type": "code",
      "source": [
        "dfCurrentSizeOnDisk=dfAnalysis[['CalcNumOfBytesReadPerDay']]# CurrentSizeOnDiskTeraBytes ,CurrentSizeOnDiskBytes\n",
        "dfCurrentSizeOnDisk"
      ],
      "metadata": {
        "colab": {
          "base_uri": "https://localhost:8080/",
          "height": 455
        },
        "id": "otrkv0V-6__R",
        "outputId": "3a76be03-cf7a-401b-d2a4-795bfbb220c6"
      },
      "execution_count": 7,
      "outputs": [
        {
          "output_type": "execute_result",
          "data": {
            "text/html": [
              "\n",
              "  <div id=\"df-670b71f3-c673-4b4e-9fed-3be5bfcf1523\">\n",
              "    <div class=\"colab-df-container\">\n",
              "      <div>\n",
              "<style scoped>\n",
              "    .dataframe tbody tr th:only-of-type {\n",
              "        vertical-align: middle;\n",
              "    }\n",
              "\n",
              "    .dataframe tbody tr th {\n",
              "        vertical-align: top;\n",
              "    }\n",
              "\n",
              "    .dataframe thead th {\n",
              "        text-align: right;\n",
              "    }\n",
              "</style>\n",
              "<table border=\"1\" class=\"dataframe\">\n",
              "  <thead>\n",
              "    <tr style=\"text-align: right;\">\n",
              "      <th></th>\n",
              "      <th>CalcNumOfBytesReadPerDay</th>\n",
              "    </tr>\n",
              "    <tr>\n",
              "      <th>SampleDate</th>\n",
              "      <th></th>\n",
              "    </tr>\n",
              "  </thead>\n",
              "  <tbody>\n",
              "    <tr>\n",
              "      <th>21-07-2020 00:00</th>\n",
              "      <td>2.430153e+10</td>\n",
              "    </tr>\n",
              "    <tr>\n",
              "      <th>22-07-2020 00:00</th>\n",
              "      <td>5.275648e+06</td>\n",
              "    </tr>\n",
              "    <tr>\n",
              "      <th>23-07-2020 00:00</th>\n",
              "      <td>3.194880e+05</td>\n",
              "    </tr>\n",
              "    <tr>\n",
              "      <th>24-07-2020 00:00</th>\n",
              "      <td>9.134080e+06</td>\n",
              "    </tr>\n",
              "    <tr>\n",
              "      <th>25-07-2020 00:00</th>\n",
              "      <td>1.458995e+07</td>\n",
              "    </tr>\n",
              "    <tr>\n",
              "      <th>...</th>\n",
              "      <td>...</td>\n",
              "    </tr>\n",
              "    <tr>\n",
              "      <th>08-02-2022 00:00</th>\n",
              "      <td>3.003187e+07</td>\n",
              "    </tr>\n",
              "    <tr>\n",
              "      <th>09-02-2022 00:00</th>\n",
              "      <td>1.908736e+06</td>\n",
              "    </tr>\n",
              "    <tr>\n",
              "      <th>10-02-2022 00:00</th>\n",
              "      <td>9.609216e+06</td>\n",
              "    </tr>\n",
              "    <tr>\n",
              "      <th>11-02-2022 00:00</th>\n",
              "      <td>1.589248e+07</td>\n",
              "    </tr>\n",
              "    <tr>\n",
              "      <th>12-02-2022 00:00</th>\n",
              "      <td>2.327347e+07</td>\n",
              "    </tr>\n",
              "  </tbody>\n",
              "</table>\n",
              "<p>558 rows × 1 columns</p>\n",
              "</div>\n",
              "      <button class=\"colab-df-convert\" onclick=\"convertToInteractive('df-670b71f3-c673-4b4e-9fed-3be5bfcf1523')\"\n",
              "              title=\"Convert this dataframe to an interactive table.\"\n",
              "              style=\"display:none;\">\n",
              "        \n",
              "  <svg xmlns=\"http://www.w3.org/2000/svg\" height=\"24px\"viewBox=\"0 0 24 24\"\n",
              "       width=\"24px\">\n",
              "    <path d=\"M0 0h24v24H0V0z\" fill=\"none\"/>\n",
              "    <path d=\"M18.56 5.44l.94 2.06.94-2.06 2.06-.94-2.06-.94-.94-2.06-.94 2.06-2.06.94zm-11 1L8.5 8.5l.94-2.06 2.06-.94-2.06-.94L8.5 2.5l-.94 2.06-2.06.94zm10 10l.94 2.06.94-2.06 2.06-.94-2.06-.94-.94-2.06-.94 2.06-2.06.94z\"/><path d=\"M17.41 7.96l-1.37-1.37c-.4-.4-.92-.59-1.43-.59-.52 0-1.04.2-1.43.59L10.3 9.45l-7.72 7.72c-.78.78-.78 2.05 0 2.83L4 21.41c.39.39.9.59 1.41.59.51 0 1.02-.2 1.41-.59l7.78-7.78 2.81-2.81c.8-.78.8-2.07 0-2.86zM5.41 20L4 18.59l7.72-7.72 1.47 1.35L5.41 20z\"/>\n",
              "  </svg>\n",
              "      </button>\n",
              "      \n",
              "  <style>\n",
              "    .colab-df-container {\n",
              "      display:flex;\n",
              "      flex-wrap:wrap;\n",
              "      gap: 12px;\n",
              "    }\n",
              "\n",
              "    .colab-df-convert {\n",
              "      background-color: #E8F0FE;\n",
              "      border: none;\n",
              "      border-radius: 50%;\n",
              "      cursor: pointer;\n",
              "      display: none;\n",
              "      fill: #1967D2;\n",
              "      height: 32px;\n",
              "      padding: 0 0 0 0;\n",
              "      width: 32px;\n",
              "    }\n",
              "\n",
              "    .colab-df-convert:hover {\n",
              "      background-color: #E2EBFA;\n",
              "      box-shadow: 0px 1px 2px rgba(60, 64, 67, 0.3), 0px 1px 3px 1px rgba(60, 64, 67, 0.15);\n",
              "      fill: #174EA6;\n",
              "    }\n",
              "\n",
              "    [theme=dark] .colab-df-convert {\n",
              "      background-color: #3B4455;\n",
              "      fill: #D2E3FC;\n",
              "    }\n",
              "\n",
              "    [theme=dark] .colab-df-convert:hover {\n",
              "      background-color: #434B5C;\n",
              "      box-shadow: 0px 1px 3px 1px rgba(0, 0, 0, 0.15);\n",
              "      filter: drop-shadow(0px 1px 2px rgba(0, 0, 0, 0.3));\n",
              "      fill: #FFFFFF;\n",
              "    }\n",
              "  </style>\n",
              "\n",
              "      <script>\n",
              "        const buttonEl =\n",
              "          document.querySelector('#df-670b71f3-c673-4b4e-9fed-3be5bfcf1523 button.colab-df-convert');\n",
              "        buttonEl.style.display =\n",
              "          google.colab.kernel.accessAllowed ? 'block' : 'none';\n",
              "\n",
              "        async function convertToInteractive(key) {\n",
              "          const element = document.querySelector('#df-670b71f3-c673-4b4e-9fed-3be5bfcf1523');\n",
              "          const dataTable =\n",
              "            await google.colab.kernel.invokeFunction('convertToInteractive',\n",
              "                                                     [key], {});\n",
              "          if (!dataTable) return;\n",
              "\n",
              "          const docLinkHtml = 'Like what you see? Visit the ' +\n",
              "            '<a target=\"_blank\" href=https://colab.research.google.com/notebooks/data_table.ipynb>data table notebook</a>'\n",
              "            + ' to learn more about interactive tables.';\n",
              "          element.innerHTML = '';\n",
              "          dataTable['output_type'] = 'display_data';\n",
              "          await google.colab.output.renderOutput(dataTable, element);\n",
              "          const docLink = document.createElement('div');\n",
              "          docLink.innerHTML = docLinkHtml;\n",
              "          element.appendChild(docLink);\n",
              "        }\n",
              "      </script>\n",
              "    </div>\n",
              "  </div>\n",
              "  "
            ],
            "text/plain": [
              "                  CalcNumOfBytesReadPerDay\n",
              "SampleDate                                \n",
              "21-07-2020 00:00              2.430153e+10\n",
              "22-07-2020 00:00              5.275648e+06\n",
              "23-07-2020 00:00              3.194880e+05\n",
              "24-07-2020 00:00              9.134080e+06\n",
              "25-07-2020 00:00              1.458995e+07\n",
              "...                                    ...\n",
              "08-02-2022 00:00              3.003187e+07\n",
              "09-02-2022 00:00              1.908736e+06\n",
              "10-02-2022 00:00              9.609216e+06\n",
              "11-02-2022 00:00              1.589248e+07\n",
              "12-02-2022 00:00              2.327347e+07\n",
              "\n",
              "[558 rows x 1 columns]"
            ]
          },
          "metadata": {},
          "execution_count": 7
        }
      ]
    },
    {
      "cell_type": "markdown",
      "source": [
        "# Plot  data"
      ],
      "metadata": {
        "id": "GrwgwNYW8TWW"
      }
    },
    {
      "cell_type": "code",
      "source": [
        "dfCurrentSizeOnDisk.describe()\n",
        "dfCurrentSizeOnDisk['CalcNumOfBytesReadPerDay']"
      ],
      "metadata": {
        "colab": {
          "base_uri": "https://localhost:8080/"
        },
        "id": "NQsGnZs2xGz9",
        "outputId": "bc18c833-090f-467a-e8d4-57250a2fa79f"
      },
      "execution_count": 8,
      "outputs": [
        {
          "output_type": "execute_result",
          "data": {
            "text/plain": [
              "SampleDate\n",
              "21-07-2020 00:00    2.430153e+10\n",
              "22-07-2020 00:00    5.275648e+06\n",
              "23-07-2020 00:00    3.194880e+05\n",
              "24-07-2020 00:00    9.134080e+06\n",
              "25-07-2020 00:00    1.458995e+07\n",
              "                        ...     \n",
              "08-02-2022 00:00    3.003187e+07\n",
              "09-02-2022 00:00    1.908736e+06\n",
              "10-02-2022 00:00    9.609216e+06\n",
              "11-02-2022 00:00    1.589248e+07\n",
              "12-02-2022 00:00    2.327347e+07\n",
              "Name: CalcNumOfBytesReadPerDay, Length: 558, dtype: float64"
            ]
          },
          "metadata": {},
          "execution_count": 8
        }
      ]
    },
    {
      "cell_type": "markdown",
      "source": [
        "This gives an idea of whether the data is stationary or not.\n",
        "Any time series data that has to be modeled needs to be stationary. Stationary means that it’s statistical properties are more or less constant with time.These are the following properties that any stationarity model will have:\n",
        "<br>\n",
        "*   Constant Mean\n",
        "*   Constant Variance(There can be variations, but the variations shouldn’t be irregular)\n",
        "*   No seasonality(No repeating patterns in the data set)\n",
        "<br>\n",
        "\n",
        "So first step is to check for stationarity. If data set is not stationary, I'll have to convert it to a stationary series.I have a fixed easy test to check for stationarity called the ADF(Augmented Dickey Fuller Test). But before showing that, lets plot the data first.\n",
        "Since I am only interested in predicting the **CalcNumOfBytesReadPerDay**, that is the only column I will be plotting."
      ],
      "metadata": {
        "id": "d9Fj-EH-9dZ3"
      }
    },
    {
      "cell_type": "code",
      "source": [
        "dfCurrentSizeOnDisk.tail(10).plot(figsize=(12,6))\n",
        "dfCurrentSizeOnDisk.plot(figsize=(12,6))"
      ],
      "metadata": {
        "colab": {
          "base_uri": "https://localhost:8080/",
          "height": 798
        },
        "id": "GOsIDtFP546s",
        "outputId": "efbf3cad-6636-4363-a44b-cfbdbb77e4e6"
      },
      "execution_count": 9,
      "outputs": [
        {
          "output_type": "execute_result",
          "data": {
            "text/plain": [
              "<matplotlib.axes._subplots.AxesSubplot at 0x7f7985fe0710>"
            ]
          },
          "metadata": {},
          "execution_count": 9
        },
        {
          "output_type": "display_data",
          "data": {
            "image/png": "[encoded data removed]",
            "text/plain": [
              "<Figure size 864x432 with 1 Axes>"
            ]
          },
          "metadata": {
            "needs_background": "light"
          }
        },
        {
          "output_type": "display_data",
          "data": {
            "image/png": "[encoded data removed]",
            "text/plain": [
              "<Figure size 864x432 with 1 Axes>"
            ]
          },
          "metadata": {
            "needs_background": "light"
          }
        }
      ]
    },
    {
      "cell_type": "markdown",
      "source": [
        "# Checking For Stationarity\n",
        "we can see that it seems to have somewhat of a constant mean around 45. And the fluctuations also seem to be more or less the same. However to be sure if the data is stationary or not,running a fixed statistical test using the following code:"
      ],
      "metadata": {
        "id": "p010ZEhGCqGN"
      }
    },
    {
      "cell_type": "code",
      "source": [
        "from statsmodels.tsa.stattools import adfuller\n",
        "def adf_test(dataset):\n",
        "     dftest = adfuller(dataset, autolag = 'AIC')\n",
        "     print(\"1. ADF : \",dftest[0])\n",
        "     print(\"2. P-Value : \", dftest[1])\n",
        "     print(\"3. Num Of Lags : \", dftest[2])\n",
        "     print(\"4. Num Of Observations Used For ADF Regression:\",      dftest[3])\n",
        "     print(\"5. Critical Values :\")\n",
        "     for key, val in dftest[4].items():\n",
        "         print(\"\\t\",key, \": \", val)\n"
      ],
      "metadata": {
        "id": "Nn6NSYqmCrc9"
      },
      "execution_count": 10,
      "outputs": []
    },
    {
      "cell_type": "code",
      "source": [
        "adf_test(dfCurrentSizeOnDisk['CalcNumOfBytesReadPerDay'])"
      ],
      "metadata": {
        "colab": {
          "base_uri": "https://localhost:8080/"
        },
        "id": "e8G3ir3zDGYU",
        "outputId": "6f56aa63-e3f4-41bb-a7b0-2566fa3df77e"
      },
      "execution_count": 11,
      "outputs": [
        {
          "output_type": "stream",
          "name": "stdout",
          "text": [
            "1. ADF :  -10.174676990829022\n",
            "2. P-Value :  6.942459602725276e-18\n",
            "3. Num Of Lags :  12\n",
            "4. Num Of Observations Used For ADF Regression: 545\n",
            "5. Critical Values :\n",
            "\t 1% :  -3.442405720052601\n",
            "\t 5% :  -2.866857804790472\n",
            "\t 10% :  -2.5696022094099824\n"
          ]
        }
      ]
    },
    {
      "cell_type": "markdown",
      "source": [
        "To interpret the test results,only need to look at the p value:\n",
        "If p< 0.05 ; Data is stationary\n",
        "if p>0.05; Data is not stationary.\n",
        "\n",
        "---\n",
        "Here  P-Value :  0.0 then data is stationary\n",
        "\n",
        "It’s not a hard and fast rule, but a stationary data should have a small p value. Larger p value could indicate presence of certain trends(varying mean) or seasonality as well.\n"
      ],
      "metadata": {
        "id": "hZ5tlwZaDvt1"
      }
    },
    {
      "cell_type": "markdown",
      "source": [
        "# ARIMA Model\n",
        "\n",
        "**ARIMA** is composed of 3 terms(Auto-Regression + Integrated+Moving-Average)\n",
        "\n",
        "**Auto-Regression:**\n",
        "This basically means that using  previous values of the time series in order to predict the future. How many past values you use,it depends.. determine the order of the AR model. Here’s how an AR(1) model looks like:\n",
        "`Y(t)= Some_Constant*Y(t-1)+ Another_Constant +Error(t)`\n",
        "\n",
        "\n",
        "**Integrated**:\n",
        "If data set is not stationary, It often need to perform some sort of difference operation to make it stationary. If differencing with previous value, its order 1 and so on. Here’s an example of that:\n",
        "\n",
        " we can the series Y(t) was not stationary, because of an increasing trend resulting in a varying mean. I simply subtract it from previous values and voila! It becomes stationary. Depending on data,might have to repeat the differencing to get a second order differencing , third order and so on..\n",
        "\n",
        "**Moving Average:**\n",
        "This basically means that I am using previous errors to make the future prediction.By seeing how wrong in your prediction,can be used to make a better prediction. And just like in an AR model, the number of previous errors(also called number of lags), determines the order of the model.\n",
        "Here’s how MA(1) order equation looks like:\n",
        "`Y(t)= Mean + Some_Constant*Error(t-1) +Error(t)`\n",
        "So main job is to decide the order of the AR, I, MA parts which are donated by(p,d,q) respectively.\n",
        "\n",
        "**pmdarima** library comes to our rescue! It does the job of figuring out the order of the ARIMA all by itself."
      ],
      "metadata": {
        "id": "iS2LObKuQEDf"
      }
    },
    {
      "cell_type": "code",
      "source": [
        "!pip install pmdarima"
      ],
      "metadata": {
        "colab": {
          "base_uri": "https://localhost:8080/"
        },
        "id": "oF1nSioWS963",
        "outputId": "3f187cff-9294-4276-cab4-8b7fa716b217"
      },
      "execution_count": 12,
      "outputs": [
        {
          "output_type": "stream",
          "name": "stdout",
          "text": [
            "Requirement already satisfied: pmdarima in /usr/local/lib/python3.7/dist-packages (1.8.4)\n",
            "Requirement already satisfied: pandas>=0.19 in /usr/local/lib/python3.7/dist-packages (from pmdarima) (1.3.5)\n",
            "Requirement already satisfied: Cython!=0.29.18,>=0.29 in /usr/local/lib/python3.7/dist-packages (from pmdarima) (0.29.27)\n",
            "Requirement already satisfied: setuptools!=50.0.0,>=38.6.0 in /usr/local/lib/python3.7/dist-packages (from pmdarima) (57.4.0)\n",
            "Requirement already satisfied: statsmodels!=0.12.0,>=0.11 in /usr/local/lib/python3.7/dist-packages (from pmdarima) (0.13.2)\n",
            "Requirement already satisfied: scipy>=1.3.2 in /usr/local/lib/python3.7/dist-packages (from pmdarima) (1.4.1)\n",
            "Requirement already satisfied: joblib>=0.11 in /usr/local/lib/python3.7/dist-packages (from pmdarima) (1.1.0)\n",
            "Requirement already satisfied: scikit-learn>=0.22 in /usr/local/lib/python3.7/dist-packages (from pmdarima) (1.0.2)\n",
            "Requirement already satisfied: urllib3 in /usr/local/lib/python3.7/dist-packages (from pmdarima) (1.24.3)\n",
            "Requirement already satisfied: numpy>=1.19.3 in /usr/local/lib/python3.7/dist-packages (from pmdarima) (1.21.5)\n",
            "Requirement already satisfied: pytz>=2017.3 in /usr/local/lib/python3.7/dist-packages (from pandas>=0.19->pmdarima) (2018.9)\n",
            "Requirement already satisfied: python-dateutil>=2.7.3 in /usr/local/lib/python3.7/dist-packages (from pandas>=0.19->pmdarima) (2.8.2)\n",
            "Requirement already satisfied: six>=1.5 in /usr/local/lib/python3.7/dist-packages (from python-dateutil>=2.7.3->pandas>=0.19->pmdarima) (1.15.0)\n",
            "Requirement already satisfied: threadpoolctl>=2.0.0 in /usr/local/lib/python3.7/dist-packages (from scikit-learn>=0.22->pmdarima) (3.1.0)\n",
            "Requirement already satisfied: patsy>=0.5.2 in /usr/local/lib/python3.7/dist-packages (from statsmodels!=0.12.0,>=0.11->pmdarima) (0.5.2)\n",
            "Requirement already satisfied: packaging>=21.3 in /usr/local/lib/python3.7/dist-packages (from statsmodels!=0.12.0,>=0.11->pmdarima) (21.3)\n",
            "Requirement already satisfied: pyparsing!=3.0.5,>=2.0.2 in /usr/local/lib/python3.7/dist-packages (from packaging>=21.3->statsmodels!=0.12.0,>=0.11->pmdarima) (3.0.7)\n"
          ]
        }
      ]
    },
    {
      "cell_type": "code",
      "source": [
        "\n",
        "!pip install numpy scipy patsy pandas statsmodels"
      ],
      "metadata": {
        "colab": {
          "base_uri": "https://localhost:8080/"
        },
        "id": "gVzJyC0BTaKx",
        "outputId": "7f107fe6-991e-4904-904b-5e3aa387427c"
      },
      "execution_count": 13,
      "outputs": [
        {
          "output_type": "stream",
          "name": "stdout",
          "text": [
            "Requirement already satisfied: numpy in /usr/local/lib/python3.7/dist-packages (1.21.5)\n",
            "Requirement already satisfied: scipy in /usr/local/lib/python3.7/dist-packages (1.4.1)\n",
            "Requirement already satisfied: patsy in /usr/local/lib/python3.7/dist-packages (0.5.2)\n",
            "Requirement already satisfied: pandas in /usr/local/lib/python3.7/dist-packages (1.3.5)\n",
            "Requirement already satisfied: statsmodels in /usr/local/lib/python3.7/dist-packages (0.13.2)\n",
            "Requirement already satisfied: six in /usr/local/lib/python3.7/dist-packages (from patsy) (1.15.0)\n",
            "Requirement already satisfied: python-dateutil>=2.7.3 in /usr/local/lib/python3.7/dist-packages (from pandas) (2.8.2)\n",
            "Requirement already satisfied: pytz>=2017.3 in /usr/local/lib/python3.7/dist-packages (from pandas) (2018.9)\n",
            "Requirement already satisfied: packaging>=21.3 in /usr/local/lib/python3.7/dist-packages (from statsmodels) (21.3)\n",
            "Requirement already satisfied: pyparsing!=3.0.5,>=2.0.2 in /usr/local/lib/python3.7/dist-packages (from packaging>=21.3->statsmodels) (3.0.7)\n"
          ]
        }
      ]
    },
    {
      "cell_type": "code",
      "source": [
        "from pmdarima import auto_arima\n",
        "import warnings\n",
        "warnings.filterwarnings(\"ignore\")"
      ],
      "metadata": {
        "id": "RVFy1LiZkfC6"
      },
      "execution_count": 14,
      "outputs": []
    },
    {
      "cell_type": "code",
      "source": [
        "stepwise_fit = auto_arima(dfCurrentSizeOnDisk['CalcNumOfBytesReadPerDay'], trace=True,\n",
        "suppress_warnings=True)\n",
        "stepwise_fit.summary()"
      ],
      "metadata": {
        "colab": {
          "base_uri": "https://localhost:8080/",
          "height": 1000
        },
        "id": "b0EgKvBGDr6X",
        "outputId": "54b28689-de9a-461d-9e1e-cdbeb9b98a9d"
      },
      "execution_count": 15,
      "outputs": [
        {
          "output_type": "stream",
          "name": "stdout",
          "text": [
            "Performing stepwise search to minimize aic\n",
            " ARIMA(2,1,2)(0,0,0)[0] intercept   : AIC=27216.384, Time=0.39 sec\n",
            " ARIMA(0,1,0)(0,0,0)[0] intercept   : AIC=27294.244, Time=0.04 sec\n",
            " ARIMA(1,1,0)(0,0,0)[0] intercept   : AIC=27191.839, Time=0.12 sec\n",
            " ARIMA(0,1,1)(0,0,0)[0] intercept   : AIC=26933.505, Time=0.27 sec\n",
            " ARIMA(0,1,0)(0,0,0)[0]             : AIC=27292.255, Time=0.02 sec\n",
            " ARIMA(1,1,1)(0,0,0)[0] intercept   : AIC=26933.544, Time=0.24 sec\n",
            " ARIMA(0,1,2)(0,0,0)[0] intercept   : AIC=26917.818, Time=0.21 sec\n",
            " ARIMA(1,1,2)(0,0,0)[0] intercept   : AIC=26905.869, Time=0.37 sec\n",
            " ARIMA(1,1,3)(0,0,0)[0] intercept   : AIC=26817.553, Time=0.79 sec\n",
            " ARIMA(0,1,3)(0,0,0)[0] intercept   : AIC=26840.676, Time=0.32 sec\n",
            " ARIMA(2,1,3)(0,0,0)[0] intercept   : AIC=26848.381, Time=2.03 sec\n",
            " ARIMA(1,1,4)(0,0,0)[0] intercept   : AIC=26829.362, Time=0.75 sec\n",
            " ARIMA(0,1,4)(0,0,0)[0] intercept   : AIC=26853.653, Time=0.71 sec\n",
            " ARIMA(2,1,4)(0,0,0)[0] intercept   : AIC=26787.067, Time=2.64 sec\n",
            " ARIMA(3,1,4)(0,0,0)[0] intercept   : AIC=26847.090, Time=5.37 sec\n",
            " ARIMA(2,1,5)(0,0,0)[0] intercept   : AIC=26846.036, Time=4.06 sec\n",
            " ARIMA(1,1,5)(0,0,0)[0] intercept   : AIC=26809.011, Time=2.28 sec\n",
            " ARIMA(3,1,3)(0,0,0)[0] intercept   : AIC=26847.115, Time=4.03 sec\n",
            " ARIMA(3,1,5)(0,0,0)[0] intercept   : AIC=26844.871, Time=7.13 sec\n",
            " ARIMA(2,1,4)(0,0,0)[0]             : AIC=26760.475, Time=2.38 sec\n",
            " ARIMA(1,1,4)(0,0,0)[0]             : AIC=26803.199, Time=1.75 sec\n",
            " ARIMA(2,1,3)(0,0,0)[0]             : AIC=inf, Time=2.11 sec\n",
            " ARIMA(3,1,4)(0,0,0)[0]             : AIC=inf, Time=3.90 sec\n",
            " ARIMA(2,1,5)(0,0,0)[0]             : AIC=inf, Time=2.60 sec\n",
            " ARIMA(1,1,3)(0,0,0)[0]             : AIC=26792.221, Time=1.57 sec\n",
            " ARIMA(1,1,5)(0,0,0)[0]             : AIC=26791.952, Time=2.67 sec\n",
            " ARIMA(3,1,3)(0,0,0)[0]             : AIC=inf, Time=2.03 sec\n",
            " ARIMA(3,1,5)(0,0,0)[0]             : AIC=inf, Time=1.61 sec\n",
            "\n",
            "Best model:  ARIMA(2,1,4)(0,0,0)[0]          \n",
            "Total fit time: 52.465 seconds\n"
          ]
        },
        {
          "output_type": "execute_result",
          "data": {
            "text/html": [
              "<table class=\"simpletable\">\n",
              "<caption>SARIMAX Results</caption>\n",
              "<tr>\n",
              "  <th>Dep. Variable:</th>           <td>y</td>        <th>  No. Observations:  </th>     <td>558</td>   \n",
              "</tr>\n",
              "<tr>\n",
              "  <th>Model:</th>           <td>SARIMAX(2, 1, 4)</td> <th>  Log Likelihood     </th> <td>-13373.237</td>\n",
              "</tr>\n",
              "<tr>\n",
              "  <th>Date:</th>            <td>Thu, 17 Feb 2022</td> <th>  AIC                </th>  <td>26760.475</td>\n",
              "</tr>\n",
              "<tr>\n",
              "  <th>Time:</th>                <td>12:22:09</td>     <th>  BIC                </th>  <td>26790.733</td>\n",
              "</tr>\n",
              "<tr>\n",
              "  <th>Sample:</th>                  <td>0</td>        <th>  HQIC               </th>  <td>26772.293</td>\n",
              "</tr>\n",
              "<tr>\n",
              "  <th></th>                      <td> - 558</td>      <th>                     </th>      <td> </td>    \n",
              "</tr>\n",
              "<tr>\n",
              "  <th>Covariance Type:</th>        <td>opg</td>       <th>                     </th>      <td> </td>    \n",
              "</tr>\n",
              "</table>\n",
              "<table class=\"simpletable\">\n",
              "<tr>\n",
              "     <td></td>       <th>coef</th>     <th>std err</th>      <th>z</th>      <th>P>|z|</th>  <th>[0.025</th>    <th>0.975]</th>  \n",
              "</tr>\n",
              "<tr>\n",
              "  <th>ar.L1</th>  <td>   -0.4336</td> <td>    0.165</td> <td>   -2.626</td> <td> 0.009</td> <td>   -0.757</td> <td>   -0.110</td>\n",
              "</tr>\n",
              "<tr>\n",
              "  <th>ar.L2</th>  <td>   -0.4082</td> <td>    0.140</td> <td>   -2.916</td> <td> 0.004</td> <td>   -0.682</td> <td>   -0.134</td>\n",
              "</tr>\n",
              "<tr>\n",
              "  <th>ma.L1</th>  <td>   -0.9131</td> <td>    0.114</td> <td>   -8.020</td> <td> 0.000</td> <td>   -1.136</td> <td>   -0.690</td>\n",
              "</tr>\n",
              "<tr>\n",
              "  <th>ma.L2</th>  <td>   -0.2325</td> <td>    0.192</td> <td>   -1.210</td> <td> 0.226</td> <td>   -0.609</td> <td>    0.144</td>\n",
              "</tr>\n",
              "<tr>\n",
              "  <th>ma.L3</th>  <td>   -0.5212</td> <td>    0.115</td> <td>   -4.527</td> <td> 0.000</td> <td>   -0.747</td> <td>   -0.296</td>\n",
              "</tr>\n",
              "<tr>\n",
              "  <th>ma.L4</th>  <td>    0.7071</td> <td>    0.060</td> <td>   11.795</td> <td> 0.000</td> <td>    0.590</td> <td>    0.825</td>\n",
              "</tr>\n",
              "<tr>\n",
              "  <th>sigma2</th> <td> 6.502e+19</td> <td> 3.02e-21</td> <td> 2.15e+40</td> <td> 0.000</td> <td>  6.5e+19</td> <td>  6.5e+19</td>\n",
              "</tr>\n",
              "</table>\n",
              "<table class=\"simpletable\">\n",
              "<tr>\n",
              "  <th>Ljung-Box (L1) (Q):</th>     <td>0.25</td> <th>  Jarque-Bera (JB):  </th> <td>78.29</td>\n",
              "</tr>\n",
              "<tr>\n",
              "  <th>Prob(Q):</th>                <td>0.62</td> <th>  Prob(JB):          </th> <td>0.00</td> \n",
              "</tr>\n",
              "<tr>\n",
              "  <th>Heteroskedasticity (H):</th> <td>1.21</td> <th>  Skew:              </th> <td>0.82</td> \n",
              "</tr>\n",
              "<tr>\n",
              "  <th>Prob(H) (two-sided):</th>    <td>0.20</td> <th>  Kurtosis:          </th> <td>3.83</td> \n",
              "</tr>\n",
              "</table><br/><br/>Warnings:<br/>[1] Covariance matrix calculated using the outer product of gradients (complex-step).<br/>[2] Covariance matrix is singular or near-singular, with condition number 7.67e+55. Standard errors may be unstable."
            ],
            "text/plain": [
              "<class 'statsmodels.iolib.summary.Summary'>\n",
              "\"\"\"\n",
              "                               SARIMAX Results                                \n",
              "==============================================================================\n",
              "Dep. Variable:                      y   No. Observations:                  558\n",
              "Model:               SARIMAX(2, 1, 4)   Log Likelihood              -13373.237\n",
              "Date:                Thu, 17 Feb 2022   AIC                          26760.475\n",
              "Time:                        12:22:09   BIC                          26790.733\n",
              "Sample:                             0   HQIC                         26772.293\n",
              "                                - 558                                         \n",
              "Covariance Type:                  opg                                         \n",
              "==============================================================================\n",
              "                 coef    std err          z      P>|z|      [0.025      0.975]\n",
              "------------------------------------------------------------------------------\n",
              "ar.L1         -0.4336      0.165     -2.626      0.009      -0.757      -0.110\n",
              "ar.L2         -0.4082      0.140     -2.916      0.004      -0.682      -0.134\n",
              "ma.L1         -0.9131      0.114     -8.020      0.000      -1.136      -0.690\n",
              "ma.L2         -0.2325      0.192     -1.210      0.226      -0.609       0.144\n",
              "ma.L3         -0.5212      0.115     -4.527      0.000      -0.747      -0.296\n",
              "ma.L4          0.7071      0.060     11.795      0.000       0.590       0.825\n",
              "sigma2      6.502e+19   3.02e-21   2.15e+40      0.000     6.5e+19     6.5e+19\n",
              "===================================================================================\n",
              "Ljung-Box (L1) (Q):                   0.25   Jarque-Bera (JB):                78.29\n",
              "Prob(Q):                              0.62   Prob(JB):                         0.00\n",
              "Heteroskedasticity (H):               1.21   Skew:                             0.82\n",
              "Prob(H) (two-sided):                  0.20   Kurtosis:                         3.83\n",
              "===================================================================================\n",
              "\n",
              "Warnings:\n",
              "[1] Covariance matrix calculated using the outer product of gradients (complex-step).\n",
              "[2] Covariance matrix is singular or near-singular, with condition number 7.67e+55. Standard errors may be unstable.\n",
              "\"\"\""
            ]
          },
          "metadata": {},
          "execution_count": 15
        }
      ]
    },
    {
      "cell_type": "markdown",
      "source": [
        "We can see the best ARIMA model seems to be of the order (2,1,4) with the minimum AIC score=26760.381. With this knowledge we can finally proceed to train and fit the model to start making prediction!"
      ],
      "metadata": {
        "id": "y6GKbLpXWSHx"
      }
    },
    {
      "cell_type": "markdown",
      "source": [
        "# Split Dataset\n",
        "Before actually train the model, I am spliting the data set into a training and testing section.first train the model on the data and keep the testing section hidden from the model. Once model is ready, I can ask it to make predictions on the test data and see how well it performs."
      ],
      "metadata": {
        "id": "8ZX5FozSXHyG"
      }
    },
    {
      "cell_type": "code",
      "source": [
        "print(dfCurrentSizeOnDisk.shape)\n",
        "train=dfCurrentSizeOnDisk.iloc[:-30]\n",
        "test=dfCurrentSizeOnDisk.iloc[-30:]\n",
        "print(train.shape,test.shape)"
      ],
      "metadata": {
        "colab": {
          "base_uri": "https://localhost:8080/"
        },
        "id": "YgRF5cGdTH3n",
        "outputId": "f9710940-71c9-4595-fa46-f3c332b10418"
      },
      "execution_count": 16,
      "outputs": [
        {
          "output_type": "stream",
          "name": "stdout",
          "text": [
            "(558, 1)\n",
            "(528, 1) (30, 1)\n"
          ]
        }
      ]
    },
    {
      "cell_type": "code",
      "source": [
        "print(train['CalcNumOfBytesReadPerDay'])\n",
        "print(test['CalcNumOfBytesReadPerDay'])"
      ],
      "metadata": {
        "colab": {
          "base_uri": "https://localhost:8080/"
        },
        "id": "GgQewd7ZbSrN",
        "outputId": "2a736729-a644-4a4d-ec88-f20125203e3b"
      },
      "execution_count": 17,
      "outputs": [
        {
          "output_type": "stream",
          "name": "stdout",
          "text": [
            "SampleDate\n",
            "21-07-2020 00:00    2.430153e+10\n",
            "22-07-2020 00:00    5.275648e+06\n",
            "23-07-2020 00:00    3.194880e+05\n",
            "24-07-2020 00:00    9.134080e+06\n",
            "25-07-2020 00:00    1.458995e+07\n",
            "                        ...     \n",
            "09-01-2022 00:00    1.225196e+10\n",
            "10-01-2022 00:00    1.220361e+10\n",
            "11-01-2022 00:00    4.771840e+07\n",
            "12-01-2022 00:00    1.543373e+07\n",
            "13-01-2022 00:00    6.810010e+07\n",
            "Name: CalcNumOfBytesReadPerDay, Length: 528, dtype: float64\n",
            "SampleDate\n",
            "14-01-2022 00:00    8.178074e+07\n",
            "15-01-2022 00:00    2.768896e+07\n",
            "16-01-2022 00:00    2.439662e+10\n",
            "17-01-2022 00:00    8.601600e+06\n",
            "18-01-2022 00:00    4.779213e+07\n",
            "19-01-2022 00:00    5.873664e+07\n",
            "20-01-2022 00:00    3.366912e+06\n",
            "21-01-2022 00:00    1.710490e+07\n",
            "22-01-2022 00:00    2.431386e+07\n",
            "23-01-2022 00:00    1.221745e+10\n",
            "24-01-2022 00:00    1.219303e+10\n",
            "25-01-2022 00:00    7.818445e+07\n",
            "26-01-2022 00:00    3.378381e+07\n",
            "27-01-2022 00:00    6.078464e+07\n",
            "28-01-2022 00:00    5.029888e+07\n",
            "29-01-2022 00:00    2.609152e+07\n",
            "30-01-2022 00:00    1.222711e+10\n",
            "31-01-2022 00:00    1.223434e+10\n",
            "01-02-2022 00:00    7.091814e+07\n",
            "02-02-2022 00:00    3.263693e+07\n",
            "03-02-2022 00:00    7.054950e+07\n",
            "04-02-2022 00:00    3.910861e+07\n",
            "05-02-2022 00:00    2.600960e+07\n",
            "06-02-2022 00:00    1.225182e+10\n",
            "07-02-2022 00:00    1.220542e+10\n",
            "08-02-2022 00:00    3.003187e+07\n",
            "09-02-2022 00:00    1.908736e+06\n",
            "10-02-2022 00:00    9.609216e+06\n",
            "11-02-2022 00:00    1.589248e+07\n",
            "12-02-2022 00:00    2.327347e+07\n",
            "Name: CalcNumOfBytesReadPerDay, dtype: float64\n"
          ]
        }
      ]
    },
    {
      "cell_type": "code",
      "source": [
        "#from statsmodels.tsa.arima_model import ARIMA\n",
        "import statsmodels.tsa.arima.model as stats\n",
        "model=stats.ARIMA(train['CalcNumOfBytesReadPerDay'],order=(2,1,4))\n",
        "model=model.fit()\n",
        "model.summary()\n",
        "# steps = 4\n",
        "# alpha = 0.05\n",
        "# model = stats.ARIMA(train['CalcNumOfBytesReadPerDay'], order=(0, 1, 0), trend=\"t\")\n",
        "# model = model.fit()\n",
        "# print(model.summary())\n",
        "# forecast = model.get_forecast(steps=steps)\n",
        "# forecasts_and_intervals = forecast.summary_frame(alpha=alpha)\n"
      ],
      "metadata": {
        "id": "bfq4ldBc6CjB",
        "colab": {
          "base_uri": "https://localhost:8080/",
          "height": 533
        },
        "outputId": "bb18619a-eeee-4644-e21e-051d471c87fc"
      },
      "execution_count": 18,
      "outputs": [
        {
          "output_type": "execute_result",
          "data": {
            "text/html": [
              "<table class=\"simpletable\">\n",
              "<caption>SARIMAX Results</caption>\n",
              "<tr>\n",
              "  <th>Dep. Variable:</th>   <td>CalcNumOfBytesReadPerDay</td> <th>  No. Observations:  </th>     <td>528</td>   \n",
              "</tr>\n",
              "<tr>\n",
              "  <th>Model:</th>                <td>ARIMA(2, 1, 4)</td>      <th>  Log Likelihood     </th> <td>-12657.481</td>\n",
              "</tr>\n",
              "<tr>\n",
              "  <th>Date:</th>                <td>Thu, 17 Feb 2022</td>     <th>  AIC                </th>  <td>25328.962</td>\n",
              "</tr>\n",
              "<tr>\n",
              "  <th>Time:</th>                    <td>12:22:10</td>         <th>  BIC                </th>  <td>25358.832</td>\n",
              "</tr>\n",
              "<tr>\n",
              "  <th>Sample:</th>                      <td>0</td>            <th>  HQIC               </th>  <td>25340.656</td>\n",
              "</tr>\n",
              "<tr>\n",
              "  <th></th>                          <td> - 528</td>          <th>                     </th>      <td> </td>    \n",
              "</tr>\n",
              "<tr>\n",
              "  <th>Covariance Type:</th>            <td>opg</td>           <th>                     </th>      <td> </td>    \n",
              "</tr>\n",
              "</table>\n",
              "<table class=\"simpletable\">\n",
              "<tr>\n",
              "     <td></td>       <th>coef</th>     <th>std err</th>      <th>z</th>      <th>P>|z|</th>  <th>[0.025</th>    <th>0.975]</th>  \n",
              "</tr>\n",
              "<tr>\n",
              "  <th>ar.L1</th>  <td>   -0.4510</td> <td>    0.166</td> <td>   -2.716</td> <td> 0.007</td> <td>   -0.776</td> <td>   -0.125</td>\n",
              "</tr>\n",
              "<tr>\n",
              "  <th>ar.L2</th>  <td>   -0.4150</td> <td>    0.143</td> <td>   -2.899</td> <td> 0.004</td> <td>   -0.696</td> <td>   -0.134</td>\n",
              "</tr>\n",
              "<tr>\n",
              "  <th>ma.L1</th>  <td>   -0.8973</td> <td>    0.111</td> <td>   -8.073</td> <td> 0.000</td> <td>   -1.115</td> <td>   -0.679</td>\n",
              "</tr>\n",
              "<tr>\n",
              "  <th>ma.L2</th>  <td>   -0.2407</td> <td>    0.186</td> <td>   -1.297</td> <td> 0.195</td> <td>   -0.604</td> <td>    0.123</td>\n",
              "</tr>\n",
              "<tr>\n",
              "  <th>ma.L3</th>  <td>   -0.5411</td> <td>    0.115</td> <td>   -4.713</td> <td> 0.000</td> <td>   -0.766</td> <td>   -0.316</td>\n",
              "</tr>\n",
              "<tr>\n",
              "  <th>ma.L4</th>  <td>    0.7207</td> <td>    0.060</td> <td>   12.109</td> <td> 0.000</td> <td>    0.604</td> <td>    0.837</td>\n",
              "</tr>\n",
              "<tr>\n",
              "  <th>sigma2</th> <td> 6.657e+19</td> <td> 2.78e-21</td> <td> 2.39e+40</td> <td> 0.000</td> <td> 6.66e+19</td> <td> 6.66e+19</td>\n",
              "</tr>\n",
              "</table>\n",
              "<table class=\"simpletable\">\n",
              "<tr>\n",
              "  <th>Ljung-Box (L1) (Q):</th>     <td>0.26</td> <th>  Jarque-Bera (JB):  </th> <td>71.11</td>\n",
              "</tr>\n",
              "<tr>\n",
              "  <th>Prob(Q):</th>                <td>0.61</td> <th>  Prob(JB):          </th> <td>0.00</td> \n",
              "</tr>\n",
              "<tr>\n",
              "  <th>Heteroskedasticity (H):</th> <td>1.35</td> <th>  Skew:              </th> <td>0.80</td> \n",
              "</tr>\n",
              "<tr>\n",
              "  <th>Prob(H) (two-sided):</th>    <td>0.05</td> <th>  Kurtosis:          </th> <td>3.81</td> \n",
              "</tr>\n",
              "</table><br/><br/>Warnings:<br/>[1] Covariance matrix calculated using the outer product of gradients (complex-step).<br/>[2] Covariance matrix is singular or near-singular, with condition number 7.68e+55. Standard errors may be unstable."
            ],
            "text/plain": [
              "<class 'statsmodels.iolib.summary.Summary'>\n",
              "\"\"\"\n",
              "                                  SARIMAX Results                                   \n",
              "====================================================================================\n",
              "Dep. Variable:     CalcNumOfBytesReadPerDay   No. Observations:                  528\n",
              "Model:                       ARIMA(2, 1, 4)   Log Likelihood              -12657.481\n",
              "Date:                      Thu, 17 Feb 2022   AIC                          25328.962\n",
              "Time:                              12:22:10   BIC                          25358.832\n",
              "Sample:                                   0   HQIC                         25340.656\n",
              "                                      - 528                                         \n",
              "Covariance Type:                        opg                                         \n",
              "==============================================================================\n",
              "                 coef    std err          z      P>|z|      [0.025      0.975]\n",
              "------------------------------------------------------------------------------\n",
              "ar.L1         -0.4510      0.166     -2.716      0.007      -0.776      -0.125\n",
              "ar.L2         -0.4150      0.143     -2.899      0.004      -0.696      -0.134\n",
              "ma.L1         -0.8973      0.111     -8.073      0.000      -1.115      -0.679\n",
              "ma.L2         -0.2407      0.186     -1.297      0.195      -0.604       0.123\n",
              "ma.L3         -0.5411      0.115     -4.713      0.000      -0.766      -0.316\n",
              "ma.L4          0.7207      0.060     12.109      0.000       0.604       0.837\n",
              "sigma2      6.657e+19   2.78e-21   2.39e+40      0.000    6.66e+19    6.66e+19\n",
              "===================================================================================\n",
              "Ljung-Box (L1) (Q):                   0.26   Jarque-Bera (JB):                71.11\n",
              "Prob(Q):                              0.61   Prob(JB):                         0.00\n",
              "Heteroskedasticity (H):               1.35   Skew:                             0.80\n",
              "Prob(H) (two-sided):                  0.05   Kurtosis:                         3.81\n",
              "===================================================================================\n",
              "\n",
              "Warnings:\n",
              "[1] Covariance matrix calculated using the outer product of gradients (complex-step).\n",
              "[2] Covariance matrix is singular or near-singular, with condition number 7.68e+55. Standard errors may be unstable.\n",
              "\"\"\""
            ]
          },
          "metadata": {},
          "execution_count": 18
        }
      ]
    },
    {
      "cell_type": "markdown",
      "source": [
        "# Check Model"
      ],
      "metadata": {
        "id": "LFS2QX7Xb6IH"
      }
    },
    {
      "cell_type": "code",
      "source": [
        "start=len(train)\n",
        "end=len(train)+len(test)-1\n",
        "pred=model.predict(start=start,end=end,typ='levels').rename('ARIMA Predictions')\n",
        "pred.plot(legend=True)\n",
        "test['CalcNumOfBytesReadPerDay'].plot(legend=True)"
      ],
      "metadata": {
        "colab": {
          "base_uri": "https://localhost:8080/",
          "height": 0
        },
        "id": "0XckhkQS_dVU",
        "outputId": "1a53eca2-7a65-4cb8-eb72-bf9a8308be5c"
      },
      "execution_count": 19,
      "outputs": [
        {
          "output_type": "execute_result",
          "data": {
            "text/plain": [
              "<matplotlib.axes._subplots.AxesSubplot at 0x7f79639aea90>"
            ]
          },
          "metadata": {},
          "execution_count": 19
        },
        {
          "output_type": "display_data",
          "data": {
            "image/png": "[encoded data removed]",
            "text/plain": [
              "<Figure size 432x288 with 1 Axes>"
            ]
          },
          "metadata": {
            "needs_background": "light"
          }
        }
      ]
    },
    {
      "cell_type": "code",
      "source": [
        "pred.plot(legend='ARIMA Predictions')\n",
        "test['CalcNumOfBytesReadPerDay'].plot(legend=True)"
      ],
      "metadata": {
        "colab": {
          "base_uri": "https://localhost:8080/",
          "height": 0
        },
        "id": "Z5NFPymtlukc",
        "outputId": "030e7f07-3c30-43eb-92b0-f1b84ce240de"
      },
      "execution_count": 20,
      "outputs": [
        {
          "output_type": "execute_result",
          "data": {
            "text/plain": [
              "<matplotlib.axes._subplots.AxesSubplot at 0x7f79639aef90>"
            ]
          },
          "metadata": {},
          "execution_count": 20
        },
        {
          "output_type": "display_data",
          "data": {
            "image/png": "[encoded data removed]",
            "text/plain": [
              "<Figure size 432x288 with 1 Axes>"
            ]
          },
          "metadata": {
            "needs_background": "light"
          }
        }
      ]
    },
    {
      "cell_type": "markdown",
      "source": [
        "# Check Accuracy Metric"
      ],
      "metadata": {
        "id": "jm2CtfUZfCqj"
      }
    },
    {
      "cell_type": "code",
      "source": [
        "from sklearn.metrics import mean_squared_error\n",
        "from math import sqrt\n",
        "test['CalcNumOfBytesReadPerDay'].mean()\n",
        "rmse=sqrt(mean_squared_error(pred,test['CalcNumOfBytesReadPerDay']))\n",
        "print(rmse)"
      ],
      "metadata": {
        "id": "xCf5m_HQCPiw",
        "colab": {
          "base_uri": "https://localhost:8080/"
        },
        "outputId": "566bd1d1-803a-45e9-8240-7ecc48189670"
      },
      "execution_count": 21,
      "outputs": [
        {
          "output_type": "stream",
          "name": "stdout",
          "text": [
            "6386061017.263107\n"
          ]
        }
      ]
    },
    {
      "cell_type": "code",
      "source": [
        "model2=stats.ARIMA(dfCurrentSizeOnDisk['CalcNumOfBytesReadPerDay'],order=(2,1,4))\n",
        "model2=model2.fit()\n",
        "dfCurrentSizeOnDisk.tail()"
      ],
      "metadata": {
        "colab": {
          "base_uri": "https://localhost:8080/",
          "height": 238
        },
        "id": "QuizOQOUmB0x",
        "outputId": "22096265-edc1-4554-e7b6-c00e35af47a7"
      },
      "execution_count": 22,
      "outputs": [
        {
          "output_type": "execute_result",
          "data": {
            "text/html": [
              "\n",
              "  <div id=\"df-bca80f5d-631c-4224-bdbc-dc1bf6249675\">\n",
              "    <div class=\"colab-df-container\">\n",
              "      <div>\n",
              "<style scoped>\n",
              "    .dataframe tbody tr th:only-of-type {\n",
              "        vertical-align: middle;\n",
              "    }\n",
              "\n",
              "    .dataframe tbody tr th {\n",
              "        vertical-align: top;\n",
              "    }\n",
              "\n",
              "    .dataframe thead th {\n",
              "        text-align: right;\n",
              "    }\n",
              "</style>\n",
              "<table border=\"1\" class=\"dataframe\">\n",
              "  <thead>\n",
              "    <tr style=\"text-align: right;\">\n",
              "      <th></th>\n",
              "      <th>CalcNumOfBytesReadPerDay</th>\n",
              "    </tr>\n",
              "    <tr>\n",
              "      <th>SampleDate</th>\n",
              "      <th></th>\n",
              "    </tr>\n",
              "  </thead>\n",
              "  <tbody>\n",
              "    <tr>\n",
              "      <th>08-02-2022 00:00</th>\n",
              "      <td>30031872.0</td>\n",
              "    </tr>\n",
              "    <tr>\n",
              "      <th>09-02-2022 00:00</th>\n",
              "      <td>1908736.0</td>\n",
              "    </tr>\n",
              "    <tr>\n",
              "      <th>10-02-2022 00:00</th>\n",
              "      <td>9609216.0</td>\n",
              "    </tr>\n",
              "    <tr>\n",
              "      <th>11-02-2022 00:00</th>\n",
              "      <td>15892480.0</td>\n",
              "    </tr>\n",
              "    <tr>\n",
              "      <th>12-02-2022 00:00</th>\n",
              "      <td>23273472.0</td>\n",
              "    </tr>\n",
              "  </tbody>\n",
              "</table>\n",
              "</div>\n",
              "      <button class=\"colab-df-convert\" onclick=\"convertToInteractive('df-bca80f5d-631c-4224-bdbc-dc1bf6249675')\"\n",
              "              title=\"Convert this dataframe to an interactive table.\"\n",
              "              style=\"display:none;\">\n",
              "        \n",
              "  <svg xmlns=\"http://www.w3.org/2000/svg\" height=\"24px\"viewBox=\"0 0 24 24\"\n",
              "       width=\"24px\">\n",
              "    <path d=\"M0 0h24v24H0V0z\" fill=\"none\"/>\n",
              "    <path d=\"M18.56 5.44l.94 2.06.94-2.06 2.06-.94-2.06-.94-.94-2.06-.94 2.06-2.06.94zm-11 1L8.5 8.5l.94-2.06 2.06-.94-2.06-.94L8.5 2.5l-.94 2.06-2.06.94zm10 10l.94 2.06.94-2.06 2.06-.94-2.06-.94-.94-2.06-.94 2.06-2.06.94z\"/><path d=\"M17.41 7.96l-1.37-1.37c-.4-.4-.92-.59-1.43-.59-.52 0-1.04.2-1.43.59L10.3 9.45l-7.72 7.72c-.78.78-.78 2.05 0 2.83L4 21.41c.39.39.9.59 1.41.59.51 0 1.02-.2 1.41-.59l7.78-7.78 2.81-2.81c.8-.78.8-2.07 0-2.86zM5.41 20L4 18.59l7.72-7.72 1.47 1.35L5.41 20z\"/>\n",
              "  </svg>\n",
              "      </button>\n",
              "      \n",
              "  <style>\n",
              "    .colab-df-container {\n",
              "      display:flex;\n",
              "      flex-wrap:wrap;\n",
              "      gap: 12px;\n",
              "    }\n",
              "\n",
              "    .colab-df-convert {\n",
              "      background-color: #E8F0FE;\n",
              "      border: none;\n",
              "      border-radius: 50%;\n",
              "      cursor: pointer;\n",
              "      display: none;\n",
              "      fill: #1967D2;\n",
              "      height: 32px;\n",
              "      padding: 0 0 0 0;\n",
              "      width: 32px;\n",
              "    }\n",
              "\n",
              "    .colab-df-convert:hover {\n",
              "      background-color: #E2EBFA;\n",
              "      box-shadow: 0px 1px 2px rgba(60, 64, 67, 0.3), 0px 1px 3px 1px rgba(60, 64, 67, 0.15);\n",
              "      fill: #174EA6;\n",
              "    }\n",
              "\n",
              "    [theme=dark] .colab-df-convert {\n",
              "      background-color: #3B4455;\n",
              "      fill: #D2E3FC;\n",
              "    }\n",
              "\n",
              "    [theme=dark] .colab-df-convert:hover {\n",
              "      background-color: #434B5C;\n",
              "      box-shadow: 0px 1px 3px 1px rgba(0, 0, 0, 0.15);\n",
              "      filter: drop-shadow(0px 1px 2px rgba(0, 0, 0, 0.3));\n",
              "      fill: #FFFFFF;\n",
              "    }\n",
              "  </style>\n",
              "\n",
              "      <script>\n",
              "        const buttonEl =\n",
              "          document.querySelector('#df-bca80f5d-631c-4224-bdbc-dc1bf6249675 button.colab-df-convert');\n",
              "        buttonEl.style.display =\n",
              "          google.colab.kernel.accessAllowed ? 'block' : 'none';\n",
              "\n",
              "        async function convertToInteractive(key) {\n",
              "          const element = document.querySelector('#df-bca80f5d-631c-4224-bdbc-dc1bf6249675');\n",
              "          const dataTable =\n",
              "            await google.colab.kernel.invokeFunction('convertToInteractive',\n",
              "                                                     [key], {});\n",
              "          if (!dataTable) return;\n",
              "\n",
              "          const docLinkHtml = 'Like what you see? Visit the ' +\n",
              "            '<a target=\"_blank\" href=https://colab.research.google.com/notebooks/data_table.ipynb>data table notebook</a>'\n",
              "            + ' to learn more about interactive tables.';\n",
              "          element.innerHTML = '';\n",
              "          dataTable['output_type'] = 'display_data';\n",
              "          await google.colab.output.renderOutput(dataTable, element);\n",
              "          const docLink = document.createElement('div');\n",
              "          docLink.innerHTML = docLinkHtml;\n",
              "          element.appendChild(docLink);\n",
              "        }\n",
              "      </script>\n",
              "    </div>\n",
              "  </div>\n",
              "  "
            ],
            "text/plain": [
              "                  CalcNumOfBytesReadPerDay\n",
              "SampleDate                                \n",
              "08-02-2022 00:00                30031872.0\n",
              "09-02-2022 00:00                 1908736.0\n",
              "10-02-2022 00:00                 9609216.0\n",
              "11-02-2022 00:00                15892480.0\n",
              "12-02-2022 00:00                23273472.0"
            ]
          },
          "metadata": {},
          "execution_count": 22
        }
      ]
    },
    {
      "cell_type": "markdown",
      "source": [
        "# For Future Dates"
      ],
      "metadata": {
        "id": "d83WbbbwnYHt"
      }
    },
    {
      "cell_type": "code",
      "source": [
        "index_future_dates=pd.date_range(start='2022-02-08',end='2022-02-17')\n",
        "#print(index_future_dates)\n",
        "pred=model2.predict(start=len(df),end=len(df)+9,typ='levels').rename('ARIMA Predictions')\n",
        "#print(comp_pred)\n",
        "pred.index=index_future_dates\n",
        "print(pred)"
      ],
      "metadata": {
        "colab": {
          "base_uri": "https://localhost:8080/"
        },
        "id": "h4s-nhDenbUM",
        "outputId": "a39e16b2-f208-4ba5-fbb3-8193b896f89d"
      },
      "execution_count": 23,
      "outputs": [
        {
          "output_type": "stream",
          "name": "stdout",
          "text": [
            "2022-02-08    3.341675e+09\n",
            "2022-02-09    3.341675e+09\n",
            "2022-02-10    3.341675e+09\n",
            "2022-02-11    3.341675e+09\n",
            "2022-02-12    3.341675e+09\n",
            "2022-02-13    3.341675e+09\n",
            "2022-02-14    3.341675e+09\n",
            "2022-02-15    3.341675e+09\n",
            "2022-02-16    3.341675e+09\n",
            "2022-02-17    3.341675e+09\n",
            "Freq: D, Name: ARIMA Predictions, dtype: float64\n"
          ]
        }
      ]
    },
    {
      "cell_type": "code",
      "source": [
        "pred.plot(figsize=(12,5),legend=True)"
      ],
      "metadata": {
        "colab": {
          "base_uri": "https://localhost:8080/",
          "height": 371
        },
        "id": "3zgJOczooD7y",
        "outputId": "49ac3552-e3b2-4b87-fa83-edaafaff8234"
      },
      "execution_count": 24,
      "outputs": [
        {
          "output_type": "execute_result",
          "data": {
            "text/plain": [
              "<matplotlib.axes._subplots.AxesSubplot at 0x7f79639129d0>"
            ]
          },
          "metadata": {},
          "execution_count": 24
        },
        {
          "output_type": "display_data",
          "data": {
            "image/png": "[encoded data removed]",
            "text/plain": [
              "<Figure size 864x360 with 1 Axes>"
            ]
          },
          "metadata": {
            "needs_background": "light"
          }
        }
      ]
    }
  ]
}