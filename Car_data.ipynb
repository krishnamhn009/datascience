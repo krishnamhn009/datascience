{
  "nbformat": 4,
  "nbformat_minor": 0,
  "metadata": {
    "kernelspec": {
      "display_name": "Python 3",
      "language": "python",
      "name": "python3"
    },
    "language_info": {
      "codemirror_mode": {
        "name": "ipython",
        "version": 3
      },
      "file_extension": ".py",
      "mimetype": "text/x-python",
      "name": "python",
      "nbconvert_exporter": "python",
      "pygments_lexer": "ipython3",
      "version": "3.7.3"
    },
    "colab": {
      "name": "Car_data.ipynb",
      "provenance": [],
      "include_colab_link": true
    }
  },
  "cells": [
    {
      "cell_type": "markdown",
      "metadata": {
        "id": "view-in-github",
        "colab_type": "text"
      },
      "source": [
        "<a href=\"https://colab.research.google.com/github/krishnamhn009/datascience/blob/master/Car_data.ipynb\" target=\"_parent\"><img src=\"https://colab.research.google.com/assets/colab-badge.svg\" alt=\"Open In Colab\"/></a>"
      ]
    },
    {
      "cell_type": "markdown",
      "metadata": {
        "id": "_3zceVFpI7n9"
      },
      "source": [
        "# Car Acceptability "
      ]
    },
    {
      "cell_type": "code",
      "metadata": {
        "id": "o2ArjY7SI7oV"
      },
      "source": [
        "#import necessary libraries\n",
        "# Bits ML group 310\n",
        "#1. Krishna M Digvijai\n",
        "#2. SabyaSachi Shadangi\n",
        "#3. Vishal Gupta\n",
        "\n",
        "import pandas as pd\n",
        "import numpy as np\n",
        "import pandas as pd\n",
        "import matplotlib.pyplot as plt\n",
        "import seaborn as sns\n",
        " #%matplotlib inline"
      ],
      "execution_count": 238,
      "outputs": []
    },
    {
      "cell_type": "code",
      "metadata": {
        "colab": {
          "base_uri": "https://localhost:8080/"
        },
        "id": "Kp4m5NwUI7oX",
        "outputId": "082f0308-fb8f-471d-91cc-7c5a4e114e85"
      },
      "source": [
        "#read the data from file\n",
        "filename='car.data'\n",
        "carDataFrame = pd.read_csv(filename)\n",
        "carDataFrame.columns = ['buying', \"maint\", 'doors', 'persons', 'lug_boot', 'safety', 'Condition']\n",
        "print (carDataFrame.head(15))"
      ],
      "execution_count": 239,
      "outputs": [
        {
          "output_type": "stream",
          "text": [
            "   buying  maint doors persons lug_boot safety Condition\n",
            "0   vhigh  vhigh     2       2    small    med     unacc\n",
            "1   vhigh  vhigh     2       2    small   high     unacc\n",
            "2   vhigh  vhigh     2       2      med    low     unacc\n",
            "3   vhigh  vhigh     2       2      med    med     unacc\n",
            "4   vhigh  vhigh     2       2      med   high     unacc\n",
            "5   vhigh  vhigh     2       2      big    low     unacc\n",
            "6   vhigh  vhigh     2       2      big    med     unacc\n",
            "7   vhigh  vhigh     2       2      big   high     unacc\n",
            "8   vhigh  vhigh     2       4    small    low     unacc\n",
            "9   vhigh  vhigh     2       4    small    med     unacc\n",
            "10  vhigh  vhigh     2       4    small   high     unacc\n",
            "11  vhigh  vhigh     2       4      med    low     unacc\n",
            "12  vhigh  vhigh     2       4      med    med     unacc\n",
            "13  vhigh  vhigh     2       4      med   high     unacc\n",
            "14  vhigh  vhigh     2       4      big    low     unacc\n"
          ],
          "name": "stdout"
        }
      ]
    },
    {
      "cell_type": "code",
      "metadata": {
        "colab": {
          "base_uri": "https://localhost:8080/"
        },
        "id": "iSHt8nOoKQDz",
        "outputId": "bf05109d-6167-416d-c446-0066c4633d50"
      },
      "source": [
        "#check for null values\r\n",
        "carDataFrame.isnull().sum()\r\n"
      ],
      "execution_count": 240,
      "outputs": [
        {
          "output_type": "execute_result",
          "data": {
            "text/plain": [
              "buying       0\n",
              "maint        0\n",
              "doors        0\n",
              "persons      0\n",
              "lug_boot     0\n",
              "safety       0\n",
              "Condition    0\n",
              "dtype: int64"
            ]
          },
          "metadata": {
            "tags": []
          },
          "execution_count": 240
        }
      ]
    },
    {
      "cell_type": "code",
      "metadata": {
        "colab": {
          "base_uri": "https://localhost:8080/",
          "height": 195
        },
        "id": "8F0aZ8ZXI7oZ",
        "outputId": "0f10929a-3be8-4eb3-90c5-43b1986d8fb3"
      },
      "source": [
        "#summary\n",
        "carDataFrame.describe()\n",
        "\n",
        "carDataFrame.head()\n",
        "\n"
      ],
      "execution_count": 241,
      "outputs": [
        {
          "output_type": "execute_result",
          "data": {
            "text/html": [
              "<div>\n",
              "<style scoped>\n",
              "    .dataframe tbody tr th:only-of-type {\n",
              "        vertical-align: middle;\n",
              "    }\n",
              "\n",
              "    .dataframe tbody tr th {\n",
              "        vertical-align: top;\n",
              "    }\n",
              "\n",
              "    .dataframe thead th {\n",
              "        text-align: right;\n",
              "    }\n",
              "</style>\n",
              "<table border=\"1\" class=\"dataframe\">\n",
              "  <thead>\n",
              "    <tr style=\"text-align: right;\">\n",
              "      <th></th>\n",
              "      <th>buying</th>\n",
              "      <th>maint</th>\n",
              "      <th>doors</th>\n",
              "      <th>persons</th>\n",
              "      <th>lug_boot</th>\n",
              "      <th>safety</th>\n",
              "      <th>Condition</th>\n",
              "    </tr>\n",
              "  </thead>\n",
              "  <tbody>\n",
              "    <tr>\n",
              "      <th>0</th>\n",
              "      <td>vhigh</td>\n",
              "      <td>vhigh</td>\n",
              "      <td>2</td>\n",
              "      <td>2</td>\n",
              "      <td>small</td>\n",
              "      <td>med</td>\n",
              "      <td>unacc</td>\n",
              "    </tr>\n",
              "    <tr>\n",
              "      <th>1</th>\n",
              "      <td>vhigh</td>\n",
              "      <td>vhigh</td>\n",
              "      <td>2</td>\n",
              "      <td>2</td>\n",
              "      <td>small</td>\n",
              "      <td>high</td>\n",
              "      <td>unacc</td>\n",
              "    </tr>\n",
              "    <tr>\n",
              "      <th>2</th>\n",
              "      <td>vhigh</td>\n",
              "      <td>vhigh</td>\n",
              "      <td>2</td>\n",
              "      <td>2</td>\n",
              "      <td>med</td>\n",
              "      <td>low</td>\n",
              "      <td>unacc</td>\n",
              "    </tr>\n",
              "    <tr>\n",
              "      <th>3</th>\n",
              "      <td>vhigh</td>\n",
              "      <td>vhigh</td>\n",
              "      <td>2</td>\n",
              "      <td>2</td>\n",
              "      <td>med</td>\n",
              "      <td>med</td>\n",
              "      <td>unacc</td>\n",
              "    </tr>\n",
              "    <tr>\n",
              "      <th>4</th>\n",
              "      <td>vhigh</td>\n",
              "      <td>vhigh</td>\n",
              "      <td>2</td>\n",
              "      <td>2</td>\n",
              "      <td>med</td>\n",
              "      <td>high</td>\n",
              "      <td>unacc</td>\n",
              "    </tr>\n",
              "  </tbody>\n",
              "</table>\n",
              "</div>"
            ],
            "text/plain": [
              "  buying  maint doors persons lug_boot safety Condition\n",
              "0  vhigh  vhigh     2       2    small    med     unacc\n",
              "1  vhigh  vhigh     2       2    small   high     unacc\n",
              "2  vhigh  vhigh     2       2      med    low     unacc\n",
              "3  vhigh  vhigh     2       2      med    med     unacc\n",
              "4  vhigh  vhigh     2       2      med   high     unacc"
            ]
          },
          "metadata": {
            "tags": []
          },
          "execution_count": 241
        }
      ]
    },
    {
      "cell_type": "code",
      "metadata": {
        "colab": {
          "base_uri": "https://localhost:8080/"
        },
        "id": "axK4iJGHKctJ",
        "outputId": "3b795bb7-771e-401a-82bb-cc67d2fded8d"
      },
      "source": [
        "#info of the dataset\r\n",
        "carDataFrame.info()"
      ],
      "execution_count": 242,
      "outputs": [
        {
          "output_type": "stream",
          "text": [
            "<class 'pandas.core.frame.DataFrame'>\n",
            "RangeIndex: 1727 entries, 0 to 1726\n",
            "Data columns (total 7 columns):\n",
            " #   Column     Non-Null Count  Dtype \n",
            "---  ------     --------------  ----- \n",
            " 0   buying     1727 non-null   object\n",
            " 1   maint      1727 non-null   object\n",
            " 2   doors      1727 non-null   object\n",
            " 3   persons    1727 non-null   object\n",
            " 4   lug_boot   1727 non-null   object\n",
            " 5   safety     1727 non-null   object\n",
            " 6   Condition  1727 non-null   object\n",
            "dtypes: object(7)\n",
            "memory usage: 94.6+ KB\n"
          ],
          "name": "stdout"
        }
      ]
    },
    {
      "cell_type": "code",
      "metadata": {
        "colab": {
          "base_uri": "https://localhost:8080/",
          "height": 279
        },
        "id": "0lIbvQe5I7oZ",
        "outputId": "0aa3499a-9bbb-40e8-c9a3-e7a2ef2e7c4d"
      },
      "source": [
        "#plotting distribution of attributes\n",
        "maint = sns.countplot(x=\"maint\",hue=\"Condition\",  data=carDataFrame)"
      ],
      "execution_count": 243,
      "outputs": [
        {
          "output_type": "display_data",
          "data": {
            "image/png": "[encoded data removed]",
            "text/plain": [
              "<Figure size 432x288 with 1 Axes>"
            ]
          },
          "metadata": {
            "tags": [],
            "needs_background": "light"
          }
        }
      ]
    },
    {
      "cell_type": "code",
      "metadata": {
        "colab": {
          "base_uri": "https://localhost:8080/",
          "height": 279
        },
        "id": "c-Uy-6oCI7ob",
        "outputId": "d16d99e6-b14a-415b-9046-9af81e09153d"
      },
      "source": [
        "##plotting distribution of attributes\n",
        "buying = sns.countplot(x=\"buying\",hue=\"Condition\",  data=carDataFrame)"
      ],
      "execution_count": 244,
      "outputs": [
        {
          "output_type": "display_data",
          "data": {
            "image/png": "[encoded data removed]",
            "text/plain": [
              "<Figure size 432x288 with 1 Axes>"
            ]
          },
          "metadata": {
            "tags": [],
            "needs_background": "light"
          }
        }
      ]
    },
    {
      "cell_type": "code",
      "metadata": {
        "colab": {
          "base_uri": "https://localhost:8080/",
          "height": 279
        },
        "id": "itrT7ZnqI7oe",
        "outputId": "efb32b1f-e566-4cb3-80a0-69d1a23aa725"
      },
      "source": [
        "#plotting distribution of attributes\n",
        "doors = sns.countplot(x=\"doors\",hue=\"Condition\",  data=carDataFrame)"
      ],
      "execution_count": 245,
      "outputs": [
        {
          "output_type": "display_data",
          "data": {
            "image/png": "[encoded data removed]",
            "text/plain": [
              "<Figure size 432x288 with 1 Axes>"
            ]
          },
          "metadata": {
            "tags": [],
            "needs_background": "light"
          }
        }
      ]
    },
    {
      "cell_type": "code",
      "metadata": {
        "colab": {
          "base_uri": "https://localhost:8080/",
          "height": 282
        },
        "id": "ldJXoWtJI7ol",
        "outputId": "c73ea41a-e73b-4be4-c224-44fb2b04cd0a"
      },
      "source": [
        "#plotting distribution of attributes\n",
        "safety = sns.countplot(x=\"safety\",hue=\"Condition\",  data=carDataFrame, order=['high', 'med', 'low'])"
      ],
      "execution_count": 246,
      "outputs": [
        {
          "output_type": "display_data",
          "data": {
            "image/png": "[encoded data removed]",
            "text/plain": [
              "<Figure size 432x288 with 1 Axes>"
            ]
          },
          "metadata": {
            "tags": [],
            "needs_background": "light"
          }
        }
      ]
    },
    {
      "cell_type": "code",
      "metadata": {
        "colab": {
          "base_uri": "https://localhost:8080/",
          "height": 282
        },
        "id": "grjQuWhsI7on",
        "outputId": "0ac66fe5-bce7-48f5-edc4-9880038b3eaa"
      },
      "source": [
        "#plotting distribution of attributes\n",
        "passengers = sns.countplot(x=\"persons\",hue=\"Condition\",  data=carDataFrame)"
      ],
      "execution_count": 247,
      "outputs": [
        {
          "output_type": "display_data",
          "data": {
            "image/png": "[encoded data removed]",
            "text/plain": [
              "<Figure size 432x288 with 1 Axes>"
            ]
          },
          "metadata": {
            "tags": [],
            "needs_background": "light"
          }
        }
      ]
    },
    {
      "cell_type": "code",
      "metadata": {
        "scrolled": true,
        "colab": {
          "base_uri": "https://localhost:8080/",
          "height": 280
        },
        "id": "75Ohi1blI7oo",
        "outputId": "6f848caf-1fc0-4843-b626-1f05143201b9"
      },
      "source": [
        "#plotting distribution of attributes\n",
        "lug_boot = sns.countplot(x=\"lug_boot\",hue=\"Condition\",  data=carDataFrame)"
      ],
      "execution_count": 248,
      "outputs": [
        {
          "output_type": "display_data",
          "data": {
            "image/png": "[encoded data removed]",
            "text/plain": [
              "<Figure size 432x288 with 1 Axes>"
            ]
          },
          "metadata": {
            "tags": [],
            "needs_background": "light"
          }
        }
      ]
    },
    {
      "cell_type": "code",
      "metadata": {
        "id": "XqvCW_wBI7op"
      },
      "source": [
        "#converting categorical variables into numerical variables\n",
        "carDataFrame['buying'] = carDataFrame['buying'].map({'low': 1, 'med': 2, 'high' : 3, 'vhigh': 4})\n",
        "carDataFrame['maint'] = carDataFrame['maint'].map({'low': 1, 'med': 2, 'high' : 3, 'vhigh': 4})\n",
        "carDataFrame['safety'] = carDataFrame['safety'].map({'low': 1, 'med': 2, 'high' : 3})\n",
        "carDataFrame['lug_boot'] = carDataFrame['lug_boot'].map({'small': 1, 'med': 2, 'big' : 3})\n",
        "carDataFrame['persons'] = carDataFrame['persons'].map({'2': 2, '4' : 4, 'more' : 5})\n",
        "carDataFrame['doors'] = carDataFrame['doors'].map({'2': 2, '3':3, '4':4, '5more' : 5})\n",
        "carDataFrame['Condition'] = carDataFrame['Condition'].map({'unacc': 1, 'acc': 2, 'good' : 3, 'vgood': 4})"
      ],
      "execution_count": 249,
      "outputs": []
    },
    {
      "cell_type": "code",
      "metadata": {
        "colab": {
          "base_uri": "https://localhost:8080/",
          "height": 398
        },
        "id": "wfwUWBAoI7oq",
        "outputId": "d9ebf9ca-3b72-4c8b-e666-169fce002a5c"
      },
      "source": [
        "#Correlation map to see how features are correlated\n",
        "fig=plt.figure(figsize=(10,6))\n",
        "sns.heatmap(carDataFrame.corr(),annot=True)"
      ],
      "execution_count": 250,
      "outputs": [
        {
          "output_type": "execute_result",
          "data": {
            "text/plain": [
              "<matplotlib.axes._subplots.AxesSubplot at 0x7f252493a9d0>"
            ]
          },
          "metadata": {
            "tags": []
          },
          "execution_count": 250
        },
        {
          "output_type": "display_data",
          "data": {
            "image/png": "[encoded data removed]",
            "text/plain": [
              "<Figure size 720x432 with 2 Axes>"
            ]
          },
          "metadata": {
            "tags": [],
            "needs_background": "light"
          }
        }
      ]
    },
    {
      "cell_type": "code",
      "metadata": {
        "id": "uOpebYPTI7or"
      },
      "source": [
        "#dividing dataset into X and y\n",
        "X=carDataFrame[carDataFrame.columns[:-1]]\n",
        "y=carDataFrame['Condition']\n",
        "X = pd.get_dummies(X, prefix_sep='_', drop_first=True)"
      ],
      "execution_count": 251,
      "outputs": []
    },
    {
      "cell_type": "code",
      "metadata": {
        "id": "6F4hGG_WI7or"
      },
      "source": [
        "#splitting dataset into training and test set\n",
        "from sklearn.model_selection import train_test_split\n",
        "X_train, X_test, y_train, y_test = train_test_split(X, y, test_size=0.3, random_state=42)"
      ],
      "execution_count": 252,
      "outputs": []
    },
    {
      "cell_type": "code",
      "metadata": {
        "id": "81z_U6_wI7os"
      },
      "source": [
        "#import necessary libraries for Logistic Regression, Cross Validation, and Model Selection\n",
        "from sklearn.model_selection import learning_curve,cross_val_score,validation_curve\n",
        "from sklearn.linear_model import LogisticRegression\n",
        "from sklearn.model_selection import train_test_split,cross_val_score, GridSearchCV\n",
        "from sklearn.metrics import classification_report, confusion_matrix\n",
        "\n",
        "param_grid={'C':[0.01,0.1,1,10],\n",
        "           'solver':['newton-cg', 'lbfgs', 'sag'],\n",
        "           'multi_class':['multinomial']}\n",
        "model=GridSearchCV(estimator=LogisticRegression(n_jobs=-1),param_grid=param_grid,cv=10,n_jobs=-1)"
      ],
      "execution_count": 253,
      "outputs": []
    },
    {
      "cell_type": "code",
      "metadata": {
        "colab": {
          "base_uri": "https://localhost:8080/"
        },
        "id": "sGI8aaeBI7ot",
        "outputId": "56a5146e-11d1-4c1f-cb3d-da6964a9ba27"
      },
      "source": [
        "model.fit(X_train,y_train)"
      ],
      "execution_count": 254,
      "outputs": [
        {
          "output_type": "execute_result",
          "data": {
            "text/plain": [
              "GridSearchCV(cv=10, error_score=nan,\n",
              "             estimator=LogisticRegression(C=1.0, class_weight=None, dual=False,\n",
              "                                          fit_intercept=True,\n",
              "                                          intercept_scaling=1, l1_ratio=None,\n",
              "                                          max_iter=100, multi_class='auto',\n",
              "                                          n_jobs=-1, penalty='l2',\n",
              "                                          random_state=None, solver='lbfgs',\n",
              "                                          tol=0.0001, verbose=0,\n",
              "                                          warm_start=False),\n",
              "             iid='deprecated', n_jobs=-1,\n",
              "             param_grid={'C': [0.01, 0.1, 1, 10],\n",
              "                         'multi_class': ['multinomial'],\n",
              "                         'solver': ['newton-cg', 'lbfgs', 'sag']},\n",
              "             pre_dispatch='2*n_jobs', refit=True, return_train_score=False,\n",
              "             scoring=None, verbose=0)"
            ]
          },
          "metadata": {
            "tags": []
          },
          "execution_count": 254
        }
      ]
    },
    {
      "cell_type": "code",
      "metadata": {
        "colab": {
          "base_uri": "https://localhost:8080/"
        },
        "id": "p1v_-sibI7ou",
        "outputId": "2d5c46d8-4f60-4d3f-ea94-ebdb7b33f2e0"
      },
      "source": [
        "print(model.best_params_)\n",
        "print(model.best_score_)"
      ],
      "execution_count": 255,
      "outputs": [
        {
          "output_type": "stream",
          "text": [
            "{'C': 10, 'multi_class': 'multinomial', 'solver': 'lbfgs'}\n",
            "0.8460674931129477\n"
          ],
          "name": "stdout"
        }
      ]
    },
    {
      "cell_type": "code",
      "metadata": {
        "id": "m04k_eAOI7ov"
      },
      "source": [
        "pred = model.predict(X_test)"
      ],
      "execution_count": 256,
      "outputs": []
    },
    {
      "cell_type": "code",
      "metadata": {
        "colab": {
          "base_uri": "https://localhost:8080/"
        },
        "id": "gBVfKklBI7ox",
        "outputId": "f09f7c89-9ea9-4d46-bc07-a72321307023"
      },
      "source": [
        "#predicting for following attributes : buying, maint, doors, persons, lug_boot, safety as [vhigh,low,4,more,small,med]\n",
        "new_prediction = model.predict(np.array([[4, 1, 4, 5,1,2]]))\n",
        "new_prediction"
      ],
      "execution_count": 257,
      "outputs": [
        {
          "output_type": "execute_result",
          "data": {
            "text/plain": [
              "array([1])"
            ]
          },
          "metadata": {
            "tags": []
          },
          "execution_count": 257
        }
      ]
    },
    {
      "cell_type": "code",
      "metadata": {
        "colab": {
          "base_uri": "https://localhost:8080/",
          "height": 279
        },
        "id": "HVsJFfFtI7o8",
        "outputId": "4f04e1bd-8ce8-4c1c-bbec-24882a72509c"
      },
      "source": [
        "## Confusion Matrix\n",
        "cm_ = confusion_matrix(y_test, pred)\n",
        "\n",
        "LABELS = ['1', '2', '3', '4']\n",
        "sns.heatmap(cm_, annot=True, xticklabels=LABELS, yticklabels=LABELS, fmt='g')\n",
        "xl = plt.xlabel(\"Predicted\")\n",
        "yl = plt.ylabel(\"Actuals\")"
      ],
      "execution_count": 258,
      "outputs": [
        {
          "output_type": "display_data",
          "data": {
            "image/png": "[encoded data removed]",
            "text/plain": [
              "<Figure size 432x288 with 2 Axes>"
            ]
          },
          "metadata": {
            "tags": [],
            "needs_background": "light"
          }
        }
      ]
    },
    {
      "cell_type": "code",
      "metadata": {
        "id": "DKiMVGDAI7o_"
      },
      "source": [
        ""
      ],
      "execution_count": 258,
      "outputs": []
    },
    {
      "cell_type": "code",
      "metadata": {
        "id": "LFJyz6ckI7pD"
      },
      "source": [
        "from matplotlib.colors import ListedColormap\n",
        "h = 0.01 # step size in the mesh\n",
        "x = 1\n",
        "\n",
        "x1_min, x1_max = X_train.values[:, 0].min() - x, X_train.values[:, 0].max() + x\n",
        "y1_min, y1_max = X_train.values[:, 1].min() - x, X_train.values[:, 1].max() + x\n",
        "\n",
        "xx1, yy1 = np.meshgrid(np.arange(x1_min, x1_max, h), np.arange(y1_min, y1_max, h))"
      ],
      "execution_count": 259,
      "outputs": []
    },
    {
      "cell_type": "code",
      "metadata": {
        "colab": {
          "base_uri": "https://localhost:8080/"
        },
        "id": "DeeHg6wsI7pF",
        "outputId": "63bc2f6a-459b-45fd-ecb0-91f293cfa25f"
      },
      "source": [
        "LR = LogisticRegression()\n",
        "LR.fit(X_train.values[:, :2], y_train)\n"
      ],
      "execution_count": 260,
      "outputs": [
        {
          "output_type": "execute_result",
          "data": {
            "text/plain": [
              "LogisticRegression(C=1.0, class_weight=None, dual=False, fit_intercept=True,\n",
              "                   intercept_scaling=1, l1_ratio=None, max_iter=100,\n",
              "                   multi_class='auto', n_jobs=None, penalty='l2',\n",
              "                   random_state=None, solver='lbfgs', tol=0.0001, verbose=0,\n",
              "                   warm_start=False)"
            ]
          },
          "metadata": {
            "tags": []
          },
          "execution_count": 260
        }
      ]
    },
    {
      "cell_type": "code",
      "metadata": {
        "colab": {
          "base_uri": "https://localhost:8080/",
          "height": 722
        },
        "id": "OX46q5cTI7pG",
        "outputId": "873f9107-0558-4b97-a835-decb497725b1"
      },
      "source": [
        "plot_decisionboundary(LR, xx1, yy1)"
      ],
      "execution_count": 261,
      "outputs": [
        {
          "output_type": "stream",
          "text": [
            "/usr/local/lib/python3.7/dist-packages/ipykernel_launcher.py:16: MatplotlibDeprecationWarning: Adding an axes using the same arguments as a previous axes currently reuses the earlier instance.  In a future version, a new instance will always be created and returned.  Meanwhile, this warning can be suppressed, and the future behavior ensured, by passing a unique label to each axes instance.\n",
            "  app.launch_new_instance()\n",
            "/usr/local/lib/python3.7/dist-packages/ipykernel_launcher.py:19: MatplotlibDeprecationWarning: Adding an axes using the same arguments as a previous axes currently reuses the earlier instance.  In a future version, a new instance will always be created and returned.  Meanwhile, this warning can be suppressed, and the future behavior ensured, by passing a unique label to each axes instance.\n",
            "/usr/local/lib/python3.7/dist-packages/ipykernel_launcher.py:16: MatplotlibDeprecationWarning: Adding an axes using the same arguments as a previous axes currently reuses the earlier instance.  In a future version, a new instance will always be created and returned.  Meanwhile, this warning can be suppressed, and the future behavior ensured, by passing a unique label to each axes instance.\n",
            "  app.launch_new_instance()\n"
          ],
          "name": "stderr"
        },
        {
          "output_type": "error",
          "ename": "IndexError",
          "evalue": "ignored",
          "traceback": [
            "\u001b[0;31m---------------------------------------------------------------------------\u001b[0m",
            "\u001b[0;31mIndexError\u001b[0m                                Traceback (most recent call last)",
            "\u001b[0;32m<ipython-input-261-5e826b37c75c>\u001b[0m in \u001b[0;36m<module>\u001b[0;34m()\u001b[0m\n\u001b[0;32m----> 1\u001b[0;31m \u001b[0mplot_decisionboundary\u001b[0m\u001b[0;34m(\u001b[0m\u001b[0mLR\u001b[0m\u001b[0;34m,\u001b[0m \u001b[0mxx1\u001b[0m\u001b[0;34m,\u001b[0m \u001b[0myy1\u001b[0m\u001b[0;34m)\u001b[0m\u001b[0;34m\u001b[0m\u001b[0;34m\u001b[0m\u001b[0m\n\u001b[0m",
            "\u001b[0;32m<ipython-input-207-b902990a4bbe>\u001b[0m in \u001b[0;36mplot_decisionboundary\u001b[0;34m(classifier_plt, xx, yy)\u001b[0m\n\u001b[1;32m     15\u001b[0m         \u001b[0midx\u001b[0m \u001b[0;34m=\u001b[0m \u001b[0mnp\u001b[0m\u001b[0;34m.\u001b[0m\u001b[0mwhere\u001b[0m\u001b[0;34m(\u001b[0m\u001b[0my_train\u001b[0m \u001b[0;34m==\u001b[0m \u001b[0mi\u001b[0m\u001b[0;34m)\u001b[0m\u001b[0;34m\u001b[0m\u001b[0;34m\u001b[0m\u001b[0m\n\u001b[1;32m     16\u001b[0m         \u001b[0mplt\u001b[0m\u001b[0;34m.\u001b[0m\u001b[0msubplot\u001b[0m\u001b[0;34m(\u001b[0m\u001b[0;36m1\u001b[0m\u001b[0;34m,\u001b[0m\u001b[0;36m2\u001b[0m\u001b[0;34m,\u001b[0m\u001b[0;36m1\u001b[0m\u001b[0;34m)\u001b[0m\u001b[0;34m\u001b[0m\u001b[0;34m\u001b[0m\u001b[0m\n\u001b[0;32m---> 17\u001b[0;31m         \u001b[0mplt\u001b[0m\u001b[0;34m.\u001b[0m\u001b[0mscatter\u001b[0m\u001b[0;34m(\u001b[0m\u001b[0mX_train\u001b[0m\u001b[0;34m.\u001b[0m\u001b[0mvalues\u001b[0m\u001b[0;34m[\u001b[0m\u001b[0midx\u001b[0m\u001b[0;34m,\u001b[0m \u001b[0;36m0\u001b[0m\u001b[0;34m]\u001b[0m\u001b[0;34m,\u001b[0m \u001b[0mX_train\u001b[0m\u001b[0;34m.\u001b[0m\u001b[0mvalues\u001b[0m\u001b[0;34m[\u001b[0m\u001b[0midx\u001b[0m\u001b[0;34m,\u001b[0m \u001b[0;36m1\u001b[0m\u001b[0;34m]\u001b[0m\u001b[0;34m,\u001b[0m \u001b[0mc\u001b[0m\u001b[0;34m=\u001b[0m\u001b[0mcolor\u001b[0m\u001b[0;34m,\u001b[0m \u001b[0mlabel\u001b[0m\u001b[0;34m=\u001b[0m\u001b[0;34m[\u001b[0m\u001b[0;34m'0'\u001b[0m\u001b[0;34m,\u001b[0m \u001b[0;34m'1'\u001b[0m\u001b[0;34m]\u001b[0m\u001b[0;34m[\u001b[0m\u001b[0mi\u001b[0m\u001b[0;34m]\u001b[0m\u001b[0;34m,\u001b[0m\u001b[0mcmap\u001b[0m \u001b[0;34m=\u001b[0m \u001b[0mListedColormap\u001b[0m\u001b[0;34m(\u001b[0m\u001b[0;34m(\u001b[0m\u001b[0;34m'red'\u001b[0m\u001b[0;34m,\u001b[0m \u001b[0;34m'green'\u001b[0m\u001b[0;34m,\u001b[0m \u001b[0;34m'blue'\u001b[0m\u001b[0;34m,\u001b[0m \u001b[0;34m'yellow'\u001b[0m\u001b[0;34m)\u001b[0m\u001b[0;34m)\u001b[0m\u001b[0;34m,\u001b[0m \u001b[0medgecolor\u001b[0m\u001b[0;34m=\u001b[0m\u001b[0;34m'black'\u001b[0m\u001b[0;34m,\u001b[0m \u001b[0ms\u001b[0m\u001b[0;34m=\u001b[0m\u001b[0;36m20\u001b[0m\u001b[0;34m)\u001b[0m\u001b[0;34m\u001b[0m\u001b[0;34m\u001b[0m\u001b[0m\n\u001b[0m\u001b[1;32m     18\u001b[0m         \u001b[0mplt\u001b[0m\u001b[0;34m.\u001b[0m\u001b[0maxis\u001b[0m\u001b[0;34m(\u001b[0m\u001b[0;34m'tight'\u001b[0m\u001b[0;34m)\u001b[0m\u001b[0;34m\u001b[0m\u001b[0;34m\u001b[0m\u001b[0m\n\u001b[1;32m     19\u001b[0m         \u001b[0mplt\u001b[0m\u001b[0;34m.\u001b[0m\u001b[0msubplot\u001b[0m\u001b[0;34m(\u001b[0m\u001b[0;36m1\u001b[0m\u001b[0;34m,\u001b[0m\u001b[0;36m2\u001b[0m\u001b[0;34m,\u001b[0m\u001b[0;36m2\u001b[0m\u001b[0;34m)\u001b[0m\u001b[0;34m\u001b[0m\u001b[0;34m\u001b[0m\u001b[0m\n",
            "\u001b[0;31mIndexError\u001b[0m: list index out of range"
          ]
        },
        {
          "output_type": "display_data",
          "data": {
            "image/png": "[encoded data removed]",
            "text/plain": [
              "<Figure size 720x360 with 2 Axes>"
            ]
          },
          "metadata": {
            "tags": [],
            "needs_background": "light"
          }
        }
      ]
    }
  ]
}