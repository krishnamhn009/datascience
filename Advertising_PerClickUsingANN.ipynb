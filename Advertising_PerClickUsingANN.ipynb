{
  "nbformat": 4,
  "nbformat_minor": 0,
  "metadata": {
    "kernelspec": {
      "display_name": "Python 3",
      "language": "python",
      "name": "python3"
    },
    "language_info": {
      "codemirror_mode": {
        "name": "ipython",
        "version": 3
      },
      "file_extension": ".py",
      "mimetype": "text/x-python",
      "name": "python",
      "nbconvert_exporter": "python",
      "pygments_lexer": "ipython3",
      "version": "3.8.5"
    },
    "colab": {
      "name": "Advertising_PerClickUsingANN.ipynb",
      "provenance": [],
      "toc_visible": true,
      "include_colab_link": true
    }
  },
  "cells": [
    {
      "cell_type": "markdown",
      "metadata": {
        "id": "view-in-github",
        "colab_type": "text"
      },
      "source": [
        "<a href=\"https://colab.research.google.com/github/krishnamhn009/datascience/blob/master/Advertising_PerClickUsingANN.ipynb\" target=\"_parent\"><img src=\"https://colab.research.google.com/assets/colab-badge.svg\" alt=\"Open In Colab\"/></a>"
      ]
    },
    {
      "cell_type": "code",
      "metadata": {
        "id": "zHPN7_LFr6Tl"
      },
      "source": [
        ""
      ],
      "execution_count": 2,
      "outputs": []
    },
    {
      "cell_type": "code",
      "metadata": {
        "colab": {
          "base_uri": "https://localhost:8080/"
        },
        "id": "3bhyRdEIr6Tx",
        "outputId": "5d132255-7b57-4812-c291-c11e1832b76f"
      },
      "source": [
        "!pip install tensorflow"
      ],
      "execution_count": 3,
      "outputs": [
        {
          "output_type": "stream",
          "text": [
            "Requirement already satisfied: tensorflow in /usr/local/lib/python3.7/dist-packages (2.4.1)\n",
            "Requirement already satisfied: h5py~=2.10.0 in /usr/local/lib/python3.7/dist-packages (from tensorflow) (2.10.0)\n",
            "Requirement already satisfied: tensorboard~=2.4 in /usr/local/lib/python3.7/dist-packages (from tensorflow) (2.4.1)\n",
            "Requirement already satisfied: numpy~=1.19.2 in /usr/local/lib/python3.7/dist-packages (from tensorflow) (1.19.5)\n",
            "Requirement already satisfied: gast==0.3.3 in /usr/local/lib/python3.7/dist-packages (from tensorflow) (0.3.3)\n",
            "Requirement already satisfied: wheel~=0.35 in /usr/local/lib/python3.7/dist-packages (from tensorflow) (0.36.2)\n",
            "Requirement already satisfied: google-pasta~=0.2 in /usr/local/lib/python3.7/dist-packages (from tensorflow) (0.2.0)\n",
            "Requirement already satisfied: opt-einsum~=3.3.0 in /usr/local/lib/python3.7/dist-packages (from tensorflow) (3.3.0)\n",
            "Requirement already satisfied: wrapt~=1.12.1 in /usr/local/lib/python3.7/dist-packages (from tensorflow) (1.12.1)\n",
            "Requirement already satisfied: astunparse~=1.6.3 in /usr/local/lib/python3.7/dist-packages (from tensorflow) (1.6.3)\n",
            "Requirement already satisfied: tensorflow-estimator<2.5.0,>=2.4.0 in /usr/local/lib/python3.7/dist-packages (from tensorflow) (2.4.0)\n",
            "Requirement already satisfied: termcolor~=1.1.0 in /usr/local/lib/python3.7/dist-packages (from tensorflow) (1.1.0)\n",
            "Requirement already satisfied: flatbuffers~=1.12.0 in /usr/local/lib/python3.7/dist-packages (from tensorflow) (1.12)\n",
            "Requirement already satisfied: protobuf>=3.9.2 in /usr/local/lib/python3.7/dist-packages (from tensorflow) (3.12.4)\n",
            "Requirement already satisfied: typing-extensions~=3.7.4 in /usr/local/lib/python3.7/dist-packages (from tensorflow) (3.7.4.3)\n",
            "Requirement already satisfied: grpcio~=1.32.0 in /usr/local/lib/python3.7/dist-packages (from tensorflow) (1.32.0)\n",
            "Requirement already satisfied: keras-preprocessing~=1.1.2 in /usr/local/lib/python3.7/dist-packages (from tensorflow) (1.1.2)\n",
            "Requirement already satisfied: six~=1.15.0 in /usr/local/lib/python3.7/dist-packages (from tensorflow) (1.15.0)\n",
            "Requirement already satisfied: absl-py~=0.10 in /usr/local/lib/python3.7/dist-packages (from tensorflow) (0.12.0)\n",
            "Requirement already satisfied: tensorboard-plugin-wit>=1.6.0 in /usr/local/lib/python3.7/dist-packages (from tensorboard~=2.4->tensorflow) (1.8.0)\n",
            "Requirement already satisfied: werkzeug>=0.11.15 in /usr/local/lib/python3.7/dist-packages (from tensorboard~=2.4->tensorflow) (1.0.1)\n",
            "Requirement already satisfied: setuptools>=41.0.0 in /usr/local/lib/python3.7/dist-packages (from tensorboard~=2.4->tensorflow) (54.2.0)\n",
            "Requirement already satisfied: google-auth-oauthlib<0.5,>=0.4.1 in /usr/local/lib/python3.7/dist-packages (from tensorboard~=2.4->tensorflow) (0.4.4)\n",
            "Requirement already satisfied: markdown>=2.6.8 in /usr/local/lib/python3.7/dist-packages (from tensorboard~=2.4->tensorflow) (3.3.4)\n",
            "Requirement already satisfied: google-auth<2,>=1.6.3 in /usr/local/lib/python3.7/dist-packages (from tensorboard~=2.4->tensorflow) (1.28.1)\n",
            "Requirement already satisfied: requests<3,>=2.21.0 in /usr/local/lib/python3.7/dist-packages (from tensorboard~=2.4->tensorflow) (2.23.0)\n",
            "Requirement already satisfied: requests-oauthlib>=0.7.0 in /usr/local/lib/python3.7/dist-packages (from google-auth-oauthlib<0.5,>=0.4.1->tensorboard~=2.4->tensorflow) (1.3.0)\n",
            "Requirement already satisfied: importlib-metadata; python_version < \"3.8\" in /usr/local/lib/python3.7/dist-packages (from markdown>=2.6.8->tensorboard~=2.4->tensorflow) (3.10.1)\n",
            "Requirement already satisfied: pyasn1-modules>=0.2.1 in /usr/local/lib/python3.7/dist-packages (from google-auth<2,>=1.6.3->tensorboard~=2.4->tensorflow) (0.2.8)\n",
            "Requirement already satisfied: cachetools<5.0,>=2.0.0 in /usr/local/lib/python3.7/dist-packages (from google-auth<2,>=1.6.3->tensorboard~=2.4->tensorflow) (4.2.1)\n",
            "Requirement already satisfied: rsa<5,>=3.1.4; python_version >= \"3.6\" in /usr/local/lib/python3.7/dist-packages (from google-auth<2,>=1.6.3->tensorboard~=2.4->tensorflow) (4.7.2)\n",
            "Requirement already satisfied: idna<3,>=2.5 in /usr/local/lib/python3.7/dist-packages (from requests<3,>=2.21.0->tensorboard~=2.4->tensorflow) (2.10)\n",
            "Requirement already satisfied: chardet<4,>=3.0.2 in /usr/local/lib/python3.7/dist-packages (from requests<3,>=2.21.0->tensorboard~=2.4->tensorflow) (3.0.4)\n",
            "Requirement already satisfied: certifi>=2017.4.17 in /usr/local/lib/python3.7/dist-packages (from requests<3,>=2.21.0->tensorboard~=2.4->tensorflow) (2020.12.5)\n",
            "Requirement already satisfied: urllib3!=1.25.0,!=1.25.1,<1.26,>=1.21.1 in /usr/local/lib/python3.7/dist-packages (from requests<3,>=2.21.0->tensorboard~=2.4->tensorflow) (1.24.3)\n",
            "Requirement already satisfied: oauthlib>=3.0.0 in /usr/local/lib/python3.7/dist-packages (from requests-oauthlib>=0.7.0->google-auth-oauthlib<0.5,>=0.4.1->tensorboard~=2.4->tensorflow) (3.1.0)\n",
            "Requirement already satisfied: zipp>=0.5 in /usr/local/lib/python3.7/dist-packages (from importlib-metadata; python_version < \"3.8\"->markdown>=2.6.8->tensorboard~=2.4->tensorflow) (3.4.1)\n",
            "Requirement already satisfied: pyasn1<0.5.0,>=0.4.6 in /usr/local/lib/python3.7/dist-packages (from pyasn1-modules>=0.2.1->google-auth<2,>=1.6.3->tensorboard~=2.4->tensorflow) (0.4.8)\n"
          ],
          "name": "stdout"
        }
      ]
    },
    {
      "cell_type": "markdown",
      "metadata": {
        "id": "rTLjGtOEr6Tx"
      },
      "source": [
        "# Import required library "
      ]
    },
    {
      "cell_type": "code",
      "metadata": {
        "colab": {
          "base_uri": "https://localhost:8080/"
        },
        "id": "xC1TxB1Tr6Ty",
        "outputId": "21e61af3-a422-454d-ca54-fb3c1d9ab927"
      },
      "source": [
        "!pip install keras"
      ],
      "execution_count": 4,
      "outputs": [
        {
          "output_type": "stream",
          "text": [
            "Requirement already satisfied: keras in /usr/local/lib/python3.7/dist-packages (2.4.3)\n",
            "Requirement already satisfied: numpy>=1.9.1 in /usr/local/lib/python3.7/dist-packages (from keras) (1.19.5)\n",
            "Requirement already satisfied: scipy>=0.14 in /usr/local/lib/python3.7/dist-packages (from keras) (1.4.1)\n",
            "Requirement already satisfied: pyyaml in /usr/local/lib/python3.7/dist-packages (from keras) (3.13)\n",
            "Requirement already satisfied: h5py in /usr/local/lib/python3.7/dist-packages (from keras) (2.10.0)\n",
            "Requirement already satisfied: six in /usr/local/lib/python3.7/dist-packages (from h5py->keras) (1.15.0)\n"
          ],
          "name": "stdout"
        }
      ]
    },
    {
      "cell_type": "code",
      "metadata": {
        "id": "_C6lqm41r6Ty"
      },
      "source": [
        "import pandas as pd\n",
        "import numpy as np\n",
        "import matplotlib.pyplot as plt\n",
        "import seaborn as sns\n",
        "from sklearn.model_selection import train_test_split\n",
        "from sklearn.preprocessing import LabelEncoder\n",
        "from sklearn.preprocessing import RobustScaler\n",
        "from sklearn.metrics import classification_report, confusion_matrix ,accuracy_score\n",
        "from sklearn.preprocessing import StandardScaler\n",
        "from sklearn import metrics\n",
        "import tensorflow as tf\n",
        "from tensorflow.keras.utils import to_categorical\n",
        "from tensorflow.keras.models import Sequential\n",
        "from tensorflow.keras.layers import Dense, Dropout\n",
        "import warnings\n",
        "warnings.filterwarnings('ignore')\n",
        "import keras\n",
        "from keras.models import Sequential\n",
        "from keras.layers import Dense\n",
        "from sklearn.preprocessing import MinMaxScaler, Normalizer\n"
      ],
      "execution_count": 44,
      "outputs": []
    },
    {
      "cell_type": "markdown",
      "metadata": {
        "id": "JKUuBf-Zr6Ty"
      },
      "source": [
        "# Import and understanding data"
      ]
    },
    {
      "cell_type": "code",
      "metadata": {
        "id": "fRbqeB_Ir6Tz"
      },
      "source": [
        "df = pd.read_csv(\"/content/advertising-1.csv\")\n",
        "\n",
        "data=pd.DataFrame(df)"
      ],
      "execution_count": 46,
      "outputs": []
    },
    {
      "cell_type": "code",
      "metadata": {
        "colab": {
          "base_uri": "https://localhost:8080/",
          "height": 296
        },
        "id": "8VrY2Ha6r6Tz",
        "outputId": "0090fab9-7a7f-453f-ea9e-2e0ab320079e"
      },
      "source": [
        "#checking top 5 data\n",
        "data.head()"
      ],
      "execution_count": 10,
      "outputs": [
        {
          "output_type": "execute_result",
          "data": {
            "text/html": [
              "<div>\n",
              "<style scoped>\n",
              "    .dataframe tbody tr th:only-of-type {\n",
              "        vertical-align: middle;\n",
              "    }\n",
              "\n",
              "    .dataframe tbody tr th {\n",
              "        vertical-align: top;\n",
              "    }\n",
              "\n",
              "    .dataframe thead th {\n",
              "        text-align: right;\n",
              "    }\n",
              "</style>\n",
              "<table border=\"1\" class=\"dataframe\">\n",
              "  <thead>\n",
              "    <tr style=\"text-align: right;\">\n",
              "      <th></th>\n",
              "      <th>Daily Time Spent on Site</th>\n",
              "      <th>Age</th>\n",
              "      <th>Area Income</th>\n",
              "      <th>Daily Internet Usage</th>\n",
              "      <th>Ad Topic Line</th>\n",
              "      <th>City</th>\n",
              "      <th>Male</th>\n",
              "      <th>Country</th>\n",
              "      <th>Timestamp</th>\n",
              "      <th>Clicked on Ad</th>\n",
              "    </tr>\n",
              "  </thead>\n",
              "  <tbody>\n",
              "    <tr>\n",
              "      <th>0</th>\n",
              "      <td>68.95</td>\n",
              "      <td>35</td>\n",
              "      <td>61833.90</td>\n",
              "      <td>256.09</td>\n",
              "      <td>Cloned 5thgeneration orchestration</td>\n",
              "      <td>Wrightburgh</td>\n",
              "      <td>0</td>\n",
              "      <td>Tunisia</td>\n",
              "      <td>2016-03-27 00:53:11</td>\n",
              "      <td>0</td>\n",
              "    </tr>\n",
              "    <tr>\n",
              "      <th>1</th>\n",
              "      <td>80.23</td>\n",
              "      <td>31</td>\n",
              "      <td>68441.85</td>\n",
              "      <td>193.77</td>\n",
              "      <td>Monitored national standardization</td>\n",
              "      <td>West Jodi</td>\n",
              "      <td>1</td>\n",
              "      <td>Nauru</td>\n",
              "      <td>2016-04-04 01:39:02</td>\n",
              "      <td>0</td>\n",
              "    </tr>\n",
              "    <tr>\n",
              "      <th>2</th>\n",
              "      <td>69.47</td>\n",
              "      <td>26</td>\n",
              "      <td>59785.94</td>\n",
              "      <td>236.50</td>\n",
              "      <td>Organic bottom-line service-desk</td>\n",
              "      <td>Davidton</td>\n",
              "      <td>0</td>\n",
              "      <td>San Marino</td>\n",
              "      <td>2016-03-13 20:35:42</td>\n",
              "      <td>0</td>\n",
              "    </tr>\n",
              "    <tr>\n",
              "      <th>3</th>\n",
              "      <td>74.15</td>\n",
              "      <td>29</td>\n",
              "      <td>54806.18</td>\n",
              "      <td>245.89</td>\n",
              "      <td>Triple-buffered reciprocal time-frame</td>\n",
              "      <td>West Terrifurt</td>\n",
              "      <td>1</td>\n",
              "      <td>Italy</td>\n",
              "      <td>2016-01-10 02:31:19</td>\n",
              "      <td>0</td>\n",
              "    </tr>\n",
              "    <tr>\n",
              "      <th>4</th>\n",
              "      <td>68.37</td>\n",
              "      <td>35</td>\n",
              "      <td>73889.99</td>\n",
              "      <td>225.58</td>\n",
              "      <td>Robust logistical utilization</td>\n",
              "      <td>South Manuel</td>\n",
              "      <td>0</td>\n",
              "      <td>Iceland</td>\n",
              "      <td>2016-06-03 03:36:18</td>\n",
              "      <td>0</td>\n",
              "    </tr>\n",
              "  </tbody>\n",
              "</table>\n",
              "</div>"
            ],
            "text/plain": [
              "   Daily Time Spent on Site  Age  ...            Timestamp  Clicked on Ad\n",
              "0                     68.95   35  ...  2016-03-27 00:53:11              0\n",
              "1                     80.23   31  ...  2016-04-04 01:39:02              0\n",
              "2                     69.47   26  ...  2016-03-13 20:35:42              0\n",
              "3                     74.15   29  ...  2016-01-10 02:31:19              0\n",
              "4                     68.37   35  ...  2016-06-03 03:36:18              0\n",
              "\n",
              "[5 rows x 10 columns]"
            ]
          },
          "metadata": {
            "tags": []
          },
          "execution_count": 10
        }
      ]
    },
    {
      "cell_type": "markdown",
      "metadata": {
        "id": "lyt43qGer6Tz"
      },
      "source": [
        "\n",
        "# Data set description \n",
        "In this assignment you will be working with a dummy advertising data set, indicating whether or not a\n",
        "particular internet user clicked on an Advertisement on a company website. you will try to create a model\n",
        "that will predict whether or not they will click on an ad based on the features of that user.\n",
        "This data set contains the following features:\n",
        "* 'Daily Time Spent on Site': consumer time on site in minutes\n",
        "* 'Age': customer age in years\n",
        "* 'Area Income': Avg. Income of geographical area of consumer\n",
        "* 'Daily Internet Usage': Avg. minutes a day consumer is on the internet\n",
        "* 'Ad Topic Line': Headline of the advertisement\n",
        "* 'City': City of consumer\n",
        "* 'Male': Whether or not consumer was male\n",
        "* 'Country': Country of consumer\n",
        "* 'Timestamp': Time at which consumer clicked on Ad or closed window\n",
        "* 'Clicked on Ad': 0 or 1 indicated clicking on Ad"
      ]
    },
    {
      "cell_type": "code",
      "metadata": {
        "colab": {
          "base_uri": "https://localhost:8080/"
        },
        "id": "5Y2KqKnnr6T0",
        "outputId": "93b02747-e6c1-48e6-8b5c-d214186c3f2d"
      },
      "source": [
        "#checking shape of dataset\n",
        "data.shape"
      ],
      "execution_count": 12,
      "outputs": [
        {
          "output_type": "execute_result",
          "data": {
            "text/plain": [
              "(1000, 10)"
            ]
          },
          "metadata": {
            "tags": []
          },
          "execution_count": 12
        }
      ]
    },
    {
      "cell_type": "code",
      "metadata": {
        "colab": {
          "base_uri": "https://localhost:8080/"
        },
        "id": "JYcR9hs3r6T0",
        "outputId": "eea42e42-c86a-4435-f591-fad7029e068a"
      },
      "source": [
        "# checking for the data type\n",
        "data.info()"
      ],
      "execution_count": 13,
      "outputs": [
        {
          "output_type": "stream",
          "text": [
            "<class 'pandas.core.frame.DataFrame'>\n",
            "RangeIndex: 1000 entries, 0 to 999\n",
            "Data columns (total 10 columns):\n",
            " #   Column                    Non-Null Count  Dtype  \n",
            "---  ------                    --------------  -----  \n",
            " 0   Daily Time Spent on Site  1000 non-null   float64\n",
            " 1   Age                       1000 non-null   int64  \n",
            " 2   Area Income               1000 non-null   float64\n",
            " 3   Daily Internet Usage      1000 non-null   float64\n",
            " 4   Ad Topic Line             1000 non-null   object \n",
            " 5   City                      1000 non-null   object \n",
            " 6   Male                      1000 non-null   int64  \n",
            " 7   Country                   1000 non-null   object \n",
            " 8   Timestamp                 1000 non-null   object \n",
            " 9   Clicked on Ad             1000 non-null   int64  \n",
            "dtypes: float64(3), int64(3), object(4)\n",
            "memory usage: 78.2+ KB\n"
          ],
          "name": "stdout"
        }
      ]
    },
    {
      "cell_type": "code",
      "metadata": {
        "colab": {
          "base_uri": "https://localhost:8080/"
        },
        "id": "WlYc-uG-r6T0",
        "outputId": "cc17fe25-8a9b-4f53-b8b0-36366ade223a"
      },
      "source": [
        "#Let's check if there are any missing values in our dataset \n",
        "data.isnull().sum()"
      ],
      "execution_count": 14,
      "outputs": [
        {
          "output_type": "execute_result",
          "data": {
            "text/plain": [
              "Daily Time Spent on Site    0\n",
              "Age                         0\n",
              "Area Income                 0\n",
              "Daily Internet Usage        0\n",
              "Ad Topic Line               0\n",
              "City                        0\n",
              "Male                        0\n",
              "Country                     0\n",
              "Timestamp                   0\n",
              "Clicked on Ad               0\n",
              "dtype: int64"
            ]
          },
          "metadata": {
            "tags": []
          },
          "execution_count": 14
        }
      ]
    },
    {
      "cell_type": "markdown",
      "metadata": {
        "id": "XwK1DEdwr6T0"
      },
      "source": [
        "#### No null value is present"
      ]
    },
    {
      "cell_type": "code",
      "metadata": {
        "colab": {
          "base_uri": "https://localhost:8080/",
          "height": 198
        },
        "id": "vPD4WdwLr6T1",
        "outputId": "1f0d2a8a-2636-453b-e933-d80bdb1cf66b"
      },
      "source": [
        "# descriptive statistics for numerical columns\n",
        "data.describe().style.background_gradient(cmap = 'Blues')"
      ],
      "execution_count": 18,
      "outputs": [
        {
          "output_type": "execute_result",
          "data": {
            "text/html": [
              "<style  type=\"text/css\" >\n",
              "#T_4048592c_9ed9_11eb_a7b7_0242ac1c0002row0_col0,#T_4048592c_9ed9_11eb_a7b7_0242ac1c0002row0_col1,#T_4048592c_9ed9_11eb_a7b7_0242ac1c0002row0_col3,#T_4048592c_9ed9_11eb_a7b7_0242ac1c0002row0_col4,#T_4048592c_9ed9_11eb_a7b7_0242ac1c0002row0_col5,#T_4048592c_9ed9_11eb_a7b7_0242ac1c0002row7_col2{\n",
              "            background-color:  #08306b;\n",
              "            color:  #f1f1f1;\n",
              "        }#T_4048592c_9ed9_11eb_a7b7_0242ac1c0002row0_col2,#T_4048592c_9ed9_11eb_a7b7_0242ac1c0002row1_col4,#T_4048592c_9ed9_11eb_a7b7_0242ac1c0002row1_col5,#T_4048592c_9ed9_11eb_a7b7_0242ac1c0002row2_col0,#T_4048592c_9ed9_11eb_a7b7_0242ac1c0002row2_col1,#T_4048592c_9ed9_11eb_a7b7_0242ac1c0002row2_col3,#T_4048592c_9ed9_11eb_a7b7_0242ac1c0002row2_col4,#T_4048592c_9ed9_11eb_a7b7_0242ac1c0002row2_col5,#T_4048592c_9ed9_11eb_a7b7_0242ac1c0002row3_col4,#T_4048592c_9ed9_11eb_a7b7_0242ac1c0002row3_col5,#T_4048592c_9ed9_11eb_a7b7_0242ac1c0002row4_col4,#T_4048592c_9ed9_11eb_a7b7_0242ac1c0002row4_col5,#T_4048592c_9ed9_11eb_a7b7_0242ac1c0002row5_col4,#T_4048592c_9ed9_11eb_a7b7_0242ac1c0002row5_col5,#T_4048592c_9ed9_11eb_a7b7_0242ac1c0002row6_col4,#T_4048592c_9ed9_11eb_a7b7_0242ac1c0002row6_col5,#T_4048592c_9ed9_11eb_a7b7_0242ac1c0002row7_col4,#T_4048592c_9ed9_11eb_a7b7_0242ac1c0002row7_col5{\n",
              "            background-color:  #f7fbff;\n",
              "            color:  #000000;\n",
              "        }#T_4048592c_9ed9_11eb_a7b7_0242ac1c0002row1_col0{\n",
              "            background-color:  #eef5fc;\n",
              "            color:  #000000;\n",
              "        }#T_4048592c_9ed9_11eb_a7b7_0242ac1c0002row1_col1{\n",
              "            background-color:  #f2f7fd;\n",
              "            color:  #000000;\n",
              "        }#T_4048592c_9ed9_11eb_a7b7_0242ac1c0002row1_col2{\n",
              "            background-color:  #3181bd;\n",
              "            color:  #000000;\n",
              "        }#T_4048592c_9ed9_11eb_a7b7_0242ac1c0002row1_col3{\n",
              "            background-color:  #dbe9f6;\n",
              "            color:  #000000;\n",
              "        }#T_4048592c_9ed9_11eb_a7b7_0242ac1c0002row2_col2{\n",
              "            background-color:  #d8e7f5;\n",
              "            color:  #000000;\n",
              "        }#T_4048592c_9ed9_11eb_a7b7_0242ac1c0002row3_col0{\n",
              "            background-color:  #f4f9fe;\n",
              "            color:  #000000;\n",
              "        }#T_4048592c_9ed9_11eb_a7b7_0242ac1c0002row3_col1{\n",
              "            background-color:  #f5fafe;\n",
              "            color:  #000000;\n",
              "        }#T_4048592c_9ed9_11eb_a7b7_0242ac1c0002row3_col2{\n",
              "            background-color:  #d6e6f4;\n",
              "            color:  #000000;\n",
              "        }#T_4048592c_9ed9_11eb_a7b7_0242ac1c0002row3_col3,#T_4048592c_9ed9_11eb_a7b7_0242ac1c0002row6_col0{\n",
              "            background-color:  #eaf3fb;\n",
              "            color:  #000000;\n",
              "        }#T_4048592c_9ed9_11eb_a7b7_0242ac1c0002row4_col0{\n",
              "            background-color:  #f0f6fd;\n",
              "            color:  #000000;\n",
              "        }#T_4048592c_9ed9_11eb_a7b7_0242ac1c0002row4_col1{\n",
              "            background-color:  #f3f8fe;\n",
              "            color:  #000000;\n",
              "        }#T_4048592c_9ed9_11eb_a7b7_0242ac1c0002row4_col2{\n",
              "            background-color:  #4e9acb;\n",
              "            color:  #000000;\n",
              "        }#T_4048592c_9ed9_11eb_a7b7_0242ac1c0002row4_col3{\n",
              "            background-color:  #e3eef9;\n",
              "            color:  #000000;\n",
              "        }#T_4048592c_9ed9_11eb_a7b7_0242ac1c0002row5_col0,#T_4048592c_9ed9_11eb_a7b7_0242ac1c0002row7_col1{\n",
              "            background-color:  #edf4fc;\n",
              "            color:  #000000;\n",
              "        }#T_4048592c_9ed9_11eb_a7b7_0242ac1c0002row5_col1{\n",
              "            background-color:  #f2f8fd;\n",
              "            color:  #000000;\n",
              "        }#T_4048592c_9ed9_11eb_a7b7_0242ac1c0002row5_col2{\n",
              "            background-color:  #2b7bba;\n",
              "            color:  #000000;\n",
              "        }#T_4048592c_9ed9_11eb_a7b7_0242ac1c0002row5_col3{\n",
              "            background-color:  #dae8f6;\n",
              "            color:  #000000;\n",
              "        }#T_4048592c_9ed9_11eb_a7b7_0242ac1c0002row6_col1{\n",
              "            background-color:  #f1f7fd;\n",
              "            color:  #000000;\n",
              "        }#T_4048592c_9ed9_11eb_a7b7_0242ac1c0002row6_col2{\n",
              "            background-color:  #125ea6;\n",
              "            color:  #f1f1f1;\n",
              "        }#T_4048592c_9ed9_11eb_a7b7_0242ac1c0002row6_col3{\n",
              "            background-color:  #d3e4f3;\n",
              "            color:  #000000;\n",
              "        }#T_4048592c_9ed9_11eb_a7b7_0242ac1c0002row7_col0{\n",
              "            background-color:  #e8f1fa;\n",
              "            color:  #000000;\n",
              "        }#T_4048592c_9ed9_11eb_a7b7_0242ac1c0002row7_col3{\n",
              "            background-color:  #c9ddf0;\n",
              "            color:  #000000;\n",
              "        }</style><table id=\"T_4048592c_9ed9_11eb_a7b7_0242ac1c0002\" ><thead>    <tr>        <th class=\"blank level0\" ></th>        <th class=\"col_heading level0 col0\" >Daily Time Spent on Site</th>        <th class=\"col_heading level0 col1\" >Age</th>        <th class=\"col_heading level0 col2\" >Area Income</th>        <th class=\"col_heading level0 col3\" >Daily Internet Usage</th>        <th class=\"col_heading level0 col4\" >Male</th>        <th class=\"col_heading level0 col5\" >Clicked on Ad</th>    </tr></thead><tbody>\n",
              "                <tr>\n",
              "                        <th id=\"T_4048592c_9ed9_11eb_a7b7_0242ac1c0002level0_row0\" class=\"row_heading level0 row0\" >count</th>\n",
              "                        <td id=\"T_4048592c_9ed9_11eb_a7b7_0242ac1c0002row0_col0\" class=\"data row0 col0\" >1000.000000</td>\n",
              "                        <td id=\"T_4048592c_9ed9_11eb_a7b7_0242ac1c0002row0_col1\" class=\"data row0 col1\" >1000.000000</td>\n",
              "                        <td id=\"T_4048592c_9ed9_11eb_a7b7_0242ac1c0002row0_col2\" class=\"data row0 col2\" >1000.000000</td>\n",
              "                        <td id=\"T_4048592c_9ed9_11eb_a7b7_0242ac1c0002row0_col3\" class=\"data row0 col3\" >1000.000000</td>\n",
              "                        <td id=\"T_4048592c_9ed9_11eb_a7b7_0242ac1c0002row0_col4\" class=\"data row0 col4\" >1000.000000</td>\n",
              "                        <td id=\"T_4048592c_9ed9_11eb_a7b7_0242ac1c0002row0_col5\" class=\"data row0 col5\" >1000.000000</td>\n",
              "            </tr>\n",
              "            <tr>\n",
              "                        <th id=\"T_4048592c_9ed9_11eb_a7b7_0242ac1c0002level0_row1\" class=\"row_heading level0 row1\" >mean</th>\n",
              "                        <td id=\"T_4048592c_9ed9_11eb_a7b7_0242ac1c0002row1_col0\" class=\"data row1 col0\" >65.000200</td>\n",
              "                        <td id=\"T_4048592c_9ed9_11eb_a7b7_0242ac1c0002row1_col1\" class=\"data row1 col1\" >36.009000</td>\n",
              "                        <td id=\"T_4048592c_9ed9_11eb_a7b7_0242ac1c0002row1_col2\" class=\"data row1 col2\" >55000.000080</td>\n",
              "                        <td id=\"T_4048592c_9ed9_11eb_a7b7_0242ac1c0002row1_col3\" class=\"data row1 col3\" >180.000100</td>\n",
              "                        <td id=\"T_4048592c_9ed9_11eb_a7b7_0242ac1c0002row1_col4\" class=\"data row1 col4\" >0.481000</td>\n",
              "                        <td id=\"T_4048592c_9ed9_11eb_a7b7_0242ac1c0002row1_col5\" class=\"data row1 col5\" >0.500000</td>\n",
              "            </tr>\n",
              "            <tr>\n",
              "                        <th id=\"T_4048592c_9ed9_11eb_a7b7_0242ac1c0002level0_row2\" class=\"row_heading level0 row2\" >std</th>\n",
              "                        <td id=\"T_4048592c_9ed9_11eb_a7b7_0242ac1c0002row2_col0\" class=\"data row2 col0\" >15.853615</td>\n",
              "                        <td id=\"T_4048592c_9ed9_11eb_a7b7_0242ac1c0002row2_col1\" class=\"data row2 col1\" >8.785562</td>\n",
              "                        <td id=\"T_4048592c_9ed9_11eb_a7b7_0242ac1c0002row2_col2\" class=\"data row2 col2\" >13414.634022</td>\n",
              "                        <td id=\"T_4048592c_9ed9_11eb_a7b7_0242ac1c0002row2_col3\" class=\"data row2 col3\" >43.902339</td>\n",
              "                        <td id=\"T_4048592c_9ed9_11eb_a7b7_0242ac1c0002row2_col4\" class=\"data row2 col4\" >0.499889</td>\n",
              "                        <td id=\"T_4048592c_9ed9_11eb_a7b7_0242ac1c0002row2_col5\" class=\"data row2 col5\" >0.500250</td>\n",
              "            </tr>\n",
              "            <tr>\n",
              "                        <th id=\"T_4048592c_9ed9_11eb_a7b7_0242ac1c0002level0_row3\" class=\"row_heading level0 row3\" >min</th>\n",
              "                        <td id=\"T_4048592c_9ed9_11eb_a7b7_0242ac1c0002row3_col0\" class=\"data row3 col0\" >32.600000</td>\n",
              "                        <td id=\"T_4048592c_9ed9_11eb_a7b7_0242ac1c0002row3_col1\" class=\"data row3 col1\" >19.000000</td>\n",
              "                        <td id=\"T_4048592c_9ed9_11eb_a7b7_0242ac1c0002row3_col2\" class=\"data row3 col2\" >13996.500000</td>\n",
              "                        <td id=\"T_4048592c_9ed9_11eb_a7b7_0242ac1c0002row3_col3\" class=\"data row3 col3\" >104.780000</td>\n",
              "                        <td id=\"T_4048592c_9ed9_11eb_a7b7_0242ac1c0002row3_col4\" class=\"data row3 col4\" >0.000000</td>\n",
              "                        <td id=\"T_4048592c_9ed9_11eb_a7b7_0242ac1c0002row3_col5\" class=\"data row3 col5\" >0.000000</td>\n",
              "            </tr>\n",
              "            <tr>\n",
              "                        <th id=\"T_4048592c_9ed9_11eb_a7b7_0242ac1c0002level0_row4\" class=\"row_heading level0 row4\" >25%</th>\n",
              "                        <td id=\"T_4048592c_9ed9_11eb_a7b7_0242ac1c0002row4_col0\" class=\"data row4 col0\" >51.360000</td>\n",
              "                        <td id=\"T_4048592c_9ed9_11eb_a7b7_0242ac1c0002row4_col1\" class=\"data row4 col1\" >29.000000</td>\n",
              "                        <td id=\"T_4048592c_9ed9_11eb_a7b7_0242ac1c0002row4_col2\" class=\"data row4 col2\" >47031.802500</td>\n",
              "                        <td id=\"T_4048592c_9ed9_11eb_a7b7_0242ac1c0002row4_col3\" class=\"data row4 col3\" >138.830000</td>\n",
              "                        <td id=\"T_4048592c_9ed9_11eb_a7b7_0242ac1c0002row4_col4\" class=\"data row4 col4\" >0.000000</td>\n",
              "                        <td id=\"T_4048592c_9ed9_11eb_a7b7_0242ac1c0002row4_col5\" class=\"data row4 col5\" >0.000000</td>\n",
              "            </tr>\n",
              "            <tr>\n",
              "                        <th id=\"T_4048592c_9ed9_11eb_a7b7_0242ac1c0002level0_row5\" class=\"row_heading level0 row5\" >50%</th>\n",
              "                        <td id=\"T_4048592c_9ed9_11eb_a7b7_0242ac1c0002row5_col0\" class=\"data row5 col0\" >68.215000</td>\n",
              "                        <td id=\"T_4048592c_9ed9_11eb_a7b7_0242ac1c0002row5_col1\" class=\"data row5 col1\" >35.000000</td>\n",
              "                        <td id=\"T_4048592c_9ed9_11eb_a7b7_0242ac1c0002row5_col2\" class=\"data row5 col2\" >57012.300000</td>\n",
              "                        <td id=\"T_4048592c_9ed9_11eb_a7b7_0242ac1c0002row5_col3\" class=\"data row5 col3\" >183.130000</td>\n",
              "                        <td id=\"T_4048592c_9ed9_11eb_a7b7_0242ac1c0002row5_col4\" class=\"data row5 col4\" >0.000000</td>\n",
              "                        <td id=\"T_4048592c_9ed9_11eb_a7b7_0242ac1c0002row5_col5\" class=\"data row5 col5\" >0.500000</td>\n",
              "            </tr>\n",
              "            <tr>\n",
              "                        <th id=\"T_4048592c_9ed9_11eb_a7b7_0242ac1c0002level0_row6\" class=\"row_heading level0 row6\" >75%</th>\n",
              "                        <td id=\"T_4048592c_9ed9_11eb_a7b7_0242ac1c0002row6_col0\" class=\"data row6 col0\" >78.547500</td>\n",
              "                        <td id=\"T_4048592c_9ed9_11eb_a7b7_0242ac1c0002row6_col1\" class=\"data row6 col1\" >42.000000</td>\n",
              "                        <td id=\"T_4048592c_9ed9_11eb_a7b7_0242ac1c0002row6_col2\" class=\"data row6 col2\" >65470.635000</td>\n",
              "                        <td id=\"T_4048592c_9ed9_11eb_a7b7_0242ac1c0002row6_col3\" class=\"data row6 col3\" >218.792500</td>\n",
              "                        <td id=\"T_4048592c_9ed9_11eb_a7b7_0242ac1c0002row6_col4\" class=\"data row6 col4\" >1.000000</td>\n",
              "                        <td id=\"T_4048592c_9ed9_11eb_a7b7_0242ac1c0002row6_col5\" class=\"data row6 col5\" >1.000000</td>\n",
              "            </tr>\n",
              "            <tr>\n",
              "                        <th id=\"T_4048592c_9ed9_11eb_a7b7_0242ac1c0002level0_row7\" class=\"row_heading level0 row7\" >max</th>\n",
              "                        <td id=\"T_4048592c_9ed9_11eb_a7b7_0242ac1c0002row7_col0\" class=\"data row7 col0\" >91.430000</td>\n",
              "                        <td id=\"T_4048592c_9ed9_11eb_a7b7_0242ac1c0002row7_col1\" class=\"data row7 col1\" >61.000000</td>\n",
              "                        <td id=\"T_4048592c_9ed9_11eb_a7b7_0242ac1c0002row7_col2\" class=\"data row7 col2\" >79484.800000</td>\n",
              "                        <td id=\"T_4048592c_9ed9_11eb_a7b7_0242ac1c0002row7_col3\" class=\"data row7 col3\" >269.960000</td>\n",
              "                        <td id=\"T_4048592c_9ed9_11eb_a7b7_0242ac1c0002row7_col4\" class=\"data row7 col4\" >1.000000</td>\n",
              "                        <td id=\"T_4048592c_9ed9_11eb_a7b7_0242ac1c0002row7_col5\" class=\"data row7 col5\" >1.000000</td>\n",
              "            </tr>\n",
              "    </tbody></table>"
            ],
            "text/plain": [
              "<pandas.io.formats.style.Styler at 0x7ff5500f7a90>"
            ]
          },
          "metadata": {
            "tags": []
          },
          "execution_count": 18
        }
      ]
    },
    {
      "cell_type": "markdown",
      "metadata": {
        "id": "mGMQCbimr6T1"
      },
      "source": [
        "#####  It is clearly shown that most of the featurs have no outlies in the dataset, but we are assuming 2 features (Area Income, Daily Internet Usage). So let's plot these 2 features and check for outliers."
      ]
    },
    {
      "cell_type": "code",
      "metadata": {
        "colab": {
          "base_uri": "https://localhost:8080/",
          "height": 398
        },
        "id": "HxAqe5unr6T1",
        "outputId": "308f6b87-c4dc-4698-e5c2-f5679dd4566f"
      },
      "source": [
        "# lets check the boxplots for the columns where we suspect for outliers\n",
        "plt.rcParams['figure.figsize'] = (15, 5)\n",
        "plt.style.use('fivethirtyeight')\n",
        "\n",
        "\n",
        "plt.subplot(1, 3, 1)\n",
        "sns.boxplot(data['Area Income'], color = 'blue')\n",
        "\n",
        "\n",
        "plt.subplot(1, 3, 2)\n",
        "sns.boxplot(data['Daily Internet Usage'], color = 'blue')\n",
        "\n",
        "\n",
        "\n",
        "plt.suptitle('Box Plot', fontsize = 15)\n",
        "plt.show()"
      ],
      "execution_count": 24,
      "outputs": [
        {
          "output_type": "display_data",
          "data": {
            "image/png": "[encoded data removed]",
            "text/plain": [
              "<Figure size 1080x360 with 2 Axes>"
            ]
          },
          "metadata": {
            "tags": []
          }
        }
      ]
    },
    {
      "cell_type": "markdown",
      "metadata": {
        "id": "R2uGqr7nr6T1"
      },
      "source": [
        "\"Area Income\" col is having some outlier"
      ]
    },
    {
      "cell_type": "code",
      "metadata": {
        "colab": {
          "base_uri": "https://localhost:8080/",
          "height": 393
        },
        "id": "YDMRylMQr6T2",
        "outputId": "385c5faa-6595-4bcb-ce9d-388ef6a88ca2"
      },
      "source": [
        "plt.rcParams['figure.figsize'] = (10, 5)\n",
        "plt.style.use('fivethirtyeight')\n",
        "\n",
        "plt.subplot(1, 2, 1)\n",
        "sns.countplot(data['Clicked on Ad'])\n",
        "\n",
        "plt.xlabel('click on add' or 'not click on add', fontsize = 12)\n",
        "\n",
        "plt.subplot(1, 2, 2)\n",
        "data['Clicked on Ad'].value_counts().plot(kind = 'pie', explode = [0, 0.1], \n",
        "                                   autopct = '%.2f%%', startangle = 90, labels = ['1','0'])\n",
        "\n",
        "plt.suptitle('Target Class Balance', fontsize = 15)\n",
        "plt.show()"
      ],
      "execution_count": 26,
      "outputs": [
        {
          "output_type": "display_data",
          "data": {
            "image/png": "[encoded data removed]",
            "text/plain": [
              "<Figure size 720x360 with 2 Axes>"
            ]
          },
          "metadata": {
            "tags": []
          }
        }
      ]
    },
    {
      "cell_type": "markdown",
      "metadata": {
        "id": "T62rNJ0nr6T2"
      },
      "source": [
        "### From above distribution it is evident that target class is highly balance"
      ]
    },
    {
      "cell_type": "code",
      "metadata": {
        "colab": {
          "base_uri": "https://localhost:8080/",
          "height": 639
        },
        "id": "RkG0z7eCr6T2",
        "outputId": "605e9f10-df2b-4fe5-e43a-f76b920d8178"
      },
      "source": [
        "plt.figure(figsize=(12,7))\n",
        "sns.heatmap(data.corr(),annot=True,cmap='viridis')\n",
        "#plt.ylim(10, 0)"
      ],
      "execution_count": 27,
      "outputs": [
        {
          "output_type": "execute_result",
          "data": {
            "text/plain": [
              "<matplotlib.axes._subplots.AxesSubplot at 0x7ff54eff4c10>"
            ]
          },
          "metadata": {
            "tags": []
          },
          "execution_count": 27
        },
        {
          "output_type": "display_data",
          "data": {
            "image/png": "[encoded data removed]",
            "text/plain": [
              "<Figure size 864x504 with 2 Axes>"
            ]
          },
          "metadata": {
            "tags": []
          }
        }
      ]
    },
    {
      "cell_type": "code",
      "metadata": {
        "colab": {
          "base_uri": "https://localhost:8080/",
          "height": 166
        },
        "id": "WIHCo0jvr6T2",
        "outputId": "c750f37c-63a9-4d8e-b14c-4b141cfdd9b8"
      },
      "source": [
        "# descriptive statistics for catagorical column\n",
        "data.describe(include = 'object')"
      ],
      "execution_count": 28,
      "outputs": [
        {
          "output_type": "execute_result",
          "data": {
            "text/html": [
              "<div>\n",
              "<style scoped>\n",
              "    .dataframe tbody tr th:only-of-type {\n",
              "        vertical-align: middle;\n",
              "    }\n",
              "\n",
              "    .dataframe tbody tr th {\n",
              "        vertical-align: top;\n",
              "    }\n",
              "\n",
              "    .dataframe thead th {\n",
              "        text-align: right;\n",
              "    }\n",
              "</style>\n",
              "<table border=\"1\" class=\"dataframe\">\n",
              "  <thead>\n",
              "    <tr style=\"text-align: right;\">\n",
              "      <th></th>\n",
              "      <th>Ad Topic Line</th>\n",
              "      <th>City</th>\n",
              "      <th>Country</th>\n",
              "      <th>Timestamp</th>\n",
              "    </tr>\n",
              "  </thead>\n",
              "  <tbody>\n",
              "    <tr>\n",
              "      <th>count</th>\n",
              "      <td>1000</td>\n",
              "      <td>1000</td>\n",
              "      <td>1000</td>\n",
              "      <td>1000</td>\n",
              "    </tr>\n",
              "    <tr>\n",
              "      <th>unique</th>\n",
              "      <td>1000</td>\n",
              "      <td>969</td>\n",
              "      <td>237</td>\n",
              "      <td>1000</td>\n",
              "    </tr>\n",
              "    <tr>\n",
              "      <th>top</th>\n",
              "      <td>Customer-focused transitional strategy</td>\n",
              "      <td>Lisamouth</td>\n",
              "      <td>France</td>\n",
              "      <td>2016-02-29 12:31:57</td>\n",
              "    </tr>\n",
              "    <tr>\n",
              "      <th>freq</th>\n",
              "      <td>1</td>\n",
              "      <td>3</td>\n",
              "      <td>9</td>\n",
              "      <td>1</td>\n",
              "    </tr>\n",
              "  </tbody>\n",
              "</table>\n",
              "</div>"
            ],
            "text/plain": [
              "                                 Ad Topic Line  ...            Timestamp\n",
              "count                                     1000  ...                 1000\n",
              "unique                                    1000  ...                 1000\n",
              "top     Customer-focused transitional strategy  ...  2016-02-29 12:31:57\n",
              "freq                                         1  ...                    1\n",
              "\n",
              "[4 rows x 4 columns]"
            ]
          },
          "metadata": {
            "tags": []
          },
          "execution_count": 28
        }
      ]
    },
    {
      "cell_type": "markdown",
      "metadata": {
        "id": "1ANKDDbBr6T3"
      },
      "source": [
        "It is clearly shown that the \"Ad Topic Line\", \"City\", columns have almost 100% uniquness. 'Counry' col can also be dropped  So it'll not going to contribute much for building the model. Let's drop these columns."
      ]
    },
    {
      "cell_type": "code",
      "metadata": {
        "id": "6sL3cQnJr6T3"
      },
      "source": [
        "# Dropping 'Ad Topic Line' ,'City','Country'col\n",
        "data = data.drop(['Ad Topic Line', 'City', 'Country'], axis=1)\n",
        "\n"
      ],
      "execution_count": 29,
      "outputs": []
    },
    {
      "cell_type": "code",
      "metadata": {
        "id": "l9dUnF5cr6T3"
      },
      "source": [
        "data['Timestamp'] = pd.to_datetime(data['Timestamp'])\n",
        "\n",
        "data['Month'] = data['Timestamp'].dt.month\n",
        "data['Day of month'] = data['Timestamp'].dt.day\n",
        "data['Day of week'] = data['Timestamp'].dt.dayofweek\n",
        "data['Hour'] = data['Timestamp'].dt.hour  \n",
        "data = data.drop(['Timestamp'], axis=1)"
      ],
      "execution_count": 30,
      "outputs": []
    },
    {
      "cell_type": "code",
      "metadata": {
        "id": "Huwhuikqr6T3",
        "outputId": "cad61ad4-8023-4a50-d48b-2ce3ef7121a4"
      },
      "source": [
        "data.head()"
      ],
      "execution_count": null,
      "outputs": [
        {
          "output_type": "execute_result",
          "data": {
            "text/html": [
              "<div>\n",
              "<style scoped>\n",
              "    .dataframe tbody tr th:only-of-type {\n",
              "        vertical-align: middle;\n",
              "    }\n",
              "\n",
              "    .dataframe tbody tr th {\n",
              "        vertical-align: top;\n",
              "    }\n",
              "\n",
              "    .dataframe thead th {\n",
              "        text-align: right;\n",
              "    }\n",
              "</style>\n",
              "<table border=\"1\" class=\"dataframe\">\n",
              "  <thead>\n",
              "    <tr style=\"text-align: right;\">\n",
              "      <th></th>\n",
              "      <th>Daily Time Spent on Site</th>\n",
              "      <th>Age</th>\n",
              "      <th>Area Income</th>\n",
              "      <th>Daily Internet Usage</th>\n",
              "      <th>Male</th>\n",
              "      <th>Clicked on Ad</th>\n",
              "      <th>Month</th>\n",
              "      <th>Day of month</th>\n",
              "      <th>Day of week</th>\n",
              "      <th>Hour</th>\n",
              "    </tr>\n",
              "  </thead>\n",
              "  <tbody>\n",
              "    <tr>\n",
              "      <th>0</th>\n",
              "      <td>68.95</td>\n",
              "      <td>35</td>\n",
              "      <td>61833.90</td>\n",
              "      <td>256.09</td>\n",
              "      <td>0</td>\n",
              "      <td>0</td>\n",
              "      <td>3</td>\n",
              "      <td>27</td>\n",
              "      <td>6</td>\n",
              "      <td>0</td>\n",
              "    </tr>\n",
              "    <tr>\n",
              "      <th>1</th>\n",
              "      <td>80.23</td>\n",
              "      <td>31</td>\n",
              "      <td>68441.85</td>\n",
              "      <td>193.77</td>\n",
              "      <td>1</td>\n",
              "      <td>0</td>\n",
              "      <td>4</td>\n",
              "      <td>4</td>\n",
              "      <td>0</td>\n",
              "      <td>1</td>\n",
              "    </tr>\n",
              "    <tr>\n",
              "      <th>2</th>\n",
              "      <td>69.47</td>\n",
              "      <td>26</td>\n",
              "      <td>59785.94</td>\n",
              "      <td>236.50</td>\n",
              "      <td>0</td>\n",
              "      <td>0</td>\n",
              "      <td>3</td>\n",
              "      <td>13</td>\n",
              "      <td>6</td>\n",
              "      <td>20</td>\n",
              "    </tr>\n",
              "    <tr>\n",
              "      <th>3</th>\n",
              "      <td>74.15</td>\n",
              "      <td>29</td>\n",
              "      <td>54806.18</td>\n",
              "      <td>245.89</td>\n",
              "      <td>1</td>\n",
              "      <td>0</td>\n",
              "      <td>1</td>\n",
              "      <td>10</td>\n",
              "      <td>6</td>\n",
              "      <td>2</td>\n",
              "    </tr>\n",
              "    <tr>\n",
              "      <th>4</th>\n",
              "      <td>68.37</td>\n",
              "      <td>35</td>\n",
              "      <td>73889.99</td>\n",
              "      <td>225.58</td>\n",
              "      <td>0</td>\n",
              "      <td>0</td>\n",
              "      <td>6</td>\n",
              "      <td>3</td>\n",
              "      <td>4</td>\n",
              "      <td>3</td>\n",
              "    </tr>\n",
              "  </tbody>\n",
              "</table>\n",
              "</div>"
            ],
            "text/plain": [
              "   Daily Time Spent on Site  Age  Area Income  Daily Internet Usage  Male  \\\n",
              "0                     68.95   35     61833.90                256.09     0   \n",
              "1                     80.23   31     68441.85                193.77     1   \n",
              "2                     69.47   26     59785.94                236.50     0   \n",
              "3                     74.15   29     54806.18                245.89     1   \n",
              "4                     68.37   35     73889.99                225.58     0   \n",
              "\n",
              "   Clicked on Ad  Month  Day of month  Day of week  Hour  \n",
              "0              0      3            27            6     0  \n",
              "1              0      4             4            0     1  \n",
              "2              0      3            13            6    20  \n",
              "3              0      1            10            6     2  \n",
              "4              0      6             3            4     3  "
            ]
          },
          "metadata": {
            "tags": []
          },
          "execution_count": 19
        }
      ]
    },
    {
      "cell_type": "code",
      "metadata": {
        "colab": {
          "base_uri": "https://localhost:8080/"
        },
        "id": "-ZEKTtSKr6T4",
        "outputId": "bf300a94-c402-4bc3-8fa0-de888a5a0119"
      },
      "source": [
        "# checking for the data type\n",
        "data.info()"
      ],
      "execution_count": 31,
      "outputs": [
        {
          "output_type": "stream",
          "text": [
            "<class 'pandas.core.frame.DataFrame'>\n",
            "RangeIndex: 1000 entries, 0 to 999\n",
            "Data columns (total 10 columns):\n",
            " #   Column                    Non-Null Count  Dtype  \n",
            "---  ------                    --------------  -----  \n",
            " 0   Daily Time Spent on Site  1000 non-null   float64\n",
            " 1   Age                       1000 non-null   int64  \n",
            " 2   Area Income               1000 non-null   float64\n",
            " 3   Daily Internet Usage      1000 non-null   float64\n",
            " 4   Male                      1000 non-null   int64  \n",
            " 5   Clicked on Ad             1000 non-null   int64  \n",
            " 6   Month                     1000 non-null   int64  \n",
            " 7   Day of month              1000 non-null   int64  \n",
            " 8   Day of week               1000 non-null   int64  \n",
            " 9   Hour                      1000 non-null   int64  \n",
            "dtypes: float64(3), int64(7)\n",
            "memory usage: 78.2 KB\n"
          ],
          "name": "stdout"
        }
      ]
    },
    {
      "cell_type": "code",
      "metadata": {
        "colab": {
          "base_uri": "https://localhost:8080/"
        },
        "id": "QB9_fnQor6T4",
        "outputId": "f0a06d67-34f9-4077-ba9e-897deaf9d151"
      },
      "source": [
        "print(f\"The shape of the DatFrame is: {data.shape}, which means there are {data.shape[0]} rows and {data.shape[1]} columns.\")"
      ],
      "execution_count": 32,
      "outputs": [
        {
          "output_type": "stream",
          "text": [
            "The shape of the DatFrame is: (1000, 10), which means there are 1000 rows and 10 columns.\n"
          ],
          "name": "stdout"
        }
      ]
    },
    {
      "cell_type": "markdown",
      "metadata": {
        "id": "ln5NekJEr6T4"
      },
      "source": [
        "## Removing outlier , outlier count is 1% , so overall impact will be very less"
      ]
    },
    {
      "cell_type": "code",
      "metadata": {
        "id": "IUD4cWMTr6T4"
      },
      "source": [
        "data = data[data['Area Income'] > 20000]"
      ],
      "execution_count": 33,
      "outputs": []
    },
    {
      "cell_type": "code",
      "metadata": {
        "colab": {
          "base_uri": "https://localhost:8080/"
        },
        "id": "8vZnMPuJr6T4",
        "outputId": "b31c8ace-7cc2-4f9c-e34b-986dee884664"
      },
      "source": [
        "print(f\"The shape of the DatFrame is: {data.shape}, which means there are {data.shape[0]} rows and {data.shape[1]} columns.\")"
      ],
      "execution_count": 34,
      "outputs": [
        {
          "output_type": "stream",
          "text": [
            "The shape of the DatFrame is: (990, 10), which means there are 990 rows and 10 columns.\n"
          ],
          "name": "stdout"
        }
      ]
    },
    {
      "cell_type": "markdown",
      "metadata": {
        "id": "U8i47X9Xr6T5"
      },
      "source": [
        "## Data splitting"
      ]
    },
    {
      "cell_type": "code",
      "metadata": {
        "id": "ofZgJoT4r6T5"
      },
      "source": [
        "X = data[['Daily Time Spent on Site', 'Age', 'Area Income', 'Daily Internet Usage',  \n",
        "    'Male', 'Month', 'Day of month' ,'Day of week']]\n",
        "y = data['Clicked on Ad']\n",
        "X_train, X_test, y_train, y_test = train_test_split(X, y, test_size=0.33, random_state=42)"
      ],
      "execution_count": 35,
      "outputs": []
    },
    {
      "cell_type": "code",
      "metadata": {
        "colab": {
          "base_uri": "https://localhost:8080/"
        },
        "id": "pm3pNF_4r6T5",
        "outputId": "26ccba3c-63c0-4e7f-fcd0-aff2ba437681"
      },
      "source": [
        "print(\"Training Data :\",X_train.shape)\n",
        "print(\"Testing Data :\",X_test.shape)"
      ],
      "execution_count": 36,
      "outputs": [
        {
          "output_type": "stream",
          "text": [
            "Training Data : (663, 8)\n",
            "Testing Data : (327, 8)\n"
          ],
          "name": "stdout"
        }
      ]
    },
    {
      "cell_type": "markdown",
      "metadata": {
        "id": "u4ZAJr9Qr6T5"
      },
      "source": [
        "## Normalization of the data"
      ]
    },
    {
      "cell_type": "code",
      "metadata": {
        "id": "WfGBpwbAr6T5"
      },
      "source": [
        "#Feature Scaling\n",
        "from sklearn.preprocessing import StandardScaler\n",
        "sc = StandardScaler()\n",
        "X_train = sc.fit_transform(X_train)\n",
        "X_test = sc.transform(X_test)"
      ],
      "execution_count": 37,
      "outputs": []
    },
    {
      "cell_type": "markdown",
      "metadata": {
        "id": "Bsat-QPer6T5"
      },
      "source": [
        "## Building ANN sequencial model"
      ]
    },
    {
      "cell_type": "code",
      "metadata": {
        "id": "p9UsVNU2r6T6"
      },
      "source": [
        "# Initializing the ANN\n",
        "ann = tf.keras.models.Sequential()\n",
        "\n",
        "# Adding the input layer and the first hidden layer\n",
        "ann.add(tf.keras.layers.Dense(units=500, activation='relu'))\n",
        "\n",
        "# Adding the second hidden layer\n",
        "ann.add(tf.keras.layers.Dense(units=500, activation='relu'))\n",
        "\n",
        "# Adding the output layer\n",
        "ann.add(tf.keras.layers.Dense(units=1, activation='sigmoid'))\n",
        "\n",
        "# Part 3 - Training the ANN\n",
        "\n",
        "# Compiling the ANN\n",
        "ann.compile(optimizer = 'adam', loss = 'binary_crossentropy', metrics = ['accuracy'])"
      ],
      "execution_count": 38,
      "outputs": []
    },
    {
      "cell_type": "markdown",
      "metadata": {
        "id": "MVmZficqr6T6"
      },
      "source": [
        "## Fit the model to the training data for some epochs."
      ]
    },
    {
      "cell_type": "code",
      "metadata": {
        "colab": {
          "base_uri": "https://localhost:8080/"
        },
        "id": "ehTbx47kr6T6",
        "outputId": "11e369b4-80ae-4155-ab2e-d1fe6754f80c"
      },
      "source": [
        "# Training the ANN on the Training set\n",
        "ann.fit(X_train, y_train, batch_size = 30, epochs = 100)\n",
        "\n",
        "\n"
      ],
      "execution_count": 39,
      "outputs": [
        {
          "output_type": "stream",
          "text": [
            "Epoch 1/100\n",
            "23/23 [==============================] - 1s 8ms/step - loss: 0.3764 - accuracy: 0.8467\n",
            "Epoch 2/100\n",
            "23/23 [==============================] - 0s 9ms/step - loss: 0.0814 - accuracy: 0.9748\n",
            "Epoch 3/100\n",
            "23/23 [==============================] - 0s 8ms/step - loss: 0.0934 - accuracy: 0.9696\n",
            "Epoch 4/100\n",
            "23/23 [==============================] - 0s 7ms/step - loss: 0.0610 - accuracy: 0.9837\n",
            "Epoch 5/100\n",
            "23/23 [==============================] - 0s 9ms/step - loss: 0.0742 - accuracy: 0.9724\n",
            "Epoch 6/100\n",
            "23/23 [==============================] - 0s 7ms/step - loss: 0.0509 - accuracy: 0.9895\n",
            "Epoch 7/100\n",
            "23/23 [==============================] - 0s 8ms/step - loss: 0.0559 - accuracy: 0.9812\n",
            "Epoch 8/100\n",
            "23/23 [==============================] - 0s 6ms/step - loss: 0.0360 - accuracy: 0.9913\n",
            "Epoch 9/100\n",
            "23/23 [==============================] - 0s 6ms/step - loss: 0.0622 - accuracy: 0.9796\n",
            "Epoch 10/100\n",
            "23/23 [==============================] - 0s 6ms/step - loss: 0.0401 - accuracy: 0.9902\n",
            "Epoch 11/100\n",
            "23/23 [==============================] - 0s 6ms/step - loss: 0.0372 - accuracy: 0.9921\n",
            "Epoch 12/100\n",
            "23/23 [==============================] - 0s 6ms/step - loss: 0.0249 - accuracy: 0.9966\n",
            "Epoch 13/100\n",
            "23/23 [==============================] - 0s 7ms/step - loss: 0.0288 - accuracy: 0.9910\n",
            "Epoch 14/100\n",
            "23/23 [==============================] - 0s 7ms/step - loss: 0.0295 - accuracy: 0.9898\n",
            "Epoch 15/100\n",
            "23/23 [==============================] - 0s 8ms/step - loss: 0.0267 - accuracy: 0.9946\n",
            "Epoch 16/100\n",
            "23/23 [==============================] - 0s 7ms/step - loss: 0.0215 - accuracy: 0.9979\n",
            "Epoch 17/100\n",
            "23/23 [==============================] - 0s 6ms/step - loss: 0.0163 - accuracy: 0.9967\n",
            "Epoch 18/100\n",
            "23/23 [==============================] - 0s 7ms/step - loss: 0.0137 - accuracy: 0.9971\n",
            "Epoch 19/100\n",
            "23/23 [==============================] - 0s 8ms/step - loss: 0.0152 - accuracy: 0.9980\n",
            "Epoch 20/100\n",
            "23/23 [==============================] - 0s 6ms/step - loss: 0.0116 - accuracy: 0.9985\n",
            "Epoch 21/100\n",
            "23/23 [==============================] - 0s 6ms/step - loss: 0.0095 - accuracy: 0.9991\n",
            "Epoch 22/100\n",
            "23/23 [==============================] - 0s 5ms/step - loss: 0.0057 - accuracy: 0.9998\n",
            "Epoch 23/100\n",
            "23/23 [==============================] - 0s 6ms/step - loss: 0.0086 - accuracy: 0.9987\n",
            "Epoch 24/100\n",
            "23/23 [==============================] - 0s 6ms/step - loss: 0.0041 - accuracy: 0.9994\n",
            "Epoch 25/100\n",
            "23/23 [==============================] - 0s 6ms/step - loss: 0.0069 - accuracy: 0.9985\n",
            "Epoch 26/100\n",
            "23/23 [==============================] - 0s 7ms/step - loss: 0.0073 - accuracy: 0.9979\n",
            "Epoch 27/100\n",
            "23/23 [==============================] - 0s 8ms/step - loss: 0.0080 - accuracy: 0.9947\n",
            "Epoch 28/100\n",
            "23/23 [==============================] - 0s 8ms/step - loss: 0.0066 - accuracy: 0.9976\n",
            "Epoch 29/100\n",
            "23/23 [==============================] - 0s 7ms/step - loss: 0.0071 - accuracy: 1.0000\n",
            "Epoch 30/100\n",
            "23/23 [==============================] - 0s 6ms/step - loss: 0.0036 - accuracy: 0.9988\n",
            "Epoch 31/100\n",
            "23/23 [==============================] - 0s 7ms/step - loss: 0.0043 - accuracy: 1.0000\n",
            "Epoch 32/100\n",
            "23/23 [==============================] - 0s 8ms/step - loss: 0.0017 - accuracy: 0.9998\n",
            "Epoch 33/100\n",
            "23/23 [==============================] - 0s 9ms/step - loss: 0.0027 - accuracy: 1.0000\n",
            "Epoch 34/100\n",
            "23/23 [==============================] - 0s 9ms/step - loss: 0.0027 - accuracy: 1.0000\n",
            "Epoch 35/100\n",
            "23/23 [==============================] - 0s 7ms/step - loss: 0.0015 - accuracy: 1.0000\n",
            "Epoch 36/100\n",
            "23/23 [==============================] - 0s 5ms/step - loss: 0.0022 - accuracy: 1.0000\n",
            "Epoch 37/100\n",
            "23/23 [==============================] - 0s 6ms/step - loss: 0.0026 - accuracy: 1.0000\n",
            "Epoch 38/100\n",
            "23/23 [==============================] - 0s 7ms/step - loss: 0.0013 - accuracy: 1.0000\n",
            "Epoch 39/100\n",
            "23/23 [==============================] - 0s 6ms/step - loss: 0.0011 - accuracy: 1.0000\n",
            "Epoch 40/100\n",
            "23/23 [==============================] - 0s 6ms/step - loss: 0.0015 - accuracy: 1.0000\n",
            "Epoch 41/100\n",
            "23/23 [==============================] - 0s 7ms/step - loss: 0.0011 - accuracy: 1.0000\n",
            "Epoch 42/100\n",
            "23/23 [==============================] - 0s 7ms/step - loss: 0.0011 - accuracy: 1.0000\n",
            "Epoch 43/100\n",
            "23/23 [==============================] - 0s 8ms/step - loss: 7.1519e-04 - accuracy: 1.0000\n",
            "Epoch 44/100\n",
            "23/23 [==============================] - 0s 8ms/step - loss: 7.9232e-04 - accuracy: 1.0000\n",
            "Epoch 45/100\n",
            "23/23 [==============================] - 0s 7ms/step - loss: 6.0985e-04 - accuracy: 1.0000\n",
            "Epoch 46/100\n",
            "23/23 [==============================] - 0s 8ms/step - loss: 7.3453e-04 - accuracy: 1.0000\n",
            "Epoch 47/100\n",
            "23/23 [==============================] - 0s 7ms/step - loss: 7.5806e-04 - accuracy: 1.0000\n",
            "Epoch 48/100\n",
            "23/23 [==============================] - 0s 6ms/step - loss: 6.3145e-04 - accuracy: 1.0000\n",
            "Epoch 49/100\n",
            "23/23 [==============================] - 0s 6ms/step - loss: 6.3065e-04 - accuracy: 1.0000\n",
            "Epoch 50/100\n",
            "23/23 [==============================] - 0s 6ms/step - loss: 8.9535e-04 - accuracy: 1.0000\n",
            "Epoch 51/100\n",
            "23/23 [==============================] - 0s 6ms/step - loss: 4.1137e-04 - accuracy: 1.0000\n",
            "Epoch 52/100\n",
            "23/23 [==============================] - 0s 7ms/step - loss: 3.4632e-04 - accuracy: 1.0000\n",
            "Epoch 53/100\n",
            "23/23 [==============================] - 0s 6ms/step - loss: 5.9590e-04 - accuracy: 1.0000\n",
            "Epoch 54/100\n",
            "23/23 [==============================] - 0s 6ms/step - loss: 3.7600e-04 - accuracy: 1.0000\n",
            "Epoch 55/100\n",
            "23/23 [==============================] - 0s 7ms/step - loss: 4.6897e-04 - accuracy: 1.0000\n",
            "Epoch 56/100\n",
            "23/23 [==============================] - 0s 8ms/step - loss: 3.8186e-04 - accuracy: 1.0000\n",
            "Epoch 57/100\n",
            "23/23 [==============================] - 0s 7ms/step - loss: 3.0981e-04 - accuracy: 1.0000\n",
            "Epoch 58/100\n",
            "23/23 [==============================] - 0s 8ms/step - loss: 3.9368e-04 - accuracy: 1.0000\n",
            "Epoch 59/100\n",
            "23/23 [==============================] - 0s 7ms/step - loss: 2.4828e-04 - accuracy: 1.0000\n",
            "Epoch 60/100\n",
            "23/23 [==============================] - 0s 7ms/step - loss: 3.5200e-04 - accuracy: 1.0000\n",
            "Epoch 61/100\n",
            "23/23 [==============================] - 0s 7ms/step - loss: 3.7192e-04 - accuracy: 1.0000\n",
            "Epoch 62/100\n",
            "23/23 [==============================] - 0s 6ms/step - loss: 3.7078e-04 - accuracy: 1.0000\n",
            "Epoch 63/100\n",
            "23/23 [==============================] - 0s 7ms/step - loss: 2.8969e-04 - accuracy: 1.0000\n",
            "Epoch 64/100\n",
            "23/23 [==============================] - 0s 6ms/step - loss: 2.6476e-04 - accuracy: 1.0000\n",
            "Epoch 65/100\n",
            "23/23 [==============================] - 0s 6ms/step - loss: 3.1134e-04 - accuracy: 1.0000\n",
            "Epoch 66/100\n",
            "23/23 [==============================] - 0s 7ms/step - loss: 2.6757e-04 - accuracy: 1.0000\n",
            "Epoch 67/100\n",
            "23/23 [==============================] - 0s 6ms/step - loss: 2.6289e-04 - accuracy: 1.0000\n",
            "Epoch 68/100\n",
            "23/23 [==============================] - 0s 8ms/step - loss: 2.4646e-04 - accuracy: 1.0000\n",
            "Epoch 69/100\n",
            "23/23 [==============================] - 0s 9ms/step - loss: 3.1713e-04 - accuracy: 1.0000\n",
            "Epoch 70/100\n",
            "23/23 [==============================] - 0s 8ms/step - loss: 2.1068e-04 - accuracy: 1.0000\n",
            "Epoch 71/100\n",
            "23/23 [==============================] - 0s 7ms/step - loss: 2.1095e-04 - accuracy: 1.0000\n",
            "Epoch 72/100\n",
            "23/23 [==============================] - 0s 7ms/step - loss: 2.7266e-04 - accuracy: 1.0000\n",
            "Epoch 73/100\n",
            "23/23 [==============================] - 0s 8ms/step - loss: 1.5851e-04 - accuracy: 1.0000\n",
            "Epoch 74/100\n",
            "23/23 [==============================] - 0s 7ms/step - loss: 2.0142e-04 - accuracy: 1.0000\n",
            "Epoch 75/100\n",
            "23/23 [==============================] - 0s 7ms/step - loss: 1.5905e-04 - accuracy: 1.0000\n",
            "Epoch 76/100\n",
            "23/23 [==============================] - 0s 8ms/step - loss: 1.8505e-04 - accuracy: 1.0000\n",
            "Epoch 77/100\n",
            "23/23 [==============================] - 0s 8ms/step - loss: 1.6986e-04 - accuracy: 1.0000\n",
            "Epoch 78/100\n",
            "23/23 [==============================] - 0s 6ms/step - loss: 1.8219e-04 - accuracy: 1.0000\n",
            "Epoch 79/100\n",
            "23/23 [==============================] - 0s 6ms/step - loss: 1.6575e-04 - accuracy: 1.0000\n",
            "Epoch 80/100\n",
            "23/23 [==============================] - 0s 7ms/step - loss: 1.7633e-04 - accuracy: 1.0000\n",
            "Epoch 81/100\n",
            "23/23 [==============================] - 0s 6ms/step - loss: 1.2345e-04 - accuracy: 1.0000\n",
            "Epoch 82/100\n",
            "23/23 [==============================] - 0s 8ms/step - loss: 1.3943e-04 - accuracy: 1.0000\n",
            "Epoch 83/100\n",
            "23/23 [==============================] - 0s 8ms/step - loss: 1.8271e-04 - accuracy: 1.0000\n",
            "Epoch 84/100\n",
            "23/23 [==============================] - 0s 7ms/step - loss: 1.6627e-04 - accuracy: 1.0000\n",
            "Epoch 85/100\n",
            "23/23 [==============================] - 0s 7ms/step - loss: 1.4792e-04 - accuracy: 1.0000\n",
            "Epoch 86/100\n",
            "23/23 [==============================] - 0s 7ms/step - loss: 1.4003e-04 - accuracy: 1.0000\n",
            "Epoch 87/100\n",
            "23/23 [==============================] - 0s 9ms/step - loss: 1.0894e-04 - accuracy: 1.0000\n",
            "Epoch 88/100\n",
            "23/23 [==============================] - 0s 7ms/step - loss: 2.2413e-04 - accuracy: 1.0000\n",
            "Epoch 89/100\n",
            "23/23 [==============================] - 0s 7ms/step - loss: 1.9632e-04 - accuracy: 1.0000\n",
            "Epoch 90/100\n",
            "23/23 [==============================] - 0s 6ms/step - loss: 1.1563e-04 - accuracy: 1.0000\n",
            "Epoch 91/100\n",
            "23/23 [==============================] - 0s 7ms/step - loss: 1.0434e-04 - accuracy: 1.0000\n",
            "Epoch 92/100\n",
            "23/23 [==============================] - 0s 7ms/step - loss: 1.2786e-04 - accuracy: 1.0000\n",
            "Epoch 93/100\n",
            "23/23 [==============================] - 0s 7ms/step - loss: 1.6884e-04 - accuracy: 1.0000\n",
            "Epoch 94/100\n",
            "23/23 [==============================] - 0s 6ms/step - loss: 1.0003e-04 - accuracy: 1.0000\n",
            "Epoch 95/100\n",
            "23/23 [==============================] - 0s 6ms/step - loss: 1.1801e-04 - accuracy: 1.0000\n",
            "Epoch 96/100\n",
            "23/23 [==============================] - 0s 6ms/step - loss: 9.0530e-05 - accuracy: 1.0000\n",
            "Epoch 97/100\n",
            "23/23 [==============================] - 0s 8ms/step - loss: 1.2492e-04 - accuracy: 1.0000\n",
            "Epoch 98/100\n",
            "23/23 [==============================] - 0s 6ms/step - loss: 9.8680e-05 - accuracy: 1.0000\n",
            "Epoch 99/100\n",
            "23/23 [==============================] - 0s 8ms/step - loss: 1.1217e-04 - accuracy: 1.0000\n",
            "Epoch 100/100\n",
            "23/23 [==============================] - 0s 7ms/step - loss: 8.8389e-05 - accuracy: 1.0000\n"
          ],
          "name": "stdout"
        },
        {
          "output_type": "execute_result",
          "data": {
            "text/plain": [
              "<tensorflow.python.keras.callbacks.History at 0x7ff54fc9ed10>"
            ]
          },
          "metadata": {
            "tags": []
          },
          "execution_count": 39
        }
      ]
    },
    {
      "cell_type": "code",
      "metadata": {
        "id": "BMeItvfar6T6"
      },
      "source": [
        "y_test_pred =ann.predict_classes(X_test)"
      ],
      "execution_count": 40,
      "outputs": []
    },
    {
      "cell_type": "markdown",
      "metadata": {
        "id": "7tx889Yar6T7"
      },
      "source": [
        "# Accuracy matrics of ANN"
      ]
    },
    {
      "cell_type": "code",
      "metadata": {
        "colab": {
          "base_uri": "https://localhost:8080/",
          "height": 534
        },
        "id": "77tUNruNr6T7",
        "outputId": "2c9fa718-4c94-4b73-ec8b-237b9e3ca751"
      },
      "source": [
        "plt.rcParams['figure.figsize']=8,8\n",
        "sns.heatmap(confusion_matrix(y_test,y_test_pred), annot=True)"
      ],
      "execution_count": 42,
      "outputs": [
        {
          "output_type": "execute_result",
          "data": {
            "text/plain": [
              "<matplotlib.axes._subplots.AxesSubplot at 0x7ff53eb46410>"
            ]
          },
          "metadata": {
            "tags": []
          },
          "execution_count": 42
        },
        {
          "output_type": "display_data",
          "data": {
            "image/png": "[encoded data removed]",
            "text/plain": [
              "<Figure size 576x576 with 2 Axes>"
            ]
          },
          "metadata": {
            "tags": []
          }
        }
      ]
    },
    {
      "cell_type": "code",
      "metadata": {
        "colab": {
          "base_uri": "https://localhost:8080/"
        },
        "id": "23AT-nyfr6T7",
        "outputId": "2e0dae52-ee06-4cc7-daa0-459fe8a8e587"
      },
      "source": [
        "print(accuracy_score(y_test, y_test_pred))\n",
        "print(classification_report(y_test,y_test_pred))"
      ],
      "execution_count": 43,
      "outputs": [
        {
          "output_type": "stream",
          "text": [
            "0.9480122324159022\n",
            "              precision    recall  f1-score   support\n",
            "\n",
            "           0       0.94      0.96      0.95       167\n",
            "           1       0.96      0.93      0.95       160\n",
            "\n",
            "    accuracy                           0.95       327\n",
            "   macro avg       0.95      0.95      0.95       327\n",
            "weighted avg       0.95      0.95      0.95       327\n",
            "\n"
          ],
          "name": "stdout"
        }
      ]
    },
    {
      "cell_type": "code",
      "metadata": {
        "id": "nU62WvT9weDR"
      },
      "source": [
        ""
      ],
      "execution_count": null,
      "outputs": []
    },
    {
      "cell_type": "markdown",
      "metadata": {
        "id": "ciNh1p8fr6T7"
      },
      "source": [
        "# Accuracy is 94% for test data , hence aforesaid model is good model"
      ]
    },
    {
      "cell_type": "code",
      "metadata": {
        "id": "FvBLYwUsr6T7"
      },
      "source": [
        ""
      ],
      "execution_count": null,
      "outputs": []
    }
  ]
}